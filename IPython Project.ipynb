{
 "metadata": {
  "name": "",
  "signature": "sha256:322c240341edf9f5e98616c60c7619323ae23bcdf6215d08b9759e2200ce209e"
 },
 "nbformat": 3,
 "nbformat_minor": 0,
 "worksheets": [
  {
   "cells": [
    {
     "cell_type": "heading",
     "level": 1,
     "metadata": {
      "slideshow": {
       "slide_type": "slide"
      }
     },
     "source": [
      "IPython Project"
     ]
    },
    {
     "cell_type": "markdown",
     "metadata": {},
     "source": [
      "<img src=\"images/ipython_logo.png\" height=\"65px\">"
     ]
    },
    {
     "cell_type": "heading",
     "level": 2,
     "metadata": {
      "slideshow": {
       "slide_type": "slide"
      }
     },
     "source": [
      "Overview"
     ]
    },
    {
     "cell_type": "markdown",
     "metadata": {
      "slideshow": {
       "slide_type": "-"
      }
     },
     "source": [
      "IPython is an open source, interactive computing environment for Python and other languages."
     ]
    },
    {
     "cell_type": "code",
     "collapsed": false,
     "input": [
      "website('http://ipython.org')"
     ],
     "language": "python",
     "metadata": {},
     "outputs": []
    },
    {
     "cell_type": "markdown",
     "metadata": {},
     "source": [
      "* Started in 2001 by Fernando Perez, who continues to lead the project from UC Berkeley\n",
      "* Open source, BSD license"
     ]
    },
    {
     "cell_type": "heading",
     "level": 2,
     "metadata": {
      "slideshow": {
       "slide_type": "slide"
      }
     },
     "source": [
      "Funding"
     ]
    },
    {
     "cell_type": "markdown",
     "metadata": {},
     "source": [
      "* Over the past 13 years, much of IPython has been \"funded\" by volunteer developer time.\n",
      "* Past funding: NASA, DOD, NIH, Enthought Corporation\n",
      "* Current funding:\n",
      "\n",
      "<img src=\"images/sloan-logo.png\" width=\"300px\">\n",
      "<img src=\"images/microsoft-logo.png\" width=\"300px\">\n",
      "<img src=\"images/simons-logo.png\" width=\"300px\">\n",
      "<img src=\"images/nsf-logo.png\" width=\"75px\">\n",
      "<img src=\"images/rackspace-logo.png\" width=\"300px\">"
     ]
    },
    {
     "cell_type": "heading",
     "level": 2,
     "metadata": {
      "slideshow": {
       "slide_type": "slide"
      }
     },
     "source": [
      "Development team"
     ]
    },
    {
     "cell_type": "markdown",
     "metadata": {},
     "source": [
      "* IPython is developed by a talented team of $\\approx15$ core developers and a larger community of $\\approx100$ contributors.\n",
      "* Through the above funding sources, there are currently 6 full time people working on IPython at **UC Berkeley** and **Cal Poly**."
     ]
    },
    {
     "cell_type": "code",
     "collapsed": false,
     "input": [
      "import ipythonproject"
     ],
     "language": "python",
     "metadata": {},
     "outputs": []
    },
    {
     "cell_type": "code",
     "collapsed": false,
     "input": [
      "ipythonproject.core_devs()"
     ],
     "language": "python",
     "metadata": {},
     "outputs": []
    },
    {
     "cell_type": "heading",
     "level": 2,
     "metadata": {
      "slideshow": {
       "slide_type": "slide"
      }
     },
     "source": [
      "The IPython architecture"
     ]
    },
    {
     "cell_type": "markdown",
     "metadata": {},
     "source": [
      "IPython has a powerful, open architecture for executing code interactively across networks:\n",
      "\n",
      "* **Kernel:** runs code and returns results over a network.\n",
      "* **Frontend:** interactive user interface that enables the user to type code and see results.\n",
      "* **Interactive Computing Protocol**: JSON/WebSocket/ZeroMQ based network protocol that allows kernels and frontends to talk."
     ]
    },
    {
     "cell_type": "code",
     "collapsed": false,
     "input": [
      "Image(\"images/FrontendKernel.png\")"
     ],
     "language": "python",
     "metadata": {},
     "outputs": []
    },
    {
     "cell_type": "markdown",
     "metadata": {},
     "source": [
      "This architecture has enabled us to build a set of reusable components that can be assembled like **computational Legos** for a wide range of purposes. At its core IPython is an architecture for building interactive computing systems.\n",
      "\n",
      "As I will describe in a few minutes, **this entire architecture is language neutral,** meaning that you can use it to write and run code in a wide range of programming languages."
     ]
    },
    {
     "cell_type": "heading",
     "level": 2,
     "metadata": {
      "slideshow": {
       "slide_type": "slide"
      }
     },
     "source": [
      "IPython Console"
     ]
    },
    {
     "cell_type": "markdown",
     "metadata": {},
     "source": [
      "IPython started as a terminal based interactive console with tab completion, integrated help, plotting support, etc. This runs the Python based kernel in proces or out of process:"
     ]
    },
    {
     "cell_type": "code",
     "collapsed": false,
     "input": [
      "Image('images/ipython_console.png')"
     ],
     "language": "python",
     "metadata": {},
     "outputs": []
    },
    {
     "cell_type": "heading",
     "level": 2,
     "metadata": {
      "slideshow": {
       "slide_type": "slide"
      }
     },
     "source": [
      "IPython Qt Console"
     ]
    },
    {
     "cell_type": "markdown",
     "metadata": {},
     "source": [
      "The Qt Console Console provides another frontend with inline plotting and multiline code editing."
     ]
    },
    {
     "cell_type": "code",
     "collapsed": false,
     "input": [
      "Image('images/ipython_qtconsole.png')"
     ],
     "language": "python",
     "metadata": {},
     "outputs": []
    },
    {
     "cell_type": "heading",
     "level": 2,
     "metadata": {
      "slideshow": {
       "slide_type": "slide"
      }
     },
     "source": [
      "IPython.parallel"
     ]
    },
    {
     "cell_type": "markdown",
     "metadata": {},
     "source": [
      "This same abstraction of running code remotely enables a high-level parallel computing framework."
     ]
    },
    {
     "cell_type": "code",
     "collapsed": false,
     "input": [
      "Image(\"images/ParallelKernels.png\")"
     ],
     "language": "python",
     "metadata": {},
     "outputs": []
    },
    {
     "cell_type": "markdown",
     "metadata": {},
     "source": [
      "On November 14, 2013, IBM [announced](http://www.forbes.com/sites/bruceupbin/2013/11/14/ibm-opens-up-watson-as-a-web-service/) that it was making its Jeopardy playing supercomputer, [Watson](http://www-03.ibm.com/innovation/us/watson/), available to developers on the internet as a service. In the summer of 2013, researchers on the Watson team [revealed](http://conference.scipy.org/scipy2013/presentation_detail.php?id=169) that they were using the IPython Notebook and `IPython.parallel` to improve Watson's performance and capabilities.\n",
      "\n",
      "Before:\n",
      "\n",
      "* 8000 lines of Java code\n",
      "* 2 minutes per analysis run.\n",
      "\n",
      "After:\n",
      "\n",
      "* 220 lines of Python code.\n",
      "* 2 seconds per analysis run."
     ]
    },
    {
     "cell_type": "heading",
     "level": 2,
     "metadata": {
      "slideshow": {
       "slide_type": "slide"
      }
     },
     "source": [
      "The IPython Notebook"
     ]
    },
    {
     "cell_type": "markdown",
     "metadata": {},
     "source": [
      "The IPython Notebook is a web-based interactive computing environment that spans the full range of data science and scientific computing related activities:\n",
      "\n",
      "1. Individual exploration, analysis and visualization\n",
      "2. Debugging, testing\n",
      "3. Production runs\n",
      "4. Parallel computing\n",
      "5. Collaboration\n",
      "6. Publication\n",
      "7. Presentation\n",
      "8. Teaching/Learning\n",
      "\n",
      "The Notebook web application spans all of these activities by enabling users to create and share reproducible and interactive documents that combine:\n",
      "\n",
      "* Live code\n",
      "* Narrative text\n",
      "* Mathematical equations (LaTeX)\n",
      "* Nested headings\n",
      "* Images, videos, HTML, JavaScript\n",
      "* Interactive JavaScript/HTML/CSS widgets"
     ]
    },
    {
     "cell_type": "heading",
     "level": 2,
     "metadata": {
      "slideshow": {
       "slide_type": "slide"
      }
     },
     "source": [
      "IPython.nbconvert"
     ]
    },
    {
     "cell_type": "markdown",
     "metadata": {},
     "source": [
      "`IPython.nbconvert` is a command line tools and Python package that can convert notebook documents to and from a wide range of formats:\n",
      "\n",
      "* PDF\n",
      "* Static HTML\n",
      "* Markdown\n",
      "* [reveal.js](http://lab.hakim.se/reveal-js/#/) slide shows\n",
      "\n",
      "Let's covert this very notebook to static HTML:"
     ]
    },
    {
     "cell_type": "code",
     "collapsed": false,
     "input": [
      "!ipython nbconvert --to html \"IPython Project.ipynb\""
     ],
     "language": "python",
     "metadata": {},
     "outputs": []
    },
    {
     "cell_type": "markdown",
     "metadata": {},
     "source": [
      "We can then open and view that static HTML web page:"
     ]
    },
    {
     "cell_type": "code",
     "collapsed": false,
     "input": [
      "!open ./IPython\\ Project.html"
     ],
     "language": "python",
     "metadata": {},
     "outputs": []
    },
    {
     "cell_type": "heading",
     "level": 2,
     "metadata": {
      "slideshow": {
       "slide_type": "slide"
      }
     },
     "source": [
      "nbviewer.ipython.org"
     ]
    },
    {
     "cell_type": "markdown",
     "metadata": {},
     "source": [
      "nbviewer is a website for sharing IPython notebook documents on the web. It uses nbconvert to create a static HTML rendering of any notebook on the internet. This makes it easy to share notebooks with anyone in the world, without their having to install, or even know anything about, IPython."
     ]
    },
    {
     "cell_type": "code",
     "collapsed": false,
     "input": [
      "website('http://nbviewer.ipython.org')"
     ],
     "language": "python",
     "metadata": {},
     "outputs": []
    },
    {
     "cell_type": "heading",
     "level": 2,
     "metadata": {
      "slideshow": {
       "slide_type": "slide"
      }
     },
     "source": [
      "Styling"
     ]
    },
    {
     "cell_type": "code",
     "collapsed": false,
     "input": [
      "from IPython.display import display, Image, HTML\n",
      "from talktools import website, nbviewer"
     ],
     "language": "python",
     "metadata": {},
     "outputs": [],
     "prompt_number": 1
    },
    {
     "cell_type": "code",
     "collapsed": false,
     "input": [
      "HTML(\"\"\"\n",
      "<style>\n",
      "div.cell.slideshow-slide {margin-top: 500px}\n",
      "</style>\n",
      "\"\"\")"
     ],
     "language": "python",
     "metadata": {},
     "outputs": [
      {
       "html": [
        "\n",
        "<style>\n",
        "div.cell.slideshow-slide {margin-top: 500px}\n",
        "</style>\n"
       ],
       "metadata": {},
       "output_type": "pyout",
       "prompt_number": 2,
       "text": [
        "<IPython.core.display.HTML object>"
       ]
      }
     ],
     "prompt_number": 2
    },
    {
     "cell_type": "code",
     "collapsed": false,
     "input": [],
     "language": "python",
     "metadata": {},
     "outputs": []
    }
   ],
   "metadata": {}
  }
 ]
}