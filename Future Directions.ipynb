{
 "cells": [
  {
   "cell_type": "markdown",
   "metadata": {},
   "source": [
    "# Future Directions"
   ]
  },
  {
   "cell_type": "markdown",
   "metadata": {},
   "source": [
    "## Cloud hosting"
   ]
  },
  {
   "cell_type": "markdown",
   "metadata": {},
   "source": [
    "We are working with Rackspace to explore ways of hosting the Notebook in the cloud.\n",
    "\n",
    "https://tmpnb.org"
   ]
  },
  {
   "cell_type": "markdown",
   "metadata": {},
   "source": [
    "## Multiuser notebook server"
   ]
  },
  {
   "cell_type": "markdown",
   "metadata": {},
   "source": [
    "Our [jupyterhub](https://github.com/jupyter/jupyterhub) project offers a multiuser notebook server for running within Universities, Companies, etc.:\n",
    "\n",
    "* Install on a single, centralized server or cluster.\n",
    "* Each UNIX user immediately has a notebook observer and can see their notebooks, files, etc.\n",
    "* Extensible authentication, security, collaboration, notebook spawning.\n",
    "\n",
    "In the next few months jupyterhub will be installed on the college cluster and freely available for all students and faculty."
   ]
  },
  {
   "cell_type": "markdown",
   "metadata": {},
   "source": [
    "## nbgrader"
   ]
  },
  {
   "cell_type": "markdown",
   "metadata": {},
   "source": [
    "Our [nbgrader](https://github.com/jupyter/nbgrader) project offers tools for teaching courses with notebooks:\n",
    "\n",
    "* Automated assignment creation.\n",
    "* Automated and human directed grading.\n",
    "* Course management.\n",
    "\n",
    "Here is a [sample assignment](/notebooks/github/datascience4e/ds4e-homework/Content/Data/BasicPandas.ipynb)"
   ]
  },
  {
   "cell_type": "markdown",
   "metadata": {},
   "source": [
    "## Open curriculum for data science"
   ]
  },
  {
   "cell_type": "markdown",
   "metadata": {},
   "source": [
    "We are working on open-source, notebook based curriculum for Data Science."
   ]
  }
 ],
 "metadata": {
  "kernelspec": {
   "display_name": "Python 2",
   "language": "python",
   "name": "python2"
  },
  "language_info": {
   "codemirror_mode": {
    "name": "ipython",
    "version": 2
   },
   "file_extension": ".py",
   "mimetype": "text/x-python",
   "name": "python",
   "nbconvert_exporter": "python",
   "pygments_lexer": "ipython2",
   "version": "2.7.9"
  }
 },
 "nbformat": 4,
 "nbformat_minor": 0
}
