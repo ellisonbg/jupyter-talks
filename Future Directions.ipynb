{
 "metadata": {
  "name": "",
  "signature": "sha256:122b9be69c0e9427732078ec2b2dacff9a88fce9e180a58a0d6a1811ea50fa05"
 },
 "nbformat": 3,
 "nbformat_minor": 0,
 "worksheets": [
  {
   "cells": [
    {
     "cell_type": "markdown",
     "metadata": {},
     "source": [
      "# Future Directions"
     ]
    },
    {
     "cell_type": "markdown",
     "metadata": {},
     "source": [
      "## Cloud hosting"
     ]
    },
    {
     "cell_type": "markdown",
     "metadata": {},
     "source": [
      "We are working with Rackspace to explore ways of hosting the Notebook in the cloud.\n",
      "\n",
      "https://tmpnb.org"
     ]
    },
    {
     "cell_type": "markdown",
     "metadata": {},
     "source": [
      "## Multiuser notebook server"
     ]
    },
    {
     "cell_type": "markdown",
     "metadata": {},
     "source": [
      "Our [jupyterhub](https://github.com/jupyter/jupyterhub) project offers a multiuser notebook server for running within Universities, Companies, etc.:\n",
      "\n",
      "* Install on a single, centralized server or cluster.\n",
      "* Each UNIX user immediately has a notebook observer and can see their notebooks, files, etc.\n",
      "* Extensible authentication, security, collaboration, notebook spawning.\n",
      "\n",
      "In the next few months jupyterhub will be installed on the college cluster and freely available for all students and faculty."
     ]
    },
    {
     "cell_type": "markdown",
     "metadata": {},
     "source": [
      "## nbgrader"
     ]
    },
    {
     "cell_type": "markdown",
     "metadata": {},
     "source": [
      "Our [nbgrader](https://github.com/jupyter/nbgrader) project offers tools for teaching courses with notebooks:\n",
      "\n",
      "* Automated assignment creation.\n",
      "* Automated and human directed grading.\n",
      "* Course management.\n",
      "\n",
      "Here is a [sample assignment](/notebooks/github/datascience4e/ds4e-homework/Content/Data/BasicPandas.ipynb)"
     ]
    },
    {
     "cell_type": "markdown",
     "metadata": {},
     "source": [
      "## Open curriculum for data science"
     ]
    },
    {
     "cell_type": "markdown",
     "metadata": {},
     "source": [
      "We are working on open-source, notebook based curriculum for Data Science."
     ]
    },
    {
     "cell_type": "markdown",
     "metadata": {},
     "source": [
      "## Terminal and text editor"
     ]
    },
    {
     "cell_type": "markdown",
     "metadata": {},
     "source": [
      "The next version of the notebook will also have:\n",
      "\n",
      "* In browser terminal (even runs emacs/vi!).\n",
      "* In browser text editor.\n",
      "\n",
      "Here is a demo of the new [terminal](http://localhost:8888/terminals/new)."
     ]
    }
   ],
   "metadata": {}
  }
 ]
}