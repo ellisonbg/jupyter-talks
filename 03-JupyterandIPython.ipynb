{
 "cells": [
  {
   "cell_type": "markdown",
   "metadata": {
    "slideshow": {
     "slide_type": "slide"
    }
   },
   "source": [
    "# Project Jupyter and IPython"
   ]
  },
  {
   "cell_type": "markdown",
   "metadata": {
    "slideshow": {
     "slide_type": "slide"
    }
   },
   "source": [
    "## Overview"
   ]
  },
  {
   "cell_type": "markdown",
   "metadata": {},
   "source": [
    "Jupyter and IPython are a pair of open source projects that together offer an open-source (BSD-licensed), interactive computing environment for Python, Julia, R and other languages.\n",
    "\n",
    "---\n",
    "\n",
    "<div class=\"alert bg-primary\"> Enable the creation and sharing of computational narratives across a wide range of contexts and audiences </div>\n",
    "<div class=\"alert bg-primary\"> Make computational reproducibility possible and enjoyable </div>\n",
    "<div class=\"alert bg-primary\"> Minimize the \"distance\" between a human user and their code/data through interactivity </div>"
   ]
  },
  {
   "cell_type": "code",
   "execution_count": 1,
   "metadata": {
    "collapsed": false
   },
   "outputs": [
    {
     "data": {
      "text/html": [
       "<style>\n",
       ".output_png img {\n",
       "    display: block;\n",
       "    margin-left: auto;\n",
       "    margin-right: auto;\n",
       "    margin-top: 16px;\n",
       "    margin-bottom: 16px;\n",
       "    padding: 16px;\n",
       "    box-shadow: 0 4px 5px 0 rgba(0, 0, 0, 0.14),\n",
       "                0 1px 10px 0 rgba(0, 0, 0, 0.12),\n",
       "                0 2px 4px -1px rgba(0, 0, 0, 0.2);\n",
       "}\n",
       "\n",
       "</style>"
      ],
      "text/plain": [
       "<IPython.core.display.HTML object>"
      ]
     },
     "metadata": {},
     "output_type": "display_data"
    }
   ],
   "source": [
    "%load_ext load_style\n",
    "%load_style images-pad.css\n",
    "from IPython.display import Image"
   ]
  },
  {
   "cell_type": "markdown",
   "metadata": {
    "slideshow": {
     "slide_type": "slide"
    }
   },
   "source": [
    "## IPython"
   ]
  },
  {
   "cell_type": "code",
   "execution_count": 2,
   "metadata": {
    "collapsed": false
   },
   "outputs": [
    {
     "data": {
      "image/png": "[encoded data removed]",
      "text/plain": [
       "<IPython.core.display.Image object>"
      ]
     },
     "execution_count": 2,
     "metadata": {
      "image/png": {
       "width": 400
      }
     },
     "output_type": "execute_result"
    }
   ],
   "source": [
    "Image(\"images/ipython_logo.png\", width=400)"
   ]
  },
  {
   "cell_type": "markdown",
   "metadata": {},
   "source": [
    "* Started in 2001 by Fernando Perez, who continues to lead the project from UC Berkeley.\n",
    "* I joined in 2004.\n",
    "* Originally focused on interactive computing in **Python** only.\n",
    "* I wrote the IPython Notebook in 2011.\n",
    "* Starting in 2012, IPython began to include other languages such as Julia, R, Ruby, etc.\n",
    "* Moving forward, IPython contains only the Python specific parts of the architecture:\n",
    "  - Interactive Python shell\n",
    "  - A kernel for running Python code in the Jupyter architecture\n",
    "  - Tools for interactive parallel computing in Python"
   ]
  },
  {
   "cell_type": "markdown",
   "metadata": {
    "slideshow": {
     "slide_type": "slide"
    }
   },
   "source": [
    "## Jupyter"
   ]
  },
  {
   "cell_type": "code",
   "execution_count": 3,
   "metadata": {
    "collapsed": false
   },
   "outputs": [
    {
     "data": {
      "image/png": "[encoded data removed]",
      "text/plain": [
       "<IPython.core.display.Image object>"
      ]
     },
     "execution_count": 3,
     "metadata": {
      "image/png": {
       "width": 400
      }
     },
     "output_type": "execute_result"
    }
   ],
   "source": [
    "Image(\"images/jupyter_logo.png\", width=400)"
   ]
  },
  {
   "cell_type": "markdown",
   "metadata": {},
   "source": [
    "### http://jupyter.org\n",
    "\n",
    "* Founded in the Summer of 2014 by the IPython development team.\n",
    "* Goal: carry forward the above goals of reproducible interactive computing for all programming languages:\n",
    "  - Python\n",
    "  - Julia\n",
    "  - R\n",
    "  - Scala\n",
    "  - ...\n",
    "  - See [this page](https://github.com/ipython/ipython/wiki/IPython%20kernels%20for%20other%20languages) for\n",
    "    a list of the >50 currently supported languages.\n",
    "* A home for the language independent parts of the architecture:\n",
    "  - A network protocol for applications to talk to kernels that run code for interactive computations.\n",
    "  - A set of applications that enable users to write and run code on those kernels.\n",
    "  - Notebook file format and conversion tools (nbconvert).\n",
    "- Notebook sharing service (https://nbviewer.jupyter.org/)."
   ]
  }
 ],
 "metadata": {
  "kernelspec": {
   "display_name": "Python 3",
   "language": "python",
   "name": "python3"
  },
  "language_info": {
   "codemirror_mode": {
    "name": "ipython",
    "version": 3
   },
   "file_extension": ".py",
   "mimetype": "text/x-python",
   "name": "python",
   "nbconvert_exporter": "python",
   "pygments_lexer": "ipython3",
   "version": "3.5.2"
  }
 },
 "nbformat": 4,
 "nbformat_minor": 1
}
