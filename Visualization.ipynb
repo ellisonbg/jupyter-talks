{
 "metadata": {
  "name": "",
  "signature": "sha256:9e5d3758e780af17382bf8bbce0a42644dd2b5d5f6256a62840c2b4414063206"
 },
 "nbformat": 3,
 "nbformat_minor": 0,
 "worksheets": [
  {
   "cells": [
    {
     "cell_type": "heading",
     "level": 1,
     "metadata": {
      "slideshow": {
       "slide_type": "slide"
      }
     },
     "source": [
      "Plotting and visualization"
     ]
    },
    {
     "cell_type": "markdown",
     "metadata": {},
     "source": [
      "One of the main usage cases for this display architecture is plotting and visualization. In the last two years, there has been an explosion of plotting and visualization libraries in Python and other languages. That has largely been fueled by visualization moving to the web (d3.js) in IPython and other similar environments.\n",
      "\n",
      "Giving a detailed and thorough overview of visualization in Python would require an entirely separate talk. The purpose here is to show a few of the visualization tools and their integration with the IPython Notebook."
     ]
    },
    {
     "cell_type": "heading",
     "level": 2,
     "metadata": {
      "slideshow": {
       "slide_type": "slide"
      }
     },
     "source": [
      "matplotlib"
     ]
    },
    {
     "cell_type": "markdown",
     "metadata": {},
     "source": [
      "The foundation for plotting and visualization in Python is [matplotlib](). While there are newer visualizations libraries, almost all of them use matplotlib as a base layer.\n",
      "\n",
      "IPython has a long history of tight integration with matplotlib. Inline plotting in the Notebook is enabled using `%matplotlib inline`:"
     ]
    },
    {
     "cell_type": "code",
     "collapsed": false,
     "input": [
      "%matplotlib inline\n",
      "import matplotlib.pyplot as plt\n",
      "import matplotlib.mlab as mlab\n",
      "import numpy as np"
     ],
     "language": "python",
     "metadata": {},
     "outputs": []
    },
    {
     "cell_type": "markdown",
     "metadata": {},
     "source": [
      "Here is a simple plot from the [matplotlib gallery](http://matplotlib.org/gallery.html):"
     ]
    },
    {
     "cell_type": "code",
     "collapsed": false,
     "input": [
      "# example data\n",
      "mu = 100 # mean of distribution\n",
      "sigma = 15 # standard deviation of distribution\n",
      "x = mu + sigma * np.random.randn(10000)\n",
      "\n",
      "num_bins = 50\n",
      "# the histogram of the data\n",
      "n, bins, patches = plt.hist(x, num_bins, normed=1, facecolor='green', alpha=0.5)\n",
      "# add a 'best fit' line\n",
      "y = mlab.normpdf(bins, mu, sigma)\n",
      "plt.plot(bins, y, 'r--')\n",
      "plt.xlabel('Smarts')\n",
      "plt.ylabel('Probability')\n",
      "plt.title(r'Histogram of IQ: $\\mu=100$, $\\sigma=15$')\n",
      "\n",
      "# Tweak spacing to prevent clipping of ylabel\n",
      "plt.subplots_adjust(left=0.15)"
     ],
     "language": "python",
     "metadata": {},
     "outputs": []
    },
    {
     "cell_type": "heading",
     "level": 2,
     "metadata": {
      "slideshow": {
       "slide_type": "slide"
      }
     },
     "source": [
      "mpld3"
     ]
    },
    {
     "cell_type": "markdown",
     "metadata": {},
     "source": [
      "The [d3.js](http://d3js.org/) JavaScript library offers a powerful approach for interactive visualization in modern web browsers. The [mpld3](http://mpld3.github.io/) Python package adds d3 based rendering to matplotlib. This provides interactivity (pan, zoom, hover, etc.) while maintaining the same matplotlib APIs. These interactive visualizations also display on http://nbviewer.ipython.org."
     ]
    },
    {
     "cell_type": "code",
     "collapsed": false,
     "input": [
      "import mpld3\n",
      "mpld3.enable_notebook()"
     ],
     "language": "python",
     "metadata": {},
     "outputs": []
    },
    {
     "cell_type": "markdown",
     "metadata": {},
     "source": [
      "Here is an example of a 2d scatter plot with tooltips for each data point:"
     ]
    },
    {
     "cell_type": "code",
     "collapsed": false,
     "input": [
      "fig, ax = plt.subplots(subplot_kw=dict(axisbg='#EEEEEE'))\n",
      "N = 100\n",
      "\n",
      "scatter = ax.scatter(np.random.normal(size=N),\n",
      "                     np.random.normal(size=N),\n",
      "                     c=np.random.random(size=N),\n",
      "                     s=1000 * np.random.random(size=N),\n",
      "                     alpha=0.3,\n",
      "                     cmap=plt.cm.jet)\n",
      "ax.grid(color='white', linestyle='solid')\n",
      "\n",
      "ax.set_title(\"Scatter Plot (with tooltips!)\", size=20)\n",
      "\n",
      "labels = ['point {0}'.format(i + 1) for i in range(N)]\n",
      "tooltip = mpld3.plugins.PointLabelTooltip(scatter, labels=labels)\n",
      "mpld3.plugins.connect(fig, tooltip)"
     ],
     "language": "python",
     "metadata": {},
     "outputs": []
    },
    {
     "cell_type": "heading",
     "level": 2,
     "metadata": {
      "slideshow": {
       "slide_type": "slide"
      }
     },
     "source": [
      "Vincent"
     ]
    },
    {
     "cell_type": "markdown",
     "metadata": {},
     "source": [
      "[Vincent](https://vincent.readthedocs.org/en/latest/) is a visualization library that uses the [Vega](http://trifacta.github.io/vega/) visualization grammar to build d3.js based visualizations in the Notebook and on http://nbviewer.ipython.org. Visualization objects in Vincent utilize IPython's display architecture with HTML and JavaScript representations."
     ]
    },
    {
     "cell_type": "code",
     "collapsed": false,
     "input": [
      "import vincent\n",
      "import pandas as pd"
     ],
     "language": "python",
     "metadata": {},
     "outputs": []
    },
    {
     "cell_type": "code",
     "collapsed": false,
     "input": [
      "import pandas.io.data as web\n",
      "import datetime\n",
      "all_data = {}\n",
      "date_start = datetime.datetime(2010, 1, 1)\n",
      "date_end = datetime.datetime(2014, 1, 1)\n",
      "for ticker in ['AAPL', 'IBM', 'YHOO', 'MSFT']:\n",
      "    all_data[ticker] = web.DataReader(ticker, 'yahoo', date_start, date_end)\n",
      "price = pd.DataFrame({tic: data['Adj Close']\n",
      "                      for tic, data in all_data.items()})"
     ],
     "language": "python",
     "metadata": {},
     "outputs": []
    },
    {
     "cell_type": "code",
     "collapsed": false,
     "input": [
      "vincent.initialize_notebook()"
     ],
     "language": "python",
     "metadata": {},
     "outputs": []
    },
    {
     "cell_type": "code",
     "collapsed": false,
     "input": [
      "line = vincent.Line(price[['AAPL', 'IBM', 'YHOO', 'MSFT']], width=600, height=300)\n",
      "line.axis_titles(x='Date', y='Price')\n",
      "line.legend(title='Ticker')\n",
      "display(line)"
     ],
     "language": "python",
     "metadata": {},
     "outputs": []
    },
    {
     "cell_type": "heading",
     "level": 2,
     "metadata": {
      "slideshow": {
       "slide_type": "slide"
      }
     },
     "source": [
      "Plotly"
     ]
    },
    {
     "cell_type": "markdown",
     "metadata": {},
     "source": [
      "[Plotly](https://plot.ly/)\n",
      "\n",
      "> Analyze and Visualize Data, Together.\n",
      "\n",
      "Plotly is a web-based data analysis and plotting tool that has IPython integration and uses d3.js for its visualizations. It goes beyond plotting and enables the sharing of plots and analyses across a wide range of programming languages (Python, Matlab, R, Julia)."
     ]
    },
    {
     "cell_type": "code",
     "collapsed": false,
     "input": [
      "import plotly\n",
      "py = plotly.plotly('IPython.Demo', '1fw3zw2o13')\n",
      "nr = np.random"
     ],
     "language": "python",
     "metadata": {},
     "outputs": []
    },
    {
     "cell_type": "code",
     "collapsed": false,
     "input": [
      "distributions = [nr.uniform, nr.normal , lambda size: nr.normal(0, 0.2, size=size),\n",
      "                 lambda size: nr.beta(a=0.5, b=0.5, size=size),\n",
      "                 lambda size: nr.beta(a=0.5, b=2, size=size)]\n",
      "\n",
      "names = ['Uniform(0,1)', 'Normal(0,1)', 'Normal(0, 0.2)', 'beta(a=0.5, b=0.5)', 'beta(a=0.5, b=2)']\n",
      "\n",
      "boxes = [{'y': dist(size=50), 'type': 'box', 'boxpoints': 'all', 'jitter': 0.5, 'pointpos': -1.8,\n",
      "        'name': name} for dist, name in zip(distributions, names)]\n",
      "\n",
      "layout = {'title': 'A few distributions',\n",
      "          'showlegend': False,\n",
      "          'xaxis': {'ticks': '', 'showgrid': False, 'showline': False},\n",
      "          'yaxis': {'zeroline': False, 'ticks': '', 'showline': False},\n",
      "          }\n",
      "\n",
      "py.iplot(boxes, layout = layout, filename='Distributions', fileopt='overwrite')"
     ],
     "language": "python",
     "metadata": {},
     "outputs": []
    },
    {
     "cell_type": "heading",
     "level": 2,
     "metadata": {
      "slideshow": {
       "slide_type": "slide"
      }
     },
     "source": [
      "Other visualization libraries"
     ]
    },
    {
     "cell_type": "markdown",
     "metadata": {},
     "source": [
      "* [Bokeh:](http://bokeh.pydata.org/) interactive visualization library for large datasets\n",
      "* [ggplot:](http://blog.yhathq.com/posts/ggplot-for-python.html) Python port of R's ggplot2\n",
      "* [Seaborn:](http://www.stanford.edu/~mwaskom/software/seaborn/) Statistical data visualization\n",
      "* [prettyplotlib:](http://olgabot.github.io/prettyplotlib/) Make matplotlib plots that look good"
     ]
    },
    {
     "cell_type": "heading",
     "level": 2,
     "metadata": {
      "slideshow": {
       "slide_type": "slide"
      }
     },
     "source": [
      "Styling"
     ]
    },
    {
     "cell_type": "code",
     "collapsed": false,
     "input": [
      "from IPython.display import display, Image, HTML\n",
      "from talktools import website, nbviewer"
     ],
     "language": "python",
     "metadata": {},
     "outputs": [],
     "prompt_number": 1
    },
    {
     "cell_type": "code",
     "collapsed": false,
     "input": [
      "HTML(\"\"\"\n",
      "<style>\n",
      "div.cell.slideshow-slide {margin-top: 500px}\n",
      "</style>\n",
      "\"\"\")"
     ],
     "language": "python",
     "metadata": {},
     "outputs": [
      {
       "html": [
        "\n",
        "<style>\n",
        "div.cell.slideshow-slide {margin-top: 500px}\n",
        "</style>\n"
       ],
       "metadata": {},
       "output_type": "pyout",
       "prompt_number": 2,
       "text": [
        "<IPython.core.display.HTML object>"
       ]
      }
     ],
     "prompt_number": 2
    },
    {
     "cell_type": "code",
     "collapsed": false,
     "input": [],
     "language": "python",
     "metadata": {},
     "outputs": []
    }
   ],
   "metadata": {}
  }
 ]
}