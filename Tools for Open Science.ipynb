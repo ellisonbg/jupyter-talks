{
 "metadata": {
  "kernelspec": {
   "codemirror_mode": {
    "name": "ipython",
    "version": 2
   },
   "display_name": "IPython (Python 2)",
   "language": "python",
   "name": "python2"
  },
  "name": "",
  "signature": "sha256:f1ec60c44cd0f893621babc33f00c6460504e6c0a0fcb60221111b9c8098d250"
 },
 "nbformat": 3,
 "nbformat_minor": 0,
 "worksheets": [
  {
   "cells": [
    {
     "cell_type": "heading",
     "level": 1,
     "metadata": {
      "slideshow": {
       "slide_type": "slide"
      }
     },
     "source": [
      "Tools for Open Science"
     ]
    },
    {
     "cell_type": "code",
     "collapsed": false,
     "input": [
      "from IPython.display import display, Image, HTML\n",
      "from talktools import website, nbviewer"
     ],
     "language": "python",
     "metadata": {},
     "outputs": [],
     "prompt_number": 1
    },
    {
     "cell_type": "heading",
     "level": 2,
     "metadata": {
      "slideshow": {
       "slide_type": "slide"
      }
     },
     "source": [
      "What is open science?"
     ]
    },
    {
     "cell_type": "markdown",
     "metadata": {},
     "source": [
      "* Publication of results in open-access journals\n",
      "* Open (public, non-anonymous) peer review\n",
      "* Open publication of all materials required for full reproducibility\n",
      "* Open publication of full, data and metadata associated with research\n",
      "* Open publication of all code\n",
      "* Open post-publication peer review\n",
      "* Usage of web-based collaboration tools\n",
      "* Usage of open source software for computational work"
     ]
    },
    {
     "cell_type": "heading",
     "level": 2,
     "metadata": {
      "slideshow": {
       "slide_type": "slide"
      }
     },
     "source": [
      "GitHub"
     ]
    },
    {
     "cell_type": "markdown",
     "metadata": {},
     "source": [
      "https://github.com\n",
      "\n",
      "* Version control systems promote good software engineering practices\n",
      "* In the last few years, Git has emerged as one the best in class\n",
      "* GitHub has completely transformed collaborative software development\n",
      "  - Contributions to open source projects have *exploded* as a result\n",
      "  - Makes software development deeply social: \"Facebook for coders\"\n",
      "* Public repositories are free\n",
      "  - Encourages open collaboration\n",
      "  - All code, history, discussions are public\n",
      "  - Some scientists are uncomfortable with this\n",
      "  - The benefits outweight any downsides\n",
      "  - Most contributions are peer reviewed!\n",
      "* You can have private repositories, but they cost $\n",
      "* Here is [IPython's GitHub repo](https://github.com/ipython/ipython)"
     ]
    },
    {
     "cell_type": "markdown",
     "metadata": {},
     "source": [
      "### GitHub and reproducibility\n",
      "\n",
      "* Version control systems are not the final answer to reproducibility, but they are a\n",
      "necessary beginning\n",
      "* Developer behavior changes when they know that everything they do is public\n",
      "  - Their reputation is on the line - employers routinely consult GitHub profiles\n",
      "  - Documentation and tests magically appear ;-)\n",
      "* A case study with an undergraduate physics major\n",
      "  - Zach Sailer graduated from Cal Poly in 2013 with a physics B.S., currently in Ph.D program in Chemistry at the University of OR.\n",
      "  - He did his senior project on \"Dielectric Behavior of de Vries Liquid Crystals\"\n",
      "  - \"Hey you should post your senior project on GitHub\"\n",
      "  - Reproducibility magically follows...\n",
      "  - Here is his [GitHub repo](https://github.com/Zsailer/calpolythesis)"
     ]
    },
    {
     "cell_type": "heading",
     "level": 2,
     "metadata": {
      "slideshow": {
       "slide_type": "slide"
      }
     },
     "source": [
      "figshare"
     ]
    },
    {
     "cell_type": "markdown",
     "metadata": {},
     "source": [
      "http://figshare.com/\n",
      "\n",
      "> Manage your research in the cloud and control who you share it with or make it publicly available and citable"
     ]
    },
    {
     "cell_type": "heading",
     "level": 2,
     "metadata": {
      "slideshow": {
       "slide_type": "slide"
      }
     },
     "source": [
      "Impactstory"
     ]
    },
    {
     "cell_type": "markdown",
     "metadata": {},
     "source": [
      "https://impactstory.org/\n",
      "\n",
      "> Impactstory is a place to learn and share all the ways your research is making a difference"
     ]
    },
    {
     "cell_type": "heading",
     "level": 2,
     "metadata": {
      "slideshow": {
       "slide_type": "slide"
      }
     },
     "source": [
      "Open-access journals"
     ]
    },
    {
     "cell_type": "heading",
     "level": 3,
     "metadata": {},
     "source": [
      "arXiv"
     ]
    },
    {
     "cell_type": "markdown",
     "metadata": {},
     "source": [
      "http://arxiv.org/"
     ]
    },
    {
     "cell_type": "heading",
     "level": 3,
     "metadata": {},
     "source": [
      "PeerJ"
     ]
    },
    {
     "cell_type": "markdown",
     "metadata": {},
     "source": [
      "https://peerj.com/\n",
      "\n",
      "An example of open peer review:\n",
      "\n",
      "https://peerj.com/articles/519/reviews/"
     ]
    },
    {
     "cell_type": "heading",
     "level": 3,
     "metadata": {},
     "source": [
      "PlosONE"
     ]
    },
    {
     "cell_type": "markdown",
     "metadata": {},
     "source": [
      "http://www.plos.org/publications/journals/"
     ]
    }
   ],
   "metadata": {}
  }
 ]
}