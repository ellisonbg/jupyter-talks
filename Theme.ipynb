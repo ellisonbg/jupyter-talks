{
 "cells": [
  {
   "cell_type": "markdown",
   "metadata": {
    "slideshow": {
     "slide_type": "slide"
    }
   },
   "source": [
    "# Theme"
   ]
  },
  {
   "cell_type": "markdown",
   "metadata": {},
   "source": [
    "<div class=\"alert alert-success\"> Computer are good at consuming, producing and processing data </div>\n",
    "<div class=\"alert alert-success\"> Humans are good at consuming, producing and processing stories </div>\n",
    "<div class=\"alert alert-success\"> For data to be useful to humans, we need tools for telling stories that involve code and data </div>"
   ]
  },
  {
   "cell_type": "markdown",
   "metadata": {},
   "source": [
    "# Illustration"
   ]
  },
  {
   "cell_type": "markdown",
   "metadata": {},
   "source": [
    "## Data and code"
   ]
  },
  {
   "cell_type": "code",
   "execution_count": 4,
   "metadata": {
    "collapsed": false
   },
   "outputs": [],
   "source": [
    "%matplotlib inline\n",
    "import matplotlib.pyplot as plt\n",
    "import numpy as np\n",
    "import pandas as pd\n",
    "import seaborn as sns"
   ]
  },
  {
   "cell_type": "code",
   "execution_count": 5,
   "metadata": {
    "collapsed": false
   },
   "outputs": [],
   "source": [
    "df = pd.read_csv('data/police_locals.csv')\n",
    "df = df.replace('**',np.nan)\n",
    "df['all'] = df['all'].astype('float')\n",
    "df['white'] = df['white'].astype('float')\n",
    "df['non-white'] = df['non-white'].astype('float')\n",
    "df['black'] = df['black'].astype('float')\n",
    "df['hispanic'] = df['hispanic'].astype('float')"
   ]
  },
  {
   "cell_type": "code",
   "execution_count": 6,
   "metadata": {
    "collapsed": false
   },
   "outputs": [
    {
     "data": {
      "text/html": [
       "<div style=\"max-height:1000px;max-width:1500px;overflow:auto;\">\n",
       "<table border=\"1\" class=\"dataframe\">\n",
       "  <thead>\n",
       "    <tr style=\"text-align: right;\">\n",
       "      <th></th>\n",
       "      <th>city</th>\n",
       "      <th>police_force_size</th>\n",
       "      <th>all</th>\n",
       "      <th>white</th>\n",
       "      <th>non-white</th>\n",
       "      <th>black</th>\n",
       "      <th>hispanic</th>\n",
       "    </tr>\n",
       "  </thead>\n",
       "  <tbody>\n",
       "    <tr>\n",
       "      <th>0</th>\n",
       "      <td>    New York</td>\n",
       "      <td> 32300</td>\n",
       "      <td> 0.617957</td>\n",
       "      <td> 0.446387</td>\n",
       "      <td> 0.764419</td>\n",
       "      <td> 0.770891</td>\n",
       "      <td> 0.762861</td>\n",
       "    </tr>\n",
       "    <tr>\n",
       "      <th>1</th>\n",
       "      <td>     Chicago</td>\n",
       "      <td> 12120</td>\n",
       "      <td> 0.875000</td>\n",
       "      <td> 0.871963</td>\n",
       "      <td> 0.877400</td>\n",
       "      <td> 0.897406</td>\n",
       "      <td> 0.839827</td>\n",
       "    </tr>\n",
       "    <tr>\n",
       "      <th>2</th>\n",
       "      <td> Los Angeles</td>\n",
       "      <td> 10100</td>\n",
       "      <td> 0.228218</td>\n",
       "      <td> 0.152778</td>\n",
       "      <td> 0.263848</td>\n",
       "      <td> 0.387387</td>\n",
       "      <td> 0.217680</td>\n",
       "    </tr>\n",
       "    <tr>\n",
       "      <th>3</th>\n",
       "      <td>  Washington</td>\n",
       "      <td>  9340</td>\n",
       "      <td> 0.115632</td>\n",
       "      <td> 0.056774</td>\n",
       "      <td> 0.157365</td>\n",
       "      <td> 0.170189</td>\n",
       "      <td> 0.089888</td>\n",
       "    </tr>\n",
       "    <tr>\n",
       "      <th>4</th>\n",
       "      <td>     Houston</td>\n",
       "      <td>  7700</td>\n",
       "      <td> 0.292208</td>\n",
       "      <td> 0.173735</td>\n",
       "      <td> 0.399258</td>\n",
       "      <td> 0.366379</td>\n",
       "      <td> 0.457143</td>\n",
       "    </tr>\n",
       "  </tbody>\n",
       "</table>\n",
       "</div>"
      ],
      "text/plain": [
       "          city  police_force_size       all     white  non-white     black  \\\n",
       "0     New York              32300  0.617957  0.446387   0.764419  0.770891   \n",
       "1      Chicago              12120  0.875000  0.871963   0.877400  0.897406   \n",
       "2  Los Angeles              10100  0.228218  0.152778   0.263848  0.387387   \n",
       "3   Washington               9340  0.115632  0.056774   0.157365  0.170189   \n",
       "4      Houston               7700  0.292208  0.173735   0.399258  0.366379   \n",
       "\n",
       "   hispanic  \n",
       "0  0.762861  \n",
       "1  0.839827  \n",
       "2  0.217680  \n",
       "3  0.089888  \n",
       "4  0.457143  "
      ]
     },
     "execution_count": 6,
     "metadata": {},
     "output_type": "execute_result"
    }
   ],
   "source": [
    "df.head()"
   ]
  },
  {
   "cell_type": "code",
   "execution_count": 7,
   "metadata": {
    "collapsed": false
   },
   "outputs": [
    {
     "data": {
      "text/plain": [
       "76"
      ]
     },
     "execution_count": 7,
     "metadata": {},
     "output_type": "execute_result"
    }
   ],
   "source": [
    "len(df)"
   ]
  },
  {
   "cell_type": "code",
   "execution_count": 8,
   "metadata": {
    "collapsed": false
   },
   "outputs": [
    {
     "data": {
      "text/html": [
       "<div style=\"max-height:1000px;max-width:1500px;overflow:auto;\">\n",
       "<table border=\"1\" class=\"dataframe\">\n",
       "  <thead>\n",
       "    <tr style=\"text-align: right;\">\n",
       "      <th></th>\n",
       "      <th>white</th>\n",
       "      <th>non-white</th>\n",
       "    </tr>\n",
       "  </thead>\n",
       "  <tbody>\n",
       "    <tr>\n",
       "      <th>count</th>\n",
       "      <td> 76.000000</td>\n",
       "      <td> 76.000000</td>\n",
       "    </tr>\n",
       "    <tr>\n",
       "      <th>mean</th>\n",
       "      <td>  0.348386</td>\n",
       "      <td>  0.486143</td>\n",
       "    </tr>\n",
       "    <tr>\n",
       "      <th>std</th>\n",
       "      <td>  0.240522</td>\n",
       "      <td>  0.252310</td>\n",
       "    </tr>\n",
       "    <tr>\n",
       "      <th>min</th>\n",
       "      <td>  0.026667</td>\n",
       "      <td>  0.076923</td>\n",
       "    </tr>\n",
       "    <tr>\n",
       "      <th>25%</th>\n",
       "      <td>  0.151914</td>\n",
       "      <td>  0.302225</td>\n",
       "    </tr>\n",
       "    <tr>\n",
       "      <th>50%</th>\n",
       "      <td>  0.293472</td>\n",
       "      <td>  0.473922</td>\n",
       "    </tr>\n",
       "    <tr>\n",
       "      <th>75%</th>\n",
       "      <td>  0.502404</td>\n",
       "      <td>  0.669569</td>\n",
       "    </tr>\n",
       "    <tr>\n",
       "      <th>max</th>\n",
       "      <td>  0.962963</td>\n",
       "      <td>  0.956522</td>\n",
       "    </tr>\n",
       "  </tbody>\n",
       "</table>\n",
       "</div>"
      ],
      "text/plain": [
       "           white  non-white\n",
       "count  76.000000  76.000000\n",
       "mean    0.348386   0.486143\n",
       "std     0.240522   0.252310\n",
       "min     0.026667   0.076923\n",
       "25%     0.151914   0.302225\n",
       "50%     0.293472   0.473922\n",
       "75%     0.502404   0.669569\n",
       "max     0.962963   0.956522"
      ]
     },
     "execution_count": 8,
     "metadata": {},
     "output_type": "execute_result"
    }
   ],
   "source": [
    "df[['white','non-white']].describe()"
   ]
  },
  {
   "cell_type": "code",
   "execution_count": 9,
   "metadata": {
    "collapsed": false
   },
   "outputs": [
    {
     "data": {
      "image/png": "[encoded data removed]",
      "text/plain": [
       "<matplotlib.figure.Figure at 0x109e2ead0>"
      ]
     },
     "metadata": {},
     "output_type": "display_data"
    }
   ],
   "source": [
    "sns.set_context(\"talk\")\n",
    "sns.set_style(\"whitegrid\")\n",
    "sns.boxplot(df[['white','non-white']]);"
   ]
  },
  {
   "cell_type": "markdown",
   "metadata": {},
   "source": [
    "<div style=\"height: 400px\" />"
   ]
  },
  {
   "cell_type": "markdown",
   "metadata": {},
   "source": [
    "## Story"
   ]
  },
  {
   "cell_type": "markdown",
   "metadata": {},
   "source": [
    "This data comes from an article published on [538](http://fivethirtyeight.com/) on August 20 entitled, [Most Police Don’t Live In The Cities They Serve](http://fivethirtyeight.com/datalab/most-police-dont-live-in-the-cities-they-serve/). From the article:\n",
    "\n",
    "> In Ferguson, Missouri, where protests continue following the shooting of a teenager by a police officer this month, more than two-thirds of the civilian population is black. Only 11 percent of the police force is. The racial disparity is troubling enough on its own, but it’s also suggestive of another type of misrepresentation. Given Ferguson’s racial gap, it’s likely that many of its police officers live outside city limits.\n",
    "\n",
    "The above dataset, published by 538 on [this GitHub repository](https://github.com/fivethirtyeight/data/tree/master/police-locals) contains the fractions of police officers who live within the city they serve, for different races of police officers for 75 cities across the U.S. Now we can develop a story around that data:\n",
    "\n",
    "* On average, only a very small fraction ($\\approx 35\\%$) of white police officers live in the cities they serve.\n",
    "* On average, non-white police officers ($\\approx 49\\%$) are more likely to live in the cities they serve.\n",
    "* There is a significant spread ($\\sigma\\approx 25\\%$) across individual cities.\n",
    "* For issues of racial justice, it could be useful to have more police officers live in the cities they serve.\n",
    "\n",
    "<div class=\"alert alert-success\" style=\"margin: 10px\">Without the story, the data doesn't mean much to us.</div>"
   ]
  }
 ],
 "metadata": {
  "kernelspec": {
   "display_name": "Python 2",
   "language": "python",
   "name": "python2"
  },
  "language_info": {
   "codemirror_mode": {
    "name": "ipython",
    "version": 2
   },
   "file_extension": ".py",
   "mimetype": "text/x-python",
   "name": "python",
   "nbconvert_exporter": "python",
   "pygments_lexer": "ipython2",
   "version": "2.7.9"
  }
 },
 "nbformat": 4,
 "nbformat_minor": 0
}
