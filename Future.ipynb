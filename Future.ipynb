{
 "cells": [
  {
   "cell_type": "markdown",
   "metadata": {},
   "source": [
    "# Future\n",
    "\n",
    "Here are some of the highlights of our 3 year roadmap:\n",
    "\n",
    "* Real time collaboration\n",
    "* Software engineering with notebooks\n",
    "* Spreadsheet\n",
    "* Documentation\n",
    "* Modular UI/UX\n",
    "* Widgets as self-contained applications\n",
    "* Element filtering/tags\n",
    "* EPUB\n",
    "* JupyterHub"
   ]
  },
  {
   "cell_type": "code",
   "execution_count": null,
   "metadata": {
    "collapsed": true
   },
   "outputs": [],
   "source": []
  }
 ],
 "metadata": {
  "kernelspec": {
   "display_name": "Python 2",
   "language": "python",
   "name": "python2"
  },
  "language_info": {
   "codemirror_mode": {
    "name": "ipython",
    "version": 2
   },
   "file_extension": ".py",
   "mimetype": "text/x-python",
   "name": "python",
   "nbconvert_exporter": "python",
   "pygments_lexer": "ipython2",
   "version": "2.7.9"
  }
 },
 "nbformat": 4,
 "nbformat_minor": 0
}
