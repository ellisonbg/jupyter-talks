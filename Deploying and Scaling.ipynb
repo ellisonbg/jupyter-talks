{
 "cells": [
  {
   "cell_type": "markdown",
   "metadata": {},
   "source": [
    "# Deploying and Scaling the Notebook"
   ]
  },
  {
   "cell_type": "code",
   "execution_count": null,
   "metadata": {
    "collapsed": true
   },
   "outputs": [],
   "source": [
    "from IPython.display import Image"
   ]
  },
  {
   "cell_type": "markdown",
   "metadata": {},
   "source": [
    "How could you deploy the Jupyter Notebook in your organization?"
   ]
  },
  {
   "cell_type": "markdown",
   "metadata": {},
   "source": [
    "## Here are the basic building blocks of the Jupyter architecture"
   ]
  },
  {
   "cell_type": "code",
   "execution_count": null,
   "metadata": {
    "collapsed": false
   },
   "outputs": [],
   "source": [
    "Image('images/JupyterBlocksA.png')"
   ]
  },
  {
   "cell_type": "markdown",
   "metadata": {},
   "source": [
    "## Most of our users run these building blocks on their laptops"
   ]
  },
  {
   "cell_type": "code",
   "execution_count": null,
   "metadata": {
    "collapsed": false
   },
   "outputs": [],
   "source": [
    "Image('images/JupyterBlocksB.png')"
   ]
  },
  {
   "cell_type": "markdown",
   "metadata": {},
   "source": [
    "## But it is just as easy to run them all in a Docker Container\n",
    "\n",
    "https://registry.hub.docker.com/repos/ipython/"
   ]
  },
  {
   "cell_type": "code",
   "execution_count": null,
   "metadata": {
    "collapsed": false
   },
   "outputs": [],
   "source": [
    "Image('images/JupyterBlocksC.png')"
   ]
  },
  {
   "cell_type": "markdown",
   "metadata": {},
   "source": [
    "## JupyterHub\n",
    "\n",
    "https://github.com/jupyter/jupyterhub\n",
    "\n",
    "JupyterHub is a new Jupyter project that allows a centralized, multiuser deployment of the Jupyter Notebook.\n",
    "\n",
    "This works by putting individual users's notebooks behind a central proxy and hub."
   ]
  },
  {
   "cell_type": "code",
   "execution_count": null,
   "metadata": {
    "collapsed": false
   },
   "outputs": [],
   "source": [
    "Image('images/JupyterBlocksD.png')"
   ]
  },
  {
   "cell_type": "markdown",
   "metadata": {},
   "source": [
    "This opens up many choices and opportunties:\n",
    "\n",
    "* Users and authentication:\n",
    "  - Unix auth (PAM)\n",
    "  - GitHub OAuth\n",
    "  - Google OAuth\n",
    "  - Active Directory\n",
    "* Store notebooks:\n",
    "  - Google Drive\n",
    "  - OpenStack Swift\n",
    "  - PostgreSQL\n",
    "  - ???\n",
    "* Spawn notebooks/kernels:\n",
    "  - Local subprocesses\n",
    "  - Docker\n",
    "  - Docker+Swarm\n",
    "\n",
    "I will show an example of a JupyterHub deployment at Cal Poly..."
   ]
  },
  {
   "cell_type": "markdown",
   "metadata": {},
   "source": [
    "## Quantopian Research Platform"
   ]
  },
  {
   "cell_type": "markdown",
   "metadata": {},
   "source": [
    "The [Quantopian Research Platform](http://quantopian.com) is an algorithmic/quantitative trading platform for Python using the building blocks of JupyterHub."
   ]
  },
  {
   "cell_type": "code",
   "execution_count": null,
   "metadata": {
    "collapsed": false
   },
   "outputs": [],
   "source": [
    "Image(\"images/quantopian-research.png\", width=\"90%\")"
   ]
  },
  {
   "cell_type": "markdown",
   "metadata": {},
   "source": [
    "## tmpnb and try.jupyter.org"
   ]
  },
  {
   "cell_type": "markdown",
   "metadata": {},
   "source": [
    "Using these same building blocks, we are offering instant, transient, cloud hosted notebooks.\n",
    "\n",
    "https://tmpnb.org\n",
    "\n",
    "https://try.jupyter.org\n",
    "\n",
    "<div class=\"alert bg-primary\" style=\"margin: 10px 0px\"> These building blocks are starting to enable ubiquitous, computational narratives </div>"
   ]
  },
  {
   "cell_type": "markdown",
   "metadata": {},
   "source": [
    "## Other architectures are also possible"
   ]
  },
  {
   "cell_type": "markdown",
   "metadata": {},
   "source": [
    "Like Legos, these building blocks can be assembled in a wide range of different ways to suite your usage cases:"
   ]
  },
  {
   "cell_type": "code",
   "execution_count": null,
   "metadata": {
    "collapsed": false
   },
   "outputs": [],
   "source": [
    "Image('images/JupyterBlocksE.png')"
   ]
  }
 ],
 "metadata": {
  "kernelspec": {
   "display_name": "Python 2",
   "language": "python",
   "name": "python2"
  },
  "language_info": {
   "codemirror_mode": {
    "name": "ipython",
    "version": 2
   },
   "file_extension": ".py",
   "mimetype": "text/x-python",
   "name": "python",
   "nbconvert_exporter": "python",
   "pygments_lexer": "ipython2",
   "version": "2.7.9"
  }
 },
 "nbformat": 4,
 "nbformat_minor": 0
}
