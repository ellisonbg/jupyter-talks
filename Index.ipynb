{
 "metadata": {
  "kernelspec": {
   "codemirror_mode": {
    "name": "ipython",
    "version": 2
   },
   "display_name": "IPython (Python 2)",
   "language": "python",
   "name": "python2"
  },
  "name": "",
  "signature": "sha256:2d2938e4f088515592242c27c92975039d013abdbb24fc4b7624e2e9b3d808d4"
 },
 "nbformat": 3,
 "nbformat_minor": 0,
 "worksheets": [
  {
   "cells": [
    {
     "cell_type": "markdown",
     "metadata": {
      "slideshow": {
       "slide_type": "slide"
      }
     },
     "source": [
      "# Open, Reproducible and Exploratory Data Science "
     ]
    },
    {
     "cell_type": "code",
     "collapsed": false,
     "input": [
      "from IPython.display import display, Image, HTML\n",
      "from talktools import website, nbviewer"
     ],
     "language": "python",
     "metadata": {},
     "outputs": []
    },
    {
     "cell_type": "markdown",
     "metadata": {
      "slideshow": {
       "slide_type": "-"
      }
     },
     "source": [
      "### Brian E. Granger, Cal Poly (@ellisonbg)\n",
      "\n",
      "### IPython Project\n",
      "\n",
      "<img src=\"images/ipython_logo.png\" height=\"65px\">\n",
      "\n",
      "### Project Jupyter\n",
      "\n",
      "<img src=\"images/jupyter_logo.png\" height=\"100px\">"
     ]
    },
    {
     "cell_type": "markdown",
     "metadata": {},
     "source": [
      "### Cal Poly Statistics Department\n",
      "### October 2014"
     ]
    },
    {
     "cell_type": "markdown",
     "metadata": {
      "slideshow": {
       "slide_type": "slide"
      }
     },
     "source": [
      "# Outline"
     ]
    },
    {
     "cell_type": "markdown",
     "metadata": {},
     "source": [
      "* [What is Data Science](What is Data Science.ipynb)\n",
      "* [Theme](Theme.ipynb)\n",
      "* [Jupyter and IPython](Jupyter and IPython.ipynb)\n",
      "* [Notebook Tour](Notebook Tour.ipynb)\n",
      "* [Notebook Usage](Notebook Usage.ipynb)\n",
      "* [Interaction](Interaction.ipynb)\n",
      "* [Multilanguage](Multilanguage.ipynb)\n",
      "* [R Examples](R Examples.ipynb)\n",
      "* [Bash Examples](Bash Examples.ipynb)\n",
      "* [Future Directions](Future Directions.ipynb)"
     ]
    }
   ],
   "metadata": {}
  }
 ]
}