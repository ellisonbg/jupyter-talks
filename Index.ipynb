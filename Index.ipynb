{
 "cells": [
  {
   "cell_type": "markdown",
   "metadata": {
    "slideshow": {
     "slide_type": "slide"
    }
   },
   "source": [
    "# Moving Data Science from Pain to \"Unicorns on Rainbows\"\n",
    "\n",
    "# QuantCon 2015, $\\pi$ day 2015 "
   ]
  },
  {
   "cell_type": "markdown",
   "metadata": {
    "slideshow": {
     "slide_type": "-"
    }
   },
   "source": [
    "### Brian E. Granger(@ellisonbg)\n",
    "\n",
    "### Cal Poly Physics+Data Science\n",
    "\n",
    "<img src=\"images/calpoly_logo.png\" height=\"100px\">\n",
    "\n",
    "### IPython Project\n",
    "\n",
    "<img src=\"images/ipython_logo.png\" height=\"65px\">\n",
    "\n",
    "### Project Jupyter\n",
    "\n",
    "<img src=\"images/jupyter_logo.png\" height=\"100px\">"
   ]
  },
  {
   "cell_type": "markdown",
   "metadata": {
    "slideshow": {
     "slide_type": "slide"
    }
   },
   "source": [
    "# Outline"
   ]
  },
  {
   "cell_type": "markdown",
   "metadata": {},
   "source": [
    "* Pain\n",
    "* [Jupyter and IPython](Jupyter and IPython.ipynb)\n",
    "* [Notebook Tour](Notebook Tour.ipynb)\n",
    "* [R Examples](R Examples.ipynb)\n",
    "* [Bash Examples](Bash Examples.ipynb)\n",
    "* [Notebook Usage](Notebook Usage.ipynb)\n",
    "* [Interaction](Interaction.ipynb)\n",
    "* [Deploying and Scaling](Deploying and Scaling.ipynb)"
   ]
  }
 ],
 "metadata": {
  "kernelspec": {
   "display_name": "Python 2",
   "language": "python",
   "name": "python2"
  },
  "language_info": {
   "codemirror_mode": {
    "name": "ipython",
    "version": 2
   },
   "file_extension": ".py",
   "mimetype": "text/x-python",
   "name": "python",
   "nbconvert_exporter": "python",
   "pygments_lexer": "ipython2",
   "version": "2.7.9"
  }
 },
 "nbformat": 4,
 "nbformat_minor": 0
}
