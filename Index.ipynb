{
 "metadata": {
  "kernelspec": {
   "codemirror_mode": {
    "name": "ipython",
    "version": 2
   },
   "display_name": "IPython (Python 2)",
   "language": "python",
   "name": "python2"
  },
  "name": "",
  "signature": "sha256:ad0c23c5e8a359f8128b0ec2a113141659e10a0ed1af354e95662eb9f3b8c5a3"
 },
 "nbformat": 3,
 "nbformat_minor": 0,
 "worksheets": [
  {
   "cells": [
    {
     "cell_type": "markdown",
     "metadata": {
      "slideshow": {
       "slide_type": "slide"
      }
     },
     "source": [
      "# Multi-language Data Science with IPython, IJulia, IR, and Friends"
     ]
    },
    {
     "cell_type": "code",
     "collapsed": false,
     "input": [
      "from IPython.display import display, Image, HTML\n",
      "from talktools import website, nbviewer"
     ],
     "language": "python",
     "metadata": {},
     "outputs": []
    },
    {
     "cell_type": "markdown",
     "metadata": {
      "slideshow": {
       "slide_type": "-"
      }
     },
     "source": [
      "### Brian E. Granger, Cal Poly (@ellisonbg)\n",
      "\n",
      "### Fernando Perez, UC Berkeley (@fperez)\n",
      "\n",
      "### IPython Project\n",
      "\n",
      "<img src=\"images/ipython_logo.png\" height=\"65px\">\n",
      "\n",
      "### Project Jupyter\n",
      "\n",
      "<img src=\"images/jupyter_logo.png\" height=\"100px\">"
     ]
    },
    {
     "cell_type": "markdown",
     "metadata": {},
     "source": [
      "### Strata New York\n",
      "### October 2014"
     ]
    },
    {
     "cell_type": "heading",
     "level": 2,
     "metadata": {
      "slideshow": {
       "slide_type": "slide"
      }
     },
     "source": [
      "Theme"
     ]
    },
    {
     "cell_type": "markdown",
     "metadata": {},
     "source": [
      "<div class=\"alert alert-success\"> Computer are good at consuming, producing and processing data </div>\n",
      "<div class=\"alert alert-success\"> Humans are good at consuming, producing and processing stories </div>\n",
      "<div class=\"alert alert-success\"> For data to be useful to humans, we need tools for telling stories that involve code and data </div>"
     ]
    },
    {
     "cell_type": "markdown",
     "metadata": {},
     "source": [
      "<div style=\"height: 400px\" />"
     ]
    },
    {
     "cell_type": "heading",
     "level": 2,
     "metadata": {},
     "source": [
      "Illustration"
     ]
    },
    {
     "cell_type": "heading",
     "level": 3,
     "metadata": {},
     "source": [
      "Here is some data"
     ]
    },
    {
     "cell_type": "code",
     "collapsed": false,
     "input": [
      "%matplotlib inline\n",
      "import matplotlib.pyplot as plt\n",
      "import numpy as np\n",
      "import pandas as pd\n",
      "import seaborn as sns"
     ],
     "language": "python",
     "metadata": {},
     "outputs": []
    },
    {
     "cell_type": "code",
     "collapsed": false,
     "input": [
      "df = pd.read_csv('data/police_locals.csv')\n",
      "df = df.replace('**',np.nan)\n",
      "df['all'] = df['all'].astype('float')\n",
      "df['white'] = df['white'].astype('float')\n",
      "df['non-white'] = df['non-white'].astype('float')\n",
      "df['black'] = df['black'].astype('float')\n",
      "df['hispanic'] = df['hispanic'].astype('float')"
     ],
     "language": "python",
     "metadata": {},
     "outputs": []
    },
    {
     "cell_type": "code",
     "collapsed": false,
     "input": [
      "df.head()"
     ],
     "language": "python",
     "metadata": {},
     "outputs": []
    },
    {
     "cell_type": "code",
     "collapsed": false,
     "input": [
      "len(df)"
     ],
     "language": "python",
     "metadata": {},
     "outputs": []
    },
    {
     "cell_type": "code",
     "collapsed": false,
     "input": [
      "df[['white','non-white']].describe()"
     ],
     "language": "python",
     "metadata": {},
     "outputs": []
    },
    {
     "cell_type": "code",
     "collapsed": false,
     "input": [
      "sns.set_context(\"talk\")\n",
      "sns.set_style(\"whitegrid\")\n",
      "sns.boxplot(df[['white','non-white']]);"
     ],
     "language": "python",
     "metadata": {},
     "outputs": []
    },
    {
     "cell_type": "markdown",
     "metadata": {},
     "source": [
      "<div style=\"height: 400px\" />"
     ]
    },
    {
     "cell_type": "heading",
     "level": 3,
     "metadata": {},
     "source": [
      "Here is the story"
     ]
    },
    {
     "cell_type": "markdown",
     "metadata": {},
     "source": [
      "This data comes from an article published on [538](http://fivethirtyeight.com/) on August 20 entitled, [Most Police Don\u2019t Live In The Cities They Serve](http://fivethirtyeight.com/datalab/most-police-dont-live-in-the-cities-they-serve/). From the article:\n",
      "\n",
      "> In Ferguson, Missouri, where protests continue following the shooting of a teenager by a police officer this month, more than two-thirds of the civilian population is black. Only 11 percent of the police force is. The racial disparity is troubling enough on its own, but it\u2019s also suggestive of another type of misrepresentation. Given Ferguson\u2019s racial gap, it\u2019s likely that many of its police officers live outside city limits.\n",
      "\n",
      "The above dataset, published by 538 on [this GitHub repository](https://github.com/fivethirtyeight/data/tree/master/police-locals) contains the fractions of police officers who live within the city they serve, for different races of police officers for 75 cities across the U.S. Now we can develop a story around that data:\n",
      "\n",
      "* On average, only a very small fraction ($\\approx 35\\%$) of white police officers live in the cities they serve.\n",
      "* On average, non-white police officers ($\\approx 49\\%$) are more likely to live in the cities they serve.\n",
      "* There is a significant spread ($\\sigma\\approx 25\\%$) across individual cities.\n",
      "* For issues of racial justice, it could be useful to have more police officers live in the cities they serve.\n",
      "\n",
      "<div class=\"alert alert-success\" style=\"margin: 10px\">Without the story, the data doesn't mean much to us.</div>"
     ]
    },
    {
     "cell_type": "heading",
     "level": 2,
     "metadata": {
      "slideshow": {
       "slide_type": "slide"
      }
     },
     "source": [
      "Outline"
     ]
    },
    {
     "cell_type": "markdown",
     "metadata": {},
     "source": [
      "* [Jupyter and IPython](Jupyter and IPython.ipynb)\n",
      "* [Notebook Tour](Notebook Tour.ipynb)\n",
      "* [Notebook Usage](Notebook Usage.ipynb)\n",
      "* [Interaction](Interaction.ipynb)\n",
      "* **Multilanguage Capabilities**"
     ]
    }
   ],
   "metadata": {}
  }
 ]
}