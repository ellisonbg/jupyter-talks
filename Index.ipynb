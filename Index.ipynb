{
 "metadata": {
  "kernelspec": {
   "codemirror_mode": {
    "name": "ipython",
    "version": 2
   },
   "display_name": "IPython (Python 2)",
   "language": "python",
   "name": "python2"
  },
  "name": "",
  "signature": "sha256:97f31810d729cdffa4215df1baa5dd2f1d2865f9d3fb6b00e8ec33fd32c89f5d"
 },
 "nbformat": 3,
 "nbformat_minor": 0,
 "worksheets": [
  {
   "cells": [
    {
     "cell_type": "heading",
     "level": 1,
     "metadata": {
      "slideshow": {
       "slide_type": "slide"
      }
     },
     "source": [
      "Open Source Tools for Exploratory and Reproducible Computational Physics"
     ]
    },
    {
     "cell_type": "code",
     "collapsed": false,
     "input": [
      "from IPython.display import display, Image, HTML\n",
      "from talktools import website, nbviewer"
     ],
     "language": "python",
     "metadata": {},
     "outputs": []
    },
    {
     "cell_type": "markdown",
     "metadata": {
      "slideshow": {
       "slide_type": "-"
      }
     },
     "source": [
      "### Brian E. Granger (@ellisonbg)\n",
      "\n",
      "### Physics Professor, Cal Poly\n",
      "\n",
      "<img src=\"images/calpoly_logo.png\" height=\"65px\">\n",
      "\n",
      "### Core developer, IPython Project\n",
      "\n",
      "<img src=\"images/ipython_logo.png\" height=\"65px\">\n",
      "\n",
      "### Co-founder, Project Jupyter\n",
      "\n",
      "<img src=\"images/jupyter_logo.jpg\" height=\"100px\">"
     ]
    },
    {
     "cell_type": "heading",
     "level": 2,
     "metadata": {},
     "source": [
      "CCP 2014, Boston, MA"
     ]
    },
    {
     "cell_type": "heading",
     "level": 2,
     "metadata": {
      "slideshow": {
       "slide_type": "slide"
      }
     },
     "source": [
      "Theme"
     ]
    },
    {
     "cell_type": "markdown",
     "metadata": {},
     "source": [
      "<div class=\"alert alert-success\"> Computing, and thus software, is one of the foundations of science </div>\n",
      "<div class=\"alert alert-success\"> The attributes of science follow from the attribute of software </div>\n",
      "<div class=\"alert alert-success\"> Open science requires open software </div>"
     ]
    },
    {
     "cell_type": "heading",
     "level": 2,
     "metadata": {
      "slideshow": {
       "slide_type": "slide"
      }
     },
     "source": [
      "Outline"
     ]
    },
    {
     "cell_type": "markdown",
     "metadata": {},
     "source": [
      "* [Tools for Open Science](Tools for Open Science.ipynb)\n",
      "* [Jupyter and IPython](Jupyter and IPython.ipynb)\n",
      "* [Notebook Tour](Notebook Tour.ipynb)\n",
      "* [Notebook Usage](Notebook Usage.ipynb)\n",
      "* [Multilanguage](Multilanguage.ipynb)\n",
      "* [Interaction](Interaction.ipynb)\n",
      "* [Visualization](Visualization.ipynb)"
     ]
    }
   ],
   "metadata": {}
  }
 ]
}