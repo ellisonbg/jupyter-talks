{
 "metadata": {
  "kernelspec": {
   "codemirror_mode": {
    "name": "ipython",
    "version": 2
   },
   "display_name": "IPython (Python 2)",
   "language": "python",
   "name": "python2"
  },
  "name": "",
  "signature": "sha256:6660e73081e8f739e84f3bda5cd0d151e8f2e969a57907db7218f54bd91a99ce"
 },
 "nbformat": 3,
 "nbformat_minor": 0,
 "worksheets": [
  {
   "cells": [
    {
     "cell_type": "heading",
     "level": 1,
     "metadata": {
      "slideshow": {
       "slide_type": "slide"
      }
     },
     "source": [
      "Jupyter/IPython: Building Blocks for Open and Reproducible Exploratory Computing"
     ]
    },
    {
     "cell_type": "code",
     "collapsed": false,
     "input": [
      "from IPython.display import display, Image, HTML\n",
      "from talktools import website, nbviewer"
     ],
     "language": "python",
     "metadata": {},
     "outputs": []
    },
    {
     "cell_type": "markdown",
     "metadata": {
      "slideshow": {
       "slide_type": "-"
      }
     },
     "source": [
      "### Brian E. Granger (@ellisonbg)\n",
      "\n",
      "### Physics Professor, Cal Poly\n",
      "\n",
      "<img src=\"images/calpoly_logo.png\" height=\"65px\">\n",
      "\n",
      "### Core developer, IPython Project\n",
      "\n",
      "<img src=\"images/ipython_logo.png\" height=\"65px\">\n",
      "\n",
      "### Co-founder, Project Jupyter\n",
      "\n",
      "<img src=\"images/jupyter_logo.jpg\" height=\"100px\">\n",
      "\n",
      "### Board Member, NumFocus\n",
      "\n",
      "<hr/>"
     ]
    },
    {
     "cell_type": "markdown",
     "metadata": {},
     "source": [
      "### Bloomberg\n",
      "### August 27, 2014\n",
      "### New York, New York"
     ]
    },
    {
     "cell_type": "heading",
     "level": 2,
     "metadata": {
      "slideshow": {
       "slide_type": "slide"
      }
     },
     "source": [
      "Theme"
     ]
    },
    {
     "cell_type": "markdown",
     "metadata": {},
     "source": [
      "<div class=\"alert alert-success\"> Computer are good at consuming, producing and processing data </div>\n",
      "<div class=\"alert alert-success\"> Humans are good at consuming, producing and processing stories </div>\n",
      "<div class=\"alert alert-success\"> For data to be useful to humans, we need tools for telling stories that involve code and data </div>\n",
      "<div class=\"alert alert-success\">For these stories to be useful\n",
      "in different contexts, we need open, reusable building blocks</div>"
     ]
    },
    {
     "cell_type": "heading",
     "level": 2,
     "metadata": {
      "slideshow": {
       "slide_type": "slide"
      }
     },
     "source": [
      "Outline"
     ]
    },
    {
     "cell_type": "markdown",
     "metadata": {},
     "source": [
      "* [Jupyter and IPython](Jupyter and IPython.ipynb)\n",
      "* [Notebook Tour](Notebook Tour.ipynb)\n",
      "* [Notebook Usage](Notebook Usage.ipynb)\n",
      "* [Multilanguage](Multilanguage.ipynb)\n",
      "* [Interaction](Interaction.ipynb)\n",
      "* [Visualization](Visualization.ipynb)\n",
      "* [Components](Components.ipynb)"
     ]
    }
   ],
   "metadata": {}
  }
 ]
}