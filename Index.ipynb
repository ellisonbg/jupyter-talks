{
 "cells": [
  {
   "cell_type": "markdown",
   "metadata": {
    "slideshow": {
     "slide_type": "slide"
    }
   },
   "source": [
    "# Open, Reproducible and Exploratory Data Science "
   ]
  },
  {
   "cell_type": "code",
   "execution_count": null,
   "metadata": {
    "collapsed": false
   },
   "outputs": [],
   "source": [
    "from IPython.display import display, Image, HTML\n",
    "from talktools import website, nbviewer"
   ]
  },
  {
   "cell_type": "markdown",
   "metadata": {
    "slideshow": {
     "slide_type": "-"
    }
   },
   "source": [
    "### Brian E. Granger, Cal Poly (@ellisonbg)\n",
    "\n",
    "### IPython Project\n",
    "\n",
    "<img src=\"images/ipython_logo.png\" height=\"65px\">\n",
    "\n",
    "### Project Jupyter\n",
    "\n",
    "<img src=\"images/jupyter_logo.png\" height=\"100px\">"
   ]
  },
  {
   "cell_type": "markdown",
   "metadata": {
    "slideshow": {
     "slide_type": "slide"
    }
   },
   "source": [
    "# Outline"
   ]
  },
  {
   "cell_type": "markdown",
   "metadata": {},
   "source": [
    "* [What is Data Science](What is Data Science.ipynb)\n",
    "* [Theme](Theme.ipynb)\n",
    "* [Jupyter and IPython](Jupyter and IPython.ipynb)\n",
    "* [Notebook Tour](Notebook Tour.ipynb)\n",
    "* [Notebook Usage](Notebook Usage.ipynb)\n",
    "* [Interaction](Interaction.ipynb)\n",
    "* [Multilanguage](Multilanguage.ipynb)\n",
    "* [R Examples](R Examples.ipynb)\n",
    "* [Bash Examples](Bash Examples.ipynb)\n",
    "* [Future Directions](Future Directions.ipynb)"
   ]
  }
 ],
 "metadata": {
  "kernelspec": {
   "display_name": "Python 2",
   "language": "python",
   "name": "python2"
  },
  "language_info": {
   "codemirror_mode": {
    "name": "ipython",
    "version": 2
   },
   "file_extension": ".py",
   "mimetype": "text/x-python",
   "name": "python",
   "nbconvert_exporter": "python",
   "pygments_lexer": "ipython2",
   "version": "2.7.9"
  }
 },
 "nbformat": 4,
 "nbformat_minor": 0
}
