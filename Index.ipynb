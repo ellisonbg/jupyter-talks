{
 "cells": [
  {
   "cell_type": "markdown",
   "metadata": {
    "slideshow": {
     "slide_type": "slide"
    }
   },
   "source": [
    "# Jupyter/IPython: Scaling Data Science to Organizations and the Open Web  "
   ]
  },
  {
   "cell_type": "markdown",
   "metadata": {},
   "source": [
    "## Strata Conference, San Jose 2015\n",
    "\n",
    "### Brian E. Granger, Cal Poly (@ellisonbg)\n",
    "### Kyle Kelley, Rackspace (@rgbkrk)\n",
    "### Fernando Perez, UC Berkeley (@fperez_org)"
   ]
  },
  {
   "cell_type": "markdown",
   "metadata": {},
   "source": [
    "## Project Jupyter\n",
    "\n",
    "<img src=\"images/jupyter_logo.png\" height=\"100px\">\n",
    "\n",
    "* Interactive computing environment for scientific computing and data science.\n",
    "* Python, R, Julia, Scala, $\\approx30$ others...\n",
    "* @ProjectJupyter"
   ]
  },
  {
   "cell_type": "markdown",
   "metadata": {
    "slideshow": {
     "slide_type": "-"
    }
   },
   "source": [
    "## IPython Project\n",
    "\n",
    "<img src=\"images/ipython_logo.png\" height=\"65px\">\n",
    "\n",
    "* The Python specific parts of the Jupyter architecture"
   ]
  },
  {
   "cell_type": "markdown",
   "metadata": {},
   "source": [
    "## Funding"
   ]
  },
  {
   "cell_type": "markdown",
   "metadata": {},
   "source": [
    "<img src=\"images/sloan-logo.png\" width=\"300px\">\n",
    "<img src=\"images/microsoft-logo.png\" width=\"300px\">\n",
    "<img src=\"images/google-logo.png\" width=\"300px\">\n",
    "<img src=\"images/simons-logo.png\" width=\"300px\">\n",
    "<img src=\"images/nsf-logo.png\" width=\"75px\">\n",
    "<img src=\"images/rackspace-logo.png\" width=\"300px\">"
   ]
  },
  {
   "cell_type": "markdown",
   "metadata": {},
   "source": [
    "## Team"
   ]
  },
  {
   "cell_type": "code",
   "execution_count": 1,
   "metadata": {
    "collapsed": false
   },
   "outputs": [
    {
     "data": {
      "text/html": [
       "<table><tr><td><img src=\"ipythonteam/fperez.jpg\" style=\"height: 150px; text-align: center; margin-left: auto; margin-right: auto;\"/><h3 style=\"text-align: center;\">Fernando Perez</h3></td><td><img src=\"ipythonteam/ellisonbg.jpg\" style=\"height: 150px; text-align: center; margin-left: auto; margin-right: auto;\"/><h3 style=\"text-align: center;\">Brian Granger</h3></td><td><img src=\"ipythonteam/minrk.jpg\" style=\"height: 150px; text-align: center; margin-left: auto; margin-right: auto;\"/><h3 style=\"text-align: center;\">Min Ragan-Kelley</h3></td><td><img src=\"ipythonteam/takluyver.jpg\" style=\"height: 150px; text-align: center; margin-left: auto; margin-right: auto;\"/><h3 style=\"text-align: center;\">Thomas Kluyver</h3></td></tr><tr><td><img src=\"ipythonteam/jdfreder.jpg\" style=\"height: 150px; text-align: center; margin-left: auto; margin-right: auto;\"/><h3 style=\"text-align: center;\">Jonathan Frederic</h3></td><td><img src=\"ipythonteam/ivanov.jpg\" style=\"height: 150px; text-align: center; margin-left: auto; margin-right: auto;\"/><h3 style=\"text-align: center;\">Paul Ivanov</h3></td><td><img src=\"ipythonteam/matthias.jpg\" style=\"height: 150px; text-align: center; margin-left: auto; margin-right: auto;\"/><h3 style=\"text-align: center;\">Matthias Bussonnier</h3></td><td><img src=\"ipythonteam/rgbkrk.jpg\" style=\"height: 150px; text-align: center; margin-left: auto; margin-right: auto;\"/><h3 style=\"text-align: center;\">Kyle Kelley</h3></td></tr><tr><td><img src=\"ipythonteam/damianavila.jpg\" style=\"height: 150px; text-align: center; margin-left: auto; margin-right: auto;\"/><h3 style=\"text-align: center;\">Damian Avila</h3></td><td><img src=\"ipythonteam/jhamrick.jpg\" style=\"height: 150px; text-align: center; margin-left: auto; margin-right: auto;\"/><h3 style=\"text-align: center;\">Jessica Hamrick</h3></td></tr></table>"
      ],
      "text/plain": [
       "<IPython.core.display.HTML object>"
      ]
     },
     "metadata": {},
     "output_type": "display_data"
    }
   ],
   "source": [
    "import ipythonproject\n",
    "ipythonproject.core_devs()"
   ]
  },
  {
   "cell_type": "markdown",
   "metadata": {},
   "source": [
    "* Google (Kayur Patel, Kester Tong, Mark Sandler, Corinna Cortes)\n",
    "* Bloomberg (Jason Grout, Sylvain Corlay, Chris Colbert)\n",
    "* yt (Matthew Turk)\n",
    "* Design (Adrienne Wantulok)"
   ]
  },
  {
   "cell_type": "markdown",
   "metadata": {
    "slideshow": {
     "slide_type": "slide"
    }
   },
   "source": [
    "## Outline"
   ]
  },
  {
   "cell_type": "markdown",
   "metadata": {},
   "source": [
    "### What is the Jupyter Notebook?\n",
    "\n",
    "* [Notebook Tour](Notebook Tour.ipynb)\n",
    "* [Notebook Usage](Notebook Usage.ipynb)\n",
    "* [R Examples](R Examples.ipynb)\n",
    "* [Bash Examples](Bash Examples.ipynb)\n",
    "* [Interaction](Interaction.ipynb)\n",
    "* [Master list of kernels](https://github.com/ipython/ipython/wiki/IPython-kernels-for-other-languages)\n",
    "* https://nbviewer.jupyter.org\n",
    "* [Deploying and Scaling](Deploying and Scaling.ipynb)\n",
    "\n",
    "### Multiuser/deployment (Kyle)\n",
    "\n",
    "### Open standards for interactive computing (Fernando)"
   ]
  }
 ],
 "metadata": {
  "kernelspec": {
   "display_name": "Python 2",
   "language": "python",
   "name": "python2"
  },
  "language_info": {
   "codemirror_mode": {
    "name": "ipython",
    "version": 2
   },
   "file_extension": ".py",
   "mimetype": "text/x-python",
   "name": "python",
   "nbconvert_exporter": "python",
   "pygments_lexer": "ipython2",
   "version": "2.7.9"
  }
 },
 "nbformat": 4,
 "nbformat_minor": 0
}
