{
 "metadata": {
  "kernelspec": {
   "codemirror_mode": "shell",
   "display_name": "Bash",
   "language": "bash",
   "name": "bash"
  },
  "name": "",
  "signature": "sha256:7b1c80ae19431f64cd1bc2fccd631b77adfca58183189d6c6a75036eb5448a67"
 },
 "nbformat": 3,
 "nbformat_minor": 0,
 "worksheets": [
  {
   "cells": [
    {
     "cell_type": "markdown",
     "metadata": {
      "slideshow": {
       "slide_type": "slide"
      }
     },
     "source": [
      "# Bash Examples"
     ]
    },
    {
     "cell_type": "markdown",
     "metadata": {},
     "source": [
      "The Bash kernel runs code cells as Bash commands in a persistent Bash shell:"
     ]
    },
    {
     "cell_type": "code",
     "collapsed": false,
     "input": [
      "df -H"
     ],
     "language": "python",
     "metadata": {},
     "outputs": [],
     "prompt_number": 1
    },
    {
     "cell_type": "code",
     "collapsed": false,
     "input": [
      "which python"
     ],
     "language": "python",
     "metadata": {},
     "outputs": [],
     "prompt_number": 2
    },
    {
     "cell_type": "code",
     "collapsed": false,
     "input": [
      "project=\"Jupyter\""
     ],
     "language": "python",
     "metadata": {},
     "outputs": []
    },
    {
     "cell_type": "code",
     "collapsed": false,
     "input": [
      "echo \"Hello to the $project project from $BASH\""
     ],
     "language": "python",
     "metadata": {},
     "outputs": []
    },
    {
     "cell_type": "code",
     "collapsed": false,
     "input": [
      "e"
     ],
     "language": "python",
     "metadata": {},
     "outputs": []
    }
   ],
   "metadata": {}
  }
 ]
}