{
 "cells": [
  {
   "cell_type": "markdown",
   "metadata": {
    "slideshow": {
     "slide_type": "slide"
    }
   },
   "source": [
    "# Bash Examples"
   ]
  },
  {
   "cell_type": "markdown",
   "metadata": {},
   "source": [
    "The Bash kernel runs code cells as Bash commands in a persistent Bash shell:"
   ]
  },
  {
   "cell_type": "code",
   "execution_count": 1,
   "metadata": {
    "collapsed": false
   },
   "outputs": [
    {
     "name": "stdout",
     "output_type": "stream",
     "text": [
      "Filesystem      Size   Used  Avail Capacity  iused    ifree %iused  Mounted on\r\n",
      "/dev/disk1      250G   194G    56G    78% 47351511 13640104   78%   /\r\n",
      "devfs           198k   198k     0B   100%      668        0  100%   /dev\r\n",
      "map -hosts        0B     0B     0B   100%        0        0  100%   /net\r\n",
      "map auto_home     0B     0B     0B   100%        0        0  100%   /home\r\n",
      "/dev/disk2s2    371M   335M    36M    91%    81821     8774   90%   /Volumes/Adobe Photoshop CC 2014\r\n",
      "/dev/disk3s2    171M   135M    37M    79%    32856     9010   78%   /Volumes/AdobeCameraRaw-8.7-CC-mul-AdobeUpdate\r\n",
      "/dev/disk4s2    263M   235M    29M    90%    57257     6980   89%   /Volumes/Adobe_Illustrator_CC_2014_18_1_1\r\n"
     ]
    }
   ],
   "source": [
    "df -H"
   ]
  },
  {
   "cell_type": "code",
   "execution_count": 2,
   "metadata": {
    "collapsed": false
   },
   "outputs": [
    {
     "name": "stdout",
     "output_type": "stream",
     "text": [
      "/Users/bgranger/anaconda/bin/python\r\n"
     ]
    }
   ],
   "source": [
    "which python"
   ]
  },
  {
   "cell_type": "code",
   "execution_count": 3,
   "metadata": {
    "collapsed": false
   },
   "outputs": [
    {
     "name": "stdout",
     "output_type": "stream",
     "text": []
    }
   ],
   "source": [
    "project=\"Jupyter\""
   ]
  },
  {
   "cell_type": "code",
   "execution_count": 4,
   "metadata": {
    "collapsed": false
   },
   "outputs": [
    {
     "name": "stdout",
     "output_type": "stream",
     "text": [
      "Hello to the Jupyter project from /bin/bash\r\n"
     ]
    }
   ],
   "source": [
    "echo \"Hello to the $project project from $BASH\""
   ]
  },
  {
   "cell_type": "code",
   "execution_count": 5,
   "metadata": {
    "collapsed": false
   },
   "outputs": [
    {
     "name": "stdout",
     "output_type": "stream",
     "text": [
      "bash: e: command not found\r\n"
     ]
    }
   ],
   "source": [
    "e"
   ]
  },
  {
   "cell_type": "code",
   "execution_count": null,
   "metadata": {
    "collapsed": true
   },
   "outputs": [],
   "source": []
  }
 ],
 "metadata": {
  "kernelspec": {
   "display_name": "Bash",
   "language": "bash",
   "name": "bash"
  },
  "language_info": {
   "codemirror_mode": "shell",
   "file_extension": ".sh",
   "mimetype": "text/x-sh",
   "name": "bash"
  }
 },
 "nbformat": 4,
 "nbformat_minor": 0
}
