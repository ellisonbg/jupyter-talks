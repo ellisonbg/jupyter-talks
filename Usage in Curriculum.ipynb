{
 "cells": [
  {
   "cell_type": "markdown",
   "metadata": {
    "slideshow": {
     "slide_type": "slide"
    }
   },
   "source": [
    "# Usage of the Jupyter Notebook in curriculum"
   ]
  },
  {
   "cell_type": "code",
   "execution_count": null,
   "metadata": {
    "collapsed": false
   },
   "outputs": [],
   "source": [
    "%load_ext load_style\n",
    "%load_style images.css\n",
    "from IPython.display import display, Image, HTML"
   ]
  },
  {
   "cell_type": "markdown",
   "metadata": {
    "slideshow": {
     "slide_type": "slide"
    }
   },
   "source": [
    "## Cam Davidson-Pilon's \"Probabalistic Programming and Bayesian Methods for Hackers\""
   ]
  },
  {
   "cell_type": "markdown",
   "metadata": {
    "slideshow": {
     "slide_type": "-"
    }
   },
   "source": [
    "Cam Davidson-Pilon has written an entire book on Bayesian Statistics as a set of Jupyter+IPython Notebooks that are hosted on GitHub and viewed on https://nbviewer.jupyter.org.\n",
    "\n",
    "https://github.com/CamDavidsonPilon/Probabilistic-Programming-and-Bayesian-Methods-for-Hackers\n",
    "\n",
    "http://camdavidsonpilon.github.io/Probabilistic-Programming-and-Bayesian-Methods-for-Hackers/"
   ]
  },
  {
   "cell_type": "code",
   "execution_count": null,
   "metadata": {
    "collapsed": false
   },
   "outputs": [],
   "source": [
    "Image(\"images/cam-davidson-pilon.png\", width=\"80%\")"
   ]
  },
  {
   "cell_type": "markdown",
   "metadata": {},
   "source": [
    "## Kalman and Bayesian Filters in Python\n",
    "\n",
    "Roger Labbe has written another book using notebooks on GitHub:\n",
    "\n",
    "https://github.com/rlabbe/Kalman-and-Bayesian-Filters-in-Python/\n",
    "\n",
    "http://nbviewer.ipython.org/github/rlabbe/Kalman-and-Bayesian-Filters-in-Python/blob/master/table_of_contents.ipynb"
   ]
  },
  {
   "cell_type": "code",
   "execution_count": null,
   "metadata": {
    "collapsed": false
   },
   "outputs": [],
   "source": [
    "Image(\"images/kalman-filters-in-python.png\", width=\"80%\")"
   ]
  },
  {
   "cell_type": "markdown",
   "metadata": {},
   "source": [
    "## Introduction to Applied Bioinformatics\n",
    "\n",
    "Greg Caporaso is writing a course on [Introduction to Applied Bioinformatics](http://caporasolab.us/An-Introduction-To-Applied-Bioinformatics/) as a set of Jupyter notebooks on GitHub."
   ]
  },
  {
   "cell_type": "code",
   "execution_count": null,
   "metadata": {
    "collapsed": false
   },
   "outputs": [],
   "source": [
    "Image(\"images/iab-caporaso.png\", width=\"80%\")"
   ]
  },
  {
   "cell_type": "markdown",
   "metadata": {},
   "source": [
    "## Quantitative Economics\n",
    "\n",
    "Thomas J. Sargent and John Stachurski have developed a web site and course [Quantitative Economics](http://quant-econ.net/) using Python and Julia. Solutions are provided as Jupyter Notebooks."
   ]
  },
  {
   "cell_type": "code",
   "execution_count": null,
   "metadata": {
    "collapsed": false
   },
   "outputs": [],
   "source": [
    "Image(\"images/quant-econ.png\", width=\"80%\")"
   ]
  },
  {
   "cell_type": "markdown",
   "metadata": {},
   "source": [
    "## AeroPython"
   ]
  },
  {
   "cell_type": "markdown",
   "metadata": {},
   "source": [
    "Lorena Barba of George Washington University has created an excellent curriculum on computational aerodynamics called *AeroPython*. Is is hosted as a set of Jupyter notebooks on GitHub and nbviewer:\n",
    "\n",
    "https://github.com/barbagroup/AeroPython"
   ]
  },
  {
   "cell_type": "code",
   "execution_count": null,
   "metadata": {
    "collapsed": false
   },
   "outputs": [],
   "source": [
    "Image(\"images/aero-python.png\", width=\"80%\")"
   ]
  },
  {
   "cell_type": "markdown",
   "metadata": {},
   "source": [
    "## Data8.org at UC Berkeley"
   ]
  },
  {
   "cell_type": "markdown",
   "metadata": {},
   "source": [
    "UC Berkeley is undertaking a very ambitious program to teach Data Science to all students. This course is using the Jupyter Notebook for lectures, content and assignments.\n",
    "\n",
    "http://data8.org/"
   ]
  },
  {
   "cell_type": "code",
   "execution_count": null,
   "metadata": {
    "collapsed": false
   },
   "outputs": [],
   "source": [
    "Image(\"images/data8.png\", width=\"80%\")"
   ]
  },
  {
   "cell_type": "markdown",
   "metadata": {
    "slideshow": {
     "slide_type": "slide"
    }
   },
   "source": [
    "## Teaching"
   ]
  },
  {
   "cell_type": "markdown",
   "metadata": {},
   "source": [
    "The Jupyter Notebook is being used for lecture materials and student work in a large number of university and high school courses on scientific computing and data science. Most of these courses are being developed publicly on GitHub. Here are a few of the ones we know about:"
   ]
  },
  {
   "cell_type": "code",
   "execution_count": null,
   "metadata": {
    "collapsed": false
   },
   "outputs": [],
   "source": [
    "%%file courses.csv\n",
    "\"Course\",\"University\",\"Instructor\"\n",
    "\"Python for Data Science\",\"UC Berkeley\",\"Josh Bloom\"\n",
    "\"Introduction to Data Science\",\"UC Berkeley\",\"Michael Franklin\"\n",
    "\"Working with Open Data\",\"UC Berkeley\",\"Raymond Yee\"\n",
    "\"Introduction to Signal Processing\",\"UC Berkeley\",\"Miki Lustig\"\n",
    "\"Data Science (CS 109)\",\"Harvard University\",\"Pfister and Blitzstein\"\n",
    "\"Practical Data Science\",\"NYU\",\"Josh Attenberg\"\n",
    "\"Scientific Computing (ASTR 599)\",\"University of Washington\",\"Jake Vanderplas\"\n",
    "\"Computational Physics\",\"Cal Poly\",\"Jennifer Klay\"\n",
    "\"Introduction to Programming\",\"Alaskan High School\",\"Eric Matthes\"\n",
    "\"Aerodynamics-Hydrodynamics (MAE 6226)\",\"George Washington University\",\"Lorena Barba\"\n",
    "\"HyperPython: hyperbolic conservation laws\",\"KAUST\",\"David Ketcheson\"\n",
    "\"Quantitative Economics\",\"NYU\",\"Sargent and Stachurski\"\n",
    "\"Practical Numerical Methods with Python\",\"4 separate universities + MOOC\",\"Barba, et al.\"\n",
    "\"Data Science\",\"Columbia University - Lede Program\", \"Chris Wiggins\"\n",
    "\"Introduction to Applied Statistics (STATS 191)\",\"Stanford University\",\"Jonathan Taylor\"\n",
    "\"Methods for Applied Statistics (STATS 306B)\",\"Stanford University\",\"Jonathan Taylor\""
   ]
  },
  {
   "cell_type": "code",
   "execution_count": null,
   "metadata": {
    "collapsed": false
   },
   "outputs": [],
   "source": [
    "import pandas"
   ]
  },
  {
   "cell_type": "code",
   "execution_count": null,
   "metadata": {
    "collapsed": false
   },
   "outputs": [],
   "source": [
    "df = pandas.read_csv('courses.csv'); df"
   ]
  }
 ],
 "metadata": {
  "kernelspec": {
   "display_name": "Python 3",
   "language": "python",
   "name": "python3"
  },
  "language_info": {
   "codemirror_mode": {
    "name": "ipython",
    "version": 3
   },
   "file_extension": ".py",
   "mimetype": "text/x-python",
   "name": "python",
   "nbconvert_exporter": "python",
   "pygments_lexer": "ipython3",
   "version": "3.5.0"
  }
 },
 "nbformat": 4,
 "nbformat_minor": 0
}
