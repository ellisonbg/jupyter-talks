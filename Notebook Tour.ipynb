{
 "cells": [
  {
   "cell_type": "markdown",
   "metadata": {
    "slideshow": {
     "slide_type": "slide"
    }
   },
   "source": [
    "# Notebook Tour"
   ]
  },
  {
   "cell_type": "code",
   "execution_count": 5,
   "metadata": {
    "collapsed": false
   },
   "outputs": [],
   "source": [
    "from IPython.display import display, Image, HTML\n",
    "from talktools import website, nbviewer"
   ]
  },
  {
   "cell_type": "markdown",
   "metadata": {},
   "source": [
    "The Jupyter Notebook is a web-based application that enables users to create documents that combine live code wth narrative next, equations, images, visualizations and HTML/JavaScript widgets.\n",
    "\n",
    "This notebook gives an overview of the Jupyter Notebook and the standard IPython Kernel for running Python code."
   ]
  },
  {
   "cell_type": "markdown",
   "metadata": {
    "slideshow": {
     "slide_type": "slide"
    }
   },
   "source": [
    "## Interactive exploration"
   ]
  },
  {
   "cell_type": "markdown",
   "metadata": {},
   "source": [
    "First and foremost, Jupyter is an interactive environment for writing and running code. We provide features to make this as pleasant as possible."
   ]
  },
  {
   "cell_type": "code",
   "execution_count": 2,
   "metadata": {
    "collapsed": false
   },
   "outputs": [
    {
     "data": {
      "text/plain": [
       "4"
      ]
     },
     "execution_count": 2,
     "metadata": {},
     "output_type": "execute_result"
    }
   ],
   "source": [
    "2+2"
   ]
  },
  {
   "cell_type": "code",
   "execution_count": 3,
   "metadata": {
    "collapsed": true
   },
   "outputs": [],
   "source": [
    "import math"
   ]
  },
  {
   "cell_type": "code",
   "execution_count": 4,
   "metadata": {
    "collapsed": true
   },
   "outputs": [],
   "source": [
    "math.atan?"
   ]
  },
  {
   "cell_type": "markdown",
   "metadata": {},
   "source": [
    "Inline plotting:"
   ]
  },
  {
   "cell_type": "code",
   "execution_count": 5,
   "metadata": {
    "collapsed": false
   },
   "outputs": [
    {
     "name": "stdout",
     "output_type": "stream",
     "text": [
      "Populating the interactive namespace from numpy and matplotlib\n"
     ]
    }
   ],
   "source": [
    "%pylab inline"
   ]
  },
  {
   "cell_type": "code",
   "execution_count": 6,
   "metadata": {
    "collapsed": false
   },
   "outputs": [
    {
     "data": {
      "text/plain": [
       "[<matplotlib.lines.Line2D at 0x10616f510>]"
      ]
     },
     "execution_count": 6,
     "metadata": {},
     "output_type": "execute_result"
    },
    {
     "data": {
      "image/png": "[encoded data removed]",
      "text/plain": [
       "<matplotlib.figure.Figure at 0x1060cd350>"
      ]
     },
     "metadata": {},
     "output_type": "display_data"
    }
   ],
   "source": [
    "plot(rand(50))"
   ]
  },
  {
   "cell_type": "markdown",
   "metadata": {},
   "source": [
    "Seamless access to the system shell:"
   ]
  },
  {
   "cell_type": "code",
   "execution_count": 8,
   "metadata": {
    "collapsed": false
   },
   "outputs": [
    {
     "name": "stdout",
     "output_type": "stream",
     "text": [
      "total 3064\r\n",
      "drwxr-xr-x  35 bgranger  staff    1190 Mar 20 19:03 \u001b[34m.\u001b[m\u001b[m\r\n",
      "drwxr-xr-x  50 bgranger  staff    1700 Mar 14 16:32 \u001b[34m..\u001b[m\u001b[m\r\n",
      "-rw-r--r--@  1 bgranger  staff    8196 Mar 18 10:03 .DS_Store\r\n",
      "drwxr-xr-x  15 bgranger  staff     510 Mar 20 11:10 \u001b[34m.git\u001b[m\u001b[m\r\n",
      "-rw-r--r--@  1 bgranger  staff     575 Mar 14 09:48 .gitignore\r\n",
      "drwxr-xr-x  18 bgranger  staff     612 Mar 19 15:04 \u001b[34m.ipynb_checkpoints\u001b[m\u001b[m\r\n",
      "-rw-r--r--   1 bgranger  staff    2840 Mar 20 17:16 Bash Examples.ipynb\r\n",
      "-rw-r--r--   1 bgranger  staff  430125 Mar 14 13:09 Components.ipynb\r\n",
      "-rw-r--r--   1 bgranger  staff    4833 Mar 20 17:17 Deploying and Scaling.ipynb\r\n",
      "-rw-r--r--   1 bgranger  staff    1033 Mar 16 10:46 Future.ipynb\r\n",
      "-rw-r--r--   1 bgranger  staff    1838 Mar 20 17:20 Index.ipynb\r\n",
      "-rw-r--r--   1 bgranger  staff    9696 Mar 20 17:17 Interaction.ipynb\r\n",
      "-rw-r--r--   1 bgranger  staff    6210 Mar 20 17:18 Jupyter and IPython.ipynb\r\n",
      "-rw-r--r--   1 bgranger  staff    1082 Feb 19 12:54 LICENSE\r\n",
      "-rw-r--r--   1 bgranger  staff   37679 Mar 20 19:03 Notebook Tour.ipynb\r\n",
      "-rw-r--r--   1 bgranger  staff   17777 Mar 20 17:19 Notebook Usage.ipynb\r\n",
      "-rw-r--r--   1 bgranger  staff    2430 Mar 20 17:19 R Examples.ipynb\r\n",
      "-rw-r--r--@  1 bgranger  staff     778 Feb 19 12:54 README.md\r\n",
      "-rw-r--r--   1 bgranger  staff    4734 Mar 14 13:24 Theme.ipynb\r\n",
      "-rw-r--r--   1 bgranger  staff  411738 Mar 14 13:09 Visualization.ipynb\r\n",
      "-rw-r--r--   1 bgranger  staff  535827 Feb 19 13:05 What is Data Science.ipynb\r\n",
      "-rw-r--r--   1 bgranger  staff    1130 Mar 19 15:27 courses.csv\r\n",
      "drwxr-xr-x   4 bgranger  staff     136 Feb 19 12:54 \u001b[34mdata\u001b[m\u001b[m\r\n",
      "-rw-r--r--   1 bgranger  staff    1676 Feb 19 12:54 frontmatter.py\r\n",
      "drwxr-xr-x  59 bgranger  staff    2006 Mar 20 11:13 \u001b[34mimages\u001b[m\u001b[m\r\n",
      "-rw-r--r--@  1 bgranger  staff    1192 Feb 19 13:16 ipythonproject.py\r\n",
      "-rw-r--r--   1 bgranger  staff    1836 Feb 19 13:17 ipythonproject.pyc\r\n",
      "drwxr-xr-x  18 bgranger  staff     612 Feb 19 13:16 \u001b[34mipythonteam\u001b[m\u001b[m\r\n",
      "-rw-r--r--   1 bgranger  staff     606 Feb 19 12:54 load_style.py\r\n",
      "-rw-r--r--   1 bgranger  staff    1327 Feb 19 12:54 lorenz.py\r\n",
      "-rw-r--r--   1 bgranger  staff    1850 Feb 19 12:54 lorenz.pyc\r\n",
      "-rw-r--r--   1 bgranger  staff     972 Feb 19 12:54 talk.css\r\n",
      "-rw-r--r--@  1 bgranger  staff    1090 Feb 19 12:54 talktools.py\r\n",
      "-rw-r--r--   1 bgranger  staff    1554 Feb 19 13:14 talktools.pyc\r\n",
      "-rw-r--r--   1 bgranger  staff      13 Feb 19 12:54 testing.md\r\n"
     ]
    }
   ],
   "source": [
    "!ls -al"
   ]
  },
  {
   "cell_type": "markdown",
   "metadata": {
    "slideshow": {
     "slide_type": "slide"
    }
   },
   "source": [
    "## Narrative text and equations"
   ]
  },
  {
   "cell_type": "markdown",
   "metadata": {},
   "source": [
    "In addition to code cells, the Notebook offers Markdown cells, which enable the user to create narrative text with embedded LaTeX equations. Here is a cell that includes Maxwell's equations:\n",
    "\n",
    "\\begin{aligned}\n",
    "\\nabla \\times \\vec{\\mathbf{B}} -\\, \\frac1c\\, \\frac{\\partial\\vec{\\mathbf{E}}}{\\partial t} & = \\frac{4\\pi}{c}\\vec{\\mathbf{j}} \\\\   \\nabla \\cdot \\vec{\\mathbf{E}} & = 4 \\pi \\rho \\\\\n",
    "\\nabla \\times \\vec{\\mathbf{E}}\\, +\\, \\frac1c\\, \\frac{\\partial\\vec{\\mathbf{B}}}{\\partial t} & = \\vec{\\mathbf{0}} \\\\\n",
    "\\nabla \\cdot \\vec{\\mathbf{B}} & = 0 \\end{aligned}"
   ]
  },
  {
   "cell_type": "markdown",
   "metadata": {},
   "source": [
    "Markdown cells enable users to create complex narratives that tell stories using code and data.\n",
    "\n",
    "We are calling this **literate computing** as it is similar to Knuth's [literate programming](http://en.wikipedia.org/wiki/Literate_programming), but involves *live* code and data."
   ]
  },
  {
   "cell_type": "markdown",
   "metadata": {
    "slideshow": {
     "slide_type": "slide"
    }
   },
   "source": [
    "## Rich output"
   ]
  },
  {
   "cell_type": "markdown",
   "metadata": {},
   "source": [
    "Programming langauges, including Python, allow the writing of textual output to `stdout` and `stderr`. Jupyter and IPython extend this idea and allows objects to declare **rich output representations**:\n",
    "\n",
    "* JavaScript\n",
    "* HTML\n",
    "* LaTeX\n",
    "* PDF\n",
    "* PNG/JPEG\n",
    "* SVG\n",
    "\n",
    "In IPython, the `display` function is like `print` for these rich representations:"
   ]
  },
  {
   "cell_type": "code",
   "execution_count": 9,
   "metadata": {
    "collapsed": false
   },
   "outputs": [],
   "source": [
    "from IPython.display import display"
   ]
  },
  {
   "cell_type": "markdown",
   "metadata": {
    "slideshow": {
     "slide_type": "slide"
    }
   },
   "source": [
    "### Images"
   ]
  },
  {
   "cell_type": "markdown",
   "metadata": {},
   "source": [
    "The `Image` object has a JPEG/PNG representation that is rendered by the Notebook:"
   ]
  },
  {
   "cell_type": "code",
   "execution_count": 10,
   "metadata": {
    "collapsed": false
   },
   "outputs": [],
   "source": [
    "from IPython.display import Image"
   ]
  },
  {
   "cell_type": "code",
   "execution_count": 11,
   "metadata": {
    "collapsed": false
   },
   "outputs": [],
   "source": [
    "i = Image(\"images/jupyter_logo.png\")"
   ]
  },
  {
   "cell_type": "markdown",
   "metadata": {},
   "source": [
    "This representation is displayed if the object is returned from an expression:"
   ]
  },
  {
   "cell_type": "code",
   "execution_count": 12,
   "metadata": {
    "collapsed": false
   },
   "outputs": [
    {
     "name": "stdout",
     "output_type": "stream",
     "text": [
      "<IPython.core.display.Image object>\n"
     ]
    }
   ],
   "source": [
    "print(i)"
   ]
  },
  {
   "cell_type": "code",
   "execution_count": 13,
   "metadata": {
    "collapsed": false
   },
   "outputs": [
    {
     "data": {
      "image/png": "[encoded data removed]",
      "text/plain": [
       "<IPython.core.display.Image object>"
      ]
     },
     "execution_count": 13,
     "metadata": {},
     "output_type": "execute_result"
    }
   ],
   "source": [
    "i"
   ]
  },
  {
   "cell_type": "markdown",
   "metadata": {},
   "source": [
    "Or you can manually display the object using `display`:"
   ]
  },
  {
   "cell_type": "code",
   "execution_count": 14,
   "metadata": {
    "collapsed": false
   },
   "outputs": [
    {
     "data": {
      "image/png": "[encoded data removed]",
      "text/plain": [
       "<IPython.core.display.Image object>"
      ]
     },
     "metadata": {},
     "output_type": "display_data"
    }
   ],
   "source": [
    "display(i)"
   ]
  },
  {
   "cell_type": "markdown",
   "metadata": {
    "slideshow": {
     "slide_type": "slide"
    }
   },
   "source": [
    "### HTML"
   ]
  },
  {
   "cell_type": "markdown",
   "metadata": {},
   "source": [
    "The `HTML` object has an HTML representation:"
   ]
  },
  {
   "cell_type": "code",
   "execution_count": 15,
   "metadata": {
    "collapsed": false
   },
   "outputs": [],
   "source": [
    "from IPython.display import HTML"
   ]
  },
  {
   "cell_type": "code",
   "execution_count": 16,
   "metadata": {
    "collapsed": false
   },
   "outputs": [],
   "source": [
    "s = \"\"\"<table>\n",
    "<tr>\n",
    "<th>Header 1</th>\n",
    "<th>Header 2</th>\n",
    "</tr>\n",
    "<tr>\n",
    "<td>row 1, cell 1</td>\n",
    "<td>row 1, cell 2</td>\n",
    "</tr>\n",
    "<tr>\n",
    "<td>row 2, cell 1</td>\n",
    "<td>row 2, cell 2</td>\n",
    "</tr>\n",
    "</table>\"\"\""
   ]
  },
  {
   "cell_type": "code",
   "execution_count": 17,
   "metadata": {
    "collapsed": false
   },
   "outputs": [],
   "source": [
    "h = HTML(s)"
   ]
  },
  {
   "cell_type": "code",
   "execution_count": 18,
   "metadata": {
    "collapsed": false
   },
   "outputs": [
    {
     "data": {
      "text/html": [
       "<table>\n",
       "<tr>\n",
       "<th>Header 1</th>\n",
       "<th>Header 2</th>\n",
       "</tr>\n",
       "<tr>\n",
       "<td>row 1, cell 1</td>\n",
       "<td>row 1, cell 2</td>\n",
       "</tr>\n",
       "<tr>\n",
       "<td>row 2, cell 1</td>\n",
       "<td>row 2, cell 2</td>\n",
       "</tr>\n",
       "</table>"
      ],
      "text/plain": [
       "<IPython.core.display.HTML object>"
      ]
     },
     "metadata": {},
     "output_type": "display_data"
    }
   ],
   "source": [
    "display(h)"
   ]
  },
  {
   "cell_type": "markdown",
   "metadata": {
    "slideshow": {
     "slide_type": "slide"
    }
   },
   "source": [
    "### JavaScript"
   ]
  },
  {
   "cell_type": "markdown",
   "metadata": {},
   "source": [
    "The `Javascript` object has a \"representation\" that runs JavaScript code in the context of the Notebook."
   ]
  },
  {
   "cell_type": "code",
   "execution_count": null,
   "metadata": {
    "collapsed": false
   },
   "outputs": [],
   "source": [
    "from IPython.display import Javascript"
   ]
  },
  {
   "cell_type": "code",
   "execution_count": null,
   "metadata": {
    "collapsed": false
   },
   "outputs": [],
   "source": [
    "display(Javascript(\"alert('hi');\"))"
   ]
  },
  {
   "cell_type": "markdown",
   "metadata": {
    "slideshow": {
     "slide_type": "slide"
    }
   },
   "source": [
    "### LaTeX"
   ]
  },
  {
   "cell_type": "markdown",
   "metadata": {},
   "source": [
    "This display architecture also understands objects that have a LaTeX representation. This is best illustrated by [SymPy](http://sympy.org/en/index.html), which is a symbolic mathematics package for Python."
   ]
  },
  {
   "cell_type": "code",
   "execution_count": 1,
   "metadata": {
    "collapsed": false
   },
   "outputs": [],
   "source": [
    "from __future__ import division\n",
    "from sympy import *\n",
    "x, y, z = symbols(\"x y z\")\n",
    "init_printing(use_latex='mathjax')"
   ]
  },
  {
   "cell_type": "markdown",
   "metadata": {},
   "source": [
    "When a symbolic expression is passed to `display` or returned from an expression, the LaTeX representation is computed and displayed in the Notebook:"
   ]
  },
  {
   "cell_type": "code",
   "execution_count": 2,
   "metadata": {
    "collapsed": false
   },
   "outputs": [
    {
     "data": {
      "text/latex": [
       "$$\\frac{3 \\pi}{2} + \\frac{e^{i x}}{x^{2} + y}$$"
      ],
      "text/plain": [
       "        ⅈ⋅x \n",
       "3⋅π    ℯ    \n",
       "─── + ──────\n",
       " 2     2    \n",
       "      x  + y"
      ]
     },
     "execution_count": 2,
     "metadata": {},
     "output_type": "execute_result"
    }
   ],
   "source": [
    "Rational(3,2)*pi + exp(I*x) / (x**2 + y)"
   ]
  },
  {
   "cell_type": "code",
   "execution_count": 3,
   "metadata": {
    "collapsed": false
   },
   "outputs": [
    {
     "data": {
      "text/latex": [
       "$$1 + \\frac{x^{2}}{2} + \\frac{5 x^{4}}{24} + \\frac{61 x^{6}}{720} + \\frac{277 x^{8}}{8064} + \\frac{50521 x^{10}}{3628800} + \\mathcal{O}\\left(x^{12}\\right)$$"
      ],
      "text/plain": [
       "     2      4       6        8          10         \n",
       "    x    5⋅x    61⋅x    277⋅x    50521⋅x      ⎛ 12⎞\n",
       "1 + ── + ──── + ───── + ────── + ───────── + O⎝x  ⎠\n",
       "    2     24     720     8064     3628800          "
      ]
     },
     "execution_count": 3,
     "metadata": {},
     "output_type": "execute_result"
    }
   ],
   "source": [
    "(1/cos(x)).series(x, 0, 12)"
   ]
  },
  {
   "cell_type": "markdown",
   "metadata": {},
   "source": [
    "## nbviewer"
   ]
  },
  {
   "cell_type": "markdown",
   "metadata": {},
   "source": [
    "**nbviewer** is a website for sharing Jupyter Notebooks on the web. It uses `nbconvert` to create a static HTML rendering of any notebook on the internet. This makes it easy to share notebooks with anyone in the world, without their having to install, or even know anything about, Jupyter or IPython."
   ]
  },
  {
   "cell_type": "code",
   "execution_count": 6,
   "metadata": {
    "collapsed": false
   },
   "outputs": [
    {
     "data": {
      "text/html": [
       "<iframe src=\"https://nbviewer.jupyter.org\"  width=\"100%\" height=\"450\">\n",
       "</iframe>"
      ],
      "text/plain": [
       "<IPython.core.display.HTML object>"
      ]
     },
     "execution_count": 6,
     "metadata": {},
     "output_type": "execute_result"
    }
   ],
   "source": [
    "website('https://nbviewer.jupyter.org')"
   ]
  }
 ],
 "metadata": {
  "kernelspec": {
   "display_name": "Python 2",
   "language": "python",
   "name": "python2"
  },
  "language_info": {
   "codemirror_mode": {
    "name": "ipython",
    "version": 2
   },
   "file_extension": ".py",
   "mimetype": "text/x-python",
   "name": "python",
   "nbconvert_exporter": "python",
   "pygments_lexer": "ipython2",
   "version": "2.7.9"
  }
 },
 "nbformat": 4,
 "nbformat_minor": 0
}
