{
 "cells": [
  {
   "cell_type": "markdown",
   "metadata": {
    "slideshow": {
     "slide_type": "slide"
    }
   },
   "source": [
    "# Notebook Tour"
   ]
  },
  {
   "cell_type": "code",
   "execution_count": 1,
   "metadata": {
    "collapsed": false
   },
   "outputs": [],
   "source": [
    "from IPython.display import display, Image, HTML\n",
    "from talktools import website, nbviewer"
   ]
  },
  {
   "cell_type": "markdown",
   "metadata": {},
   "source": [
    "The Jupyter Notebook is a web-based application that enables users to create documents that combine live code wth narrative next, equations, images, visualizations and HTML/JavaScript widgets.\n",
    "\n",
    "This notebook gives an overview of the Jupyter Notebook and the standard IPython Kernel for running Python code."
   ]
  },
  {
   "cell_type": "markdown",
   "metadata": {
    "slideshow": {
     "slide_type": "slide"
    }
   },
   "source": [
    "## Interactive exploration"
   ]
  },
  {
   "cell_type": "markdown",
   "metadata": {},
   "source": [
    "First and foremost, Jupyter is an interactive environment for writing and running code. We provide features to make this as pleasant as possible."
   ]
  },
  {
   "cell_type": "markdown",
   "metadata": {},
   "source": [
    "Tab completion:"
   ]
  },
  {
   "cell_type": "code",
   "execution_count": 2,
   "metadata": {
    "collapsed": false
   },
   "outputs": [],
   "source": [
    "import math"
   ]
  },
  {
   "cell_type": "code",
   "execution_count": null,
   "metadata": {
    "collapsed": false
   },
   "outputs": [],
   "source": [
    "math.atanh"
   ]
  },
  {
   "cell_type": "markdown",
   "metadata": {},
   "source": [
    "Interactive help:"
   ]
  },
  {
   "cell_type": "code",
   "execution_count": 3,
   "metadata": {
    "collapsed": false
   },
   "outputs": [],
   "source": [
    "math.cos?"
   ]
  },
  {
   "cell_type": "markdown",
   "metadata": {},
   "source": [
    "Inline plotting:"
   ]
  },
  {
   "cell_type": "code",
   "execution_count": 4,
   "metadata": {
    "collapsed": false
   },
   "outputs": [
    {
     "name": "stdout",
     "output_type": "stream",
     "text": [
      "Populating the interactive namespace from numpy and matplotlib\n"
     ]
    }
   ],
   "source": [
    "%pylab inline"
   ]
  },
  {
   "cell_type": "code",
   "execution_count": 5,
   "metadata": {
    "collapsed": false
   },
   "outputs": [
    {
     "data": {
      "text/plain": [
       "[<matplotlib.lines.Line2D at 0x10627f110>]"
      ]
     },
     "execution_count": 5,
     "metadata": {},
     "output_type": "execute_result"
    },
    {
     "data": {
      "image/png": "[encoded data removed]",
      "text/plain": [
       "<matplotlib.figure.Figure at 0x1061e2290>"
      ]
     },
     "metadata": {},
     "output_type": "display_data"
    }
   ],
   "source": [
    "plot(rand(50))"
   ]
  },
  {
   "cell_type": "markdown",
   "metadata": {},
   "source": [
    "Seamless access to the system shell:"
   ]
  },
  {
   "cell_type": "code",
   "execution_count": 6,
   "metadata": {
    "collapsed": false
   },
   "outputs": [
    {
     "name": "stdout",
     "output_type": "stream",
     "text": [
      "total 6688\r\n",
      "drwxr-xr-x  35 bgranger  staff     1190 Feb 19 10:19 \u001b[34m.\u001b[m\u001b[m/\r\n",
      "drwxr-xr-x  48 bgranger  staff     1632 Feb 19 09:54 \u001b[34m..\u001b[m\u001b[m/\r\n",
      "drwxr-xr-x  15 bgranger  staff      510 Feb 19 09:57 \u001b[34m.git\u001b[m\u001b[m/\r\n",
      "-rw-r--r--   1 bgranger  staff      564 Feb 19 09:54 .gitignore\r\n",
      "drwxr-xr-x  17 bgranger  staff      578 Feb 19 09:54 \u001b[34m.ipynb_checkpoints\u001b[m\u001b[m/\r\n",
      "-rw-------   1 bgranger  staff     1655 Feb 19 09:54 Bash Examples.ipynb\r\n",
      "-rw-r--r--   1 bgranger  staff   378726 Feb 19 09:54 Components.ipynb\r\n",
      "-rw-------   1 bgranger  staff     2822 Feb 19 09:54 Future Directions.ipynb\r\n",
      "-rw-r--r--   1 bgranger  staff     1993 Feb 19 10:04 Index.ipynb\r\n",
      "-rw-r--r--   1 bgranger  staff  1663743 Feb 19 09:54 Interaction.ipynb\r\n",
      "-rw-r--r--   1 bgranger  staff     8641 Feb 19 10:19 Jupyter and IPython.ipynb\r\n",
      "-rw-r--r--   1 bgranger  staff     1082 Feb 19 09:54 LICENSE\r\n",
      "-rw-r--r--   1 bgranger  staff     9173 Feb 19 09:54 Multilanguage.ipynb\r\n",
      "-rw-r--r--   1 bgranger  staff    84229 Feb 19 10:19 Notebook Tour.ipynb\r\n",
      "-rw-r--r--   1 bgranger  staff    64676 Feb 19 09:54 Notebook Usage.ipynb\r\n",
      "-rw-r--r--   1 bgranger  staff   155338 Feb 19 09:54 R Examples.ipynb\r\n",
      "-rw-r--r--@  1 bgranger  staff      778 Feb 19 09:54 README.md\r\n",
      "-rw-r--r--   1 bgranger  staff    20585 Feb 19 10:13 Theme.ipynb\r\n",
      "-rw-r--r--@  1 bgranger  staff     5744 Feb 19 09:54 Tools for Open Science.ipynb\r\n",
      "-rw-r--r--   1 bgranger  staff   401459 Feb 19 09:54 Visualization.ipynb\r\n",
      "-rw-r--r--   1 bgranger  staff   535827 Feb 19 10:05 What is Data Science.ipynb\r\n",
      "-rw-r--r--   1 bgranger  staff      886 Feb 19 09:54 courses.csv\r\n",
      "drwxr-xr-x   4 bgranger  staff      136 Feb 19 09:54 \u001b[34mdata\u001b[m\u001b[m/\r\n",
      "-rw-r--r--   1 bgranger  staff     1676 Feb 19 09:54 frontmatter.py\r\n",
      "drwxr-xr-x  40 bgranger  staff     1360 Feb 19 09:54 \u001b[34mimages\u001b[m\u001b[m/\r\n",
      "-rw-r--r--@  1 bgranger  staff     1192 Feb 19 10:16 ipythonproject.py\r\n",
      "-rw-r--r--   1 bgranger  staff     1836 Feb 19 10:17 ipythonproject.pyc\r\n",
      "drwxr-xr-x  18 bgranger  staff      612 Feb 19 10:16 \u001b[34mipythonteam\u001b[m\u001b[m/\r\n",
      "-rw-r--r--   1 bgranger  staff      606 Feb 19 09:54 load_style.py\r\n",
      "-rw-r--r--   1 bgranger  staff     1327 Feb 19 09:54 lorenz.py\r\n",
      "-rw-r--r--   1 bgranger  staff     1850 Feb 19 09:54 lorenz.pyc\r\n",
      "-rw-r--r--   1 bgranger  staff      972 Feb 19 09:54 talk.css\r\n",
      "-rw-r--r--@  1 bgranger  staff     1090 Feb 19 09:54 talktools.py\r\n",
      "-rw-r--r--   1 bgranger  staff     1554 Feb 19 10:14 talktools.pyc\r\n",
      "-rw-r--r--   1 bgranger  staff       13 Feb 19 09:54 testing.md\r\n"
     ]
    }
   ],
   "source": [
    "ls -al"
   ]
  },
  {
   "cell_type": "markdown",
   "metadata": {
    "slideshow": {
     "slide_type": "slide"
    }
   },
   "source": [
    "## Narrative text and equations"
   ]
  },
  {
   "cell_type": "markdown",
   "metadata": {},
   "source": [
    "In addition to code cells, the Notebook offers Markdown cells, which enable the user to create narrative text with embedded LaTeX equations. Here is a cell that includes Maxwell's equations:\n",
    "\n",
    "\\begin{aligned}\n",
    "\\nabla \\times \\vec{\\mathbf{B}} -\\, \\frac1c\\, \\frac{\\partial\\vec{\\mathbf{E}}}{\\partial t} & = \\frac{4\\pi}{c}\\vec{\\mathbf{j}} \\\\   \\nabla \\cdot \\vec{\\mathbf{E}} & = 4 \\pi \\rho \\\\\n",
    "\\nabla \\times \\vec{\\mathbf{E}}\\, +\\, \\frac1c\\, \\frac{\\partial\\vec{\\mathbf{B}}}{\\partial t} & = \\vec{\\mathbf{0}} \\\\\n",
    "\\nabla \\cdot \\vec{\\mathbf{B}} & = 0 \\end{aligned}"
   ]
  },
  {
   "cell_type": "markdown",
   "metadata": {},
   "source": [
    "Markdown cells enable users to create complex narratives that tell stories using code and data.\n",
    "\n",
    "We are calling this **literate computing** as it is similar to Knuth's [literate programming](http://en.wikipedia.org/wiki/Literate_programming), but involves *live* code and data."
   ]
  },
  {
   "cell_type": "markdown",
   "metadata": {
    "slideshow": {
     "slide_type": "slide"
    }
   },
   "source": [
    "## Rich output"
   ]
  },
  {
   "cell_type": "markdown",
   "metadata": {},
   "source": [
    "Programming langauges, including Python, allow the writing of textual output to `stdout` and `stderr`. Python extends this idea slightly by allowing any Python object to declare its textual representation using special `__str__` and `__repr__` methods. When you `print` a Python object, these methods are automatically called:"
   ]
  },
  {
   "cell_type": "code",
   "execution_count": 7,
   "metadata": {
    "collapsed": false
   },
   "outputs": [],
   "source": [
    "import numpy as np"
   ]
  },
  {
   "cell_type": "code",
   "execution_count": 8,
   "metadata": {
    "collapsed": false
   },
   "outputs": [
    {
     "name": "stdout",
     "output_type": "stream",
     "text": [
      "[ 0.50398769  0.12266513  0.40582981  0.72633949  0.35578485  0.79833099\n",
      "  0.4340518   0.49280045  0.9645344   0.3474351 ]\n"
     ]
    }
   ],
   "source": [
    "a = np.random.rand(10)\n",
    "print a"
   ]
  },
  {
   "cell_type": "markdown",
   "metadata": {},
   "source": [
    "Jupyter and IPython extend this idea and allows objects to declare **rich output representations**:\n",
    "\n",
    "* JavaScript\n",
    "* HTML\n",
    "* LaTeX\n",
    "* PDF\n",
    "* PNG/JPEG\n",
    "* SVG\n",
    "\n",
    "In IPython, the `display` function is like `print` for these rich representations:"
   ]
  },
  {
   "cell_type": "code",
   "execution_count": 9,
   "metadata": {
    "collapsed": false
   },
   "outputs": [],
   "source": [
    "from IPython.display import display"
   ]
  },
  {
   "cell_type": "markdown",
   "metadata": {
    "slideshow": {
     "slide_type": "slide"
    }
   },
   "source": [
    "### Images"
   ]
  },
  {
   "cell_type": "markdown",
   "metadata": {},
   "source": [
    "The `Image` object has a JPEG/PNG representation that is rendered by the Notebook:"
   ]
  },
  {
   "cell_type": "code",
   "execution_count": 10,
   "metadata": {
    "collapsed": false
   },
   "outputs": [],
   "source": [
    "from IPython.display import Image"
   ]
  },
  {
   "cell_type": "code",
   "execution_count": 11,
   "metadata": {
    "collapsed": false
   },
   "outputs": [],
   "source": [
    "i = Image(\"images/jupyter_logo.png\")"
   ]
  },
  {
   "cell_type": "markdown",
   "metadata": {},
   "source": [
    "This representation is displayed if the object is returned from an expression:"
   ]
  },
  {
   "cell_type": "code",
   "execution_count": 12,
   "metadata": {
    "collapsed": false
   },
   "outputs": [
    {
     "data": {
      "image/png": "[encoded data removed]",
      "text/plain": [
       "<IPython.core.display.Image object>"
      ]
     },
     "execution_count": 12,
     "metadata": {},
     "output_type": "execute_result"
    }
   ],
   "source": [
    "i"
   ]
  },
  {
   "cell_type": "markdown",
   "metadata": {},
   "source": [
    "Or you can manually display the object using `display`:"
   ]
  },
  {
   "cell_type": "code",
   "execution_count": 13,
   "metadata": {
    "collapsed": false
   },
   "outputs": [
    {
     "data": {
      "image/png": "[encoded data removed]",
      "text/plain": [
       "<IPython.core.display.Image object>"
      ]
     },
     "metadata": {},
     "output_type": "display_data"
    }
   ],
   "source": [
    "display(i)"
   ]
  },
  {
   "cell_type": "markdown",
   "metadata": {
    "slideshow": {
     "slide_type": "slide"
    }
   },
   "source": [
    "### HTML"
   ]
  },
  {
   "cell_type": "markdown",
   "metadata": {},
   "source": [
    "The `HTML` object has an HTML representation:"
   ]
  },
  {
   "cell_type": "code",
   "execution_count": 14,
   "metadata": {
    "collapsed": false
   },
   "outputs": [],
   "source": [
    "from IPython.display import HTML"
   ]
  },
  {
   "cell_type": "code",
   "execution_count": 15,
   "metadata": {
    "collapsed": false
   },
   "outputs": [],
   "source": [
    "s = \"\"\"<table>\n",
    "<tr>\n",
    "<th>Header 1</th>\n",
    "<th>Header 2</th>\n",
    "</tr>\n",
    "<tr>\n",
    "<td>row 1, cell 1</td>\n",
    "<td>row 1, cell 2</td>\n",
    "</tr>\n",
    "<tr>\n",
    "<td>row 2, cell 1</td>\n",
    "<td>row 2, cell 2</td>\n",
    "</tr>\n",
    "</table>\"\"\""
   ]
  },
  {
   "cell_type": "code",
   "execution_count": 16,
   "metadata": {
    "collapsed": false
   },
   "outputs": [],
   "source": [
    "h = HTML(s)"
   ]
  },
  {
   "cell_type": "code",
   "execution_count": 17,
   "metadata": {
    "collapsed": false
   },
   "outputs": [
    {
     "data": {
      "text/html": [
       "<table>\n",
       "<tr>\n",
       "<th>Header 1</th>\n",
       "<th>Header 2</th>\n",
       "</tr>\n",
       "<tr>\n",
       "<td>row 1, cell 1</td>\n",
       "<td>row 1, cell 2</td>\n",
       "</tr>\n",
       "<tr>\n",
       "<td>row 2, cell 1</td>\n",
       "<td>row 2, cell 2</td>\n",
       "</tr>\n",
       "</table>"
      ],
      "text/plain": [
       "<IPython.core.display.HTML object>"
      ]
     },
     "metadata": {},
     "output_type": "display_data"
    }
   ],
   "source": [
    "display(h)"
   ]
  },
  {
   "cell_type": "markdown",
   "metadata": {
    "slideshow": {
     "slide_type": "slide"
    }
   },
   "source": [
    "### JavaScript"
   ]
  },
  {
   "cell_type": "markdown",
   "metadata": {},
   "source": [
    "The `Javascript` object has a \"representation\" that runs JavaScript code in the context of the Notebook."
   ]
  },
  {
   "cell_type": "code",
   "execution_count": 18,
   "metadata": {
    "collapsed": false
   },
   "outputs": [],
   "source": [
    "from IPython.display import Javascript"
   ]
  },
  {
   "cell_type": "code",
   "execution_count": 19,
   "metadata": {
    "collapsed": false
   },
   "outputs": [
    {
     "data": {
      "application/javascript": [
       "alert('hi');"
      ],
      "text/plain": [
       "<IPython.core.display.Javascript object>"
      ]
     },
     "metadata": {},
     "output_type": "display_data"
    }
   ],
   "source": [
    "display(Javascript(\"alert('hi');\"))"
   ]
  },
  {
   "cell_type": "markdown",
   "metadata": {
    "slideshow": {
     "slide_type": "slide"
    }
   },
   "source": [
    "### LaTeX"
   ]
  },
  {
   "cell_type": "markdown",
   "metadata": {},
   "source": [
    "This display architecture also understands objects that have a LaTeX representation. This is best illustrated by [SymPy](http://sympy.org/en/index.html), which is a symbolic mathematics package for Python."
   ]
  },
  {
   "cell_type": "code",
   "execution_count": 20,
   "metadata": {
    "collapsed": false
   },
   "outputs": [],
   "source": [
    "from __future__ import division\n",
    "from sympy import *\n",
    "x, y, z = symbols(\"x y z\")\n",
    "init_printing(use_latex='mathjax')"
   ]
  },
  {
   "cell_type": "markdown",
   "metadata": {},
   "source": [
    "When a symbolic expression is passed to `display` or returned from an expression, the LaTeX representation is computed and displayed in the Notebook:"
   ]
  },
  {
   "cell_type": "code",
   "execution_count": 21,
   "metadata": {
    "collapsed": false
   },
   "outputs": [
    {
     "data": {
      "text/latex": [
       "$$\\frac{3 \\pi}{2} + \\frac{e^{i x}}{x^{2} + y}$$"
      ],
      "text/plain": [
       "        ⅈ⋅x \n",
       "3⋅π    ℯ    \n",
       "─── + ──────\n",
       " 2     2    \n",
       "      x  + y"
      ]
     },
     "execution_count": 21,
     "metadata": {},
     "output_type": "execute_result"
    }
   ],
   "source": [
    "Rational(3,2)*pi + exp(I*x) / (x**2 + y)"
   ]
  },
  {
   "cell_type": "code",
   "execution_count": 31,
   "metadata": {
    "collapsed": false
   },
   "outputs": [
    {
     "data": {
      "text/latex": [
       "$$1 + \\frac{x^{2}}{2} + \\frac{5 x^{4}}{24} + \\mathcal{O}\\left(x^{6}\\right)$$"
      ],
      "text/plain": [
       "     2      4        \n",
       "    x    5⋅x     ⎛ 6⎞\n",
       "1 + ── + ──── + O⎝x ⎠\n",
       "    2     24         "
      ]
     },
     "execution_count": 31,
     "metadata": {},
     "output_type": "execute_result"
    }
   ],
   "source": [
    "(1/cos(x)).series(x, 0, 6)"
   ]
  },
  {
   "cell_type": "markdown",
   "metadata": {},
   "source": [
    "## nbconvert"
   ]
  },
  {
   "cell_type": "markdown",
   "metadata": {},
   "source": [
    "`nbconvert` is a command line tool and Python package that can convert notebook documents to and from a wide range of formats:\n",
    "\n",
    "* PDF\n",
    "* Static HTML\n",
    "* Markdown\n",
    "* [reveal.js](http://lab.hakim.se/reveal-js/#/) slide shows\n",
    "\n",
    "Convert this very notebook to static HTML:"
   ]
  },
  {
   "cell_type": "code",
   "execution_count": 33,
   "metadata": {
    "collapsed": false
   },
   "outputs": [
    {
     "name": "stdout",
     "output_type": "stream",
     "text": [
      "[NbConvertApp] Using existing profile dir: u'/Users/bgranger/.ipython/profile_default'\n",
      "[NbConvertApp] Converting notebook Notebook Tour.ipynb to html\n",
      "[NbConvertApp] Support files will be in Notebook Tour_files/\n",
      "[NbConvertApp] Loaded template full.tpl\n",
      "[NbConvertApp] Writing 329758 bytes to Notebook Tour.html\n"
     ]
    }
   ],
   "source": [
    "!ipython nbconvert --to html \"Notebook Tour.ipynb\""
   ]
  },
  {
   "cell_type": "markdown",
   "metadata": {},
   "source": [
    "## nbviewer"
   ]
  },
  {
   "cell_type": "markdown",
   "metadata": {},
   "source": [
    "**nbviewer** is a website for sharing Jupyter Notebooks on the web. It uses `nbconvert` to create a static HTML rendering of any notebook on the internet. This makes it easy to share notebooks with anyone in the world, without their having to install, or even know anything about, Jupyter or IPython."
   ]
  },
  {
   "cell_type": "code",
   "execution_count": 32,
   "metadata": {
    "collapsed": false
   },
   "outputs": [
    {
     "data": {
      "text/html": [
       "<iframe src=\"https://nbviewer.jupyter.org\"  width=\"100%\" height=\"450\">\n",
       "</iframe>"
      ],
      "text/plain": [
       "<IPython.core.display.HTML object>"
      ]
     },
     "execution_count": 32,
     "metadata": {},
     "output_type": "execute_result"
    }
   ],
   "source": [
    "website('https://nbviewer.jupyter.org')"
   ]
  }
 ],
 "metadata": {
  "kernelspec": {
   "display_name": "Python 2",
   "language": "python",
   "name": "python2"
  },
  "language_info": {
   "codemirror_mode": {
    "name": "ipython",
    "version": 2
   },
   "file_extension": ".py",
   "mimetype": "text/x-python",
   "name": "python",
   "nbconvert_exporter": "python",
   "pygments_lexer": "ipython2",
   "version": "2.7.9"
  }
 },
 "nbformat": 4,
 "nbformat_minor": 0
}
