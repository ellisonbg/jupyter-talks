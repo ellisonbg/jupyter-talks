{
 "cells": [
  {
   "cell_type": "markdown",
   "metadata": {
    "slideshow": {
     "slide_type": "slide"
    }
   },
   "source": [
    "# Notebook Tour"
   ]
  },
  {
   "cell_type": "markdown",
   "metadata": {},
   "source": [
    "The Jupyter Notebook is a web-based application that enables users to create documents that combine live code wth narrative next, equations, images, visualizations and HTML/JavaScript widgets.\n",
    "\n",
    "This notebook gives an overview of the Jupyter Notebook and the standard IPython Kernel for running Python code."
   ]
  },
  {
   "cell_type": "markdown",
   "metadata": {
    "slideshow": {
     "slide_type": "slide"
    }
   },
   "source": [
    "## Interactive exploration"
   ]
  },
  {
   "cell_type": "markdown",
   "metadata": {},
   "source": [
    "First and foremost, Jupyter is an interactive environment for writing and running code. We provide features to make this as pleasant as possible."
   ]
  },
  {
   "cell_type": "code",
   "execution_count": 1,
   "metadata": {
    "collapsed": false
   },
   "outputs": [
    {
     "data": {
      "text/plain": [
       "4"
      ]
     },
     "execution_count": 1,
     "metadata": {},
     "output_type": "execute_result"
    }
   ],
   "source": [
    "2+2"
   ]
  },
  {
   "cell_type": "code",
   "execution_count": 2,
   "metadata": {
    "collapsed": true
   },
   "outputs": [],
   "source": [
    "import math"
   ]
  },
  {
   "cell_type": "code",
   "execution_count": 3,
   "metadata": {
    "collapsed": true
   },
   "outputs": [],
   "source": [
    "math.acos?"
   ]
  },
  {
   "cell_type": "markdown",
   "metadata": {},
   "source": [
    "Inline plotting:"
   ]
  },
  {
   "cell_type": "code",
   "execution_count": 4,
   "metadata": {
    "collapsed": false
   },
   "outputs": [
    {
     "name": "stdout",
     "output_type": "stream",
     "text": [
      "Populating the interactive namespace from numpy and matplotlib\n"
     ]
    }
   ],
   "source": [
    "%pylab inline"
   ]
  },
  {
   "cell_type": "code",
   "execution_count": 5,
   "metadata": {
    "collapsed": false
   },
   "outputs": [
    {
     "data": {
      "image/png": "[encoded data removed]",
      "text/plain": [
       "<matplotlib.figure.Figure at 0x105160c18>"
      ]
     },
     "metadata": {},
     "output_type": "display_data"
    }
   ],
   "source": [
    "plot(rand(50));"
   ]
  },
  {
   "cell_type": "markdown",
   "metadata": {},
   "source": [
    "Seamless access to the system shell:"
   ]
  },
  {
   "cell_type": "code",
   "execution_count": 6,
   "metadata": {
    "collapsed": false
   },
   "outputs": [
    {
     "name": "stdout",
     "output_type": "stream",
     "text": [
      "total 27808\r\n",
      "drwxr-xr-x  37 bgranger  staff     1258 Oct 20 16:21 \u001b[34m.\u001b[m\u001b[m\r\n",
      "drwxr-xr-x  51 bgranger  staff     1734 Oct 14 15:23 \u001b[34m..\u001b[m\u001b[m\r\n",
      "-rw-r--r--@  1 bgranger  staff     8196 Oct  1 17:47 .DS_Store\r\n",
      "drwxr-xr-x  15 bgranger  staff      510 Oct 14 15:20 \u001b[34m.git\u001b[m\u001b[m\r\n",
      "-rw-r--r--@  1 bgranger  staff      575 Mar 14  2015 .gitignore\r\n",
      "drwxr-xr-x  19 bgranger  staff      646 Oct 20 13:41 \u001b[34m.ipynb_checkpoints\u001b[m\u001b[m\r\n",
      "-rw-r--r--   1 bgranger  staff   828301 Oct 20 13:22 Bash Examples.ipynb\r\n",
      "-rw-r--r--   1 bgranger  staff   430125 Mar 14  2015 Components.ipynb\r\n",
      "-rw-r--r--   1 bgranger  staff  1949410 Oct 20 16:14 Computational Narratives.ipynb\r\n",
      "-rw-r--r--   1 bgranger  staff   684274 Oct  6 16:30 Deploying and Scaling.ipynb\r\n",
      "-rw-r--r--   1 bgranger  staff     1033 Oct  6 15:44 Future.ipynb\r\n",
      "-rw-r--r--   1 bgranger  staff    61448 Oct 20 16:11 Index.ipynb\r\n",
      "-rw-r--r--   1 bgranger  staff   682654 Oct 20 13:39 Interaction.ipynb\r\n",
      "-rw-r--r--   1 bgranger  staff    35607 Oct 20 16:18 Jupyter and IPython.ipynb\r\n",
      "-rw-r--r--   1 bgranger  staff     1082 Feb 19  2015 LICENSE\r\n",
      "-rw-r--r--   1 bgranger  staff     2835 Oct 20 14:00 Notebook Ecosystem.ipynb\r\n",
      "-rw-r--r--   1 bgranger  staff    31700 Oct 20 16:21 Notebook Tour.ipynb\r\n",
      "-rw-r--r--   1 bgranger  staff  7487571 Oct 20 14:01 Notebook Usage.ipynb\r\n",
      "-rw-r--r--   1 bgranger  staff  1267530 Oct 16 11:41 R Examples.ipynb\r\n",
      "-rw-r--r--   1 bgranger  staff      559 Mar 25  2015 README.md\r\n",
      "-rw-r--r--   1 bgranger  staff   137979 Oct 20 13:29 Visualization.ipynb\r\n",
      "-rw-r--r--   1 bgranger  staff   535827 Feb 19  2015 What is Data Science.ipynb\r\n",
      "drwxr-xr-x   3 bgranger  staff      102 Oct  6 15:31 \u001b[34m__pycache__\u001b[m\u001b[m\r\n",
      "-rw-r--r--   1 bgranger  staff     1130 Mar 25  2015 courses.csv\r\n",
      "drwxr-xr-x   4 bgranger  staff      136 Feb 19  2015 \u001b[34mdata\u001b[m\u001b[m\r\n",
      "-rw-r--r--   1 bgranger  staff     1676 Feb 19  2015 frontmatter.py\r\n",
      "drwxr-xr-x  60 bgranger  staff     2040 Oct 20 13:07 \u001b[34mimages\u001b[m\u001b[m\r\n",
      "-rw-r--r--@  1 bgranger  staff     1192 Feb 19  2015 ipythonproject.py\r\n",
      "-rw-r--r--   1 bgranger  staff     1836 Feb 19  2015 ipythonproject.pyc\r\n",
      "drwxr-xr-x  18 bgranger  staff      612 Feb 19  2015 \u001b[34mipythonteam\u001b[m\u001b[m\r\n",
      "-rw-r--r--   1 bgranger  staff      606 Feb 19  2015 load_style.py\r\n",
      "-rw-r--r--   1 bgranger  staff     1327 Feb 19  2015 lorenz.py\r\n",
      "-rw-r--r--   1 bgranger  staff     1850 Feb 19  2015 lorenz.pyc\r\n",
      "-rw-r--r--   1 bgranger  staff      972 Feb 19  2015 talk.css\r\n",
      "-rw-r--r--@  1 bgranger  staff     1090 Feb 19  2015 talktools.py\r\n",
      "-rw-r--r--   1 bgranger  staff     1554 Feb 19  2015 talktools.pyc\r\n",
      "-rw-r--r--   1 bgranger  staff       13 Feb 19  2015 testing.md\r\n"
     ]
    }
   ],
   "source": [
    "!ls -al"
   ]
  },
  {
   "cell_type": "markdown",
   "metadata": {
    "slideshow": {
     "slide_type": "slide"
    }
   },
   "source": [
    "## Narrative text and equations"
   ]
  },
  {
   "cell_type": "markdown",
   "metadata": {},
   "source": [
    "In addition to code cells, the Notebook offers Markdown cells, which enable the user to create narrative text with embedded LaTeX equations. Here is a cell that includes Maxwell's equations:\n",
    "\n",
    "\\begin{aligned}\n",
    "\\nabla \\times \\vec{\\mathbf{B}} -\\, \\frac1c\\, \\frac{\\partial\\vec{\\mathbf{E}}}{\\partial t} & = \\frac{4\\pi}{c}\\vec{\\mathbf{j}} \\\\   \\nabla \\cdot \\vec{\\mathbf{E}} & = 4 \\pi \\rho \\\\\n",
    "\\nabla \\times \\vec{\\mathbf{E}}\\, +\\, \\frac1c\\, \\frac{\\partial\\vec{\\mathbf{B}}}{\\partial t} & = \\vec{\\mathbf{0}} \\\\\n",
    "\\nabla \\cdot \\vec{\\mathbf{B}} & = 0 \\end{aligned}"
   ]
  },
  {
   "cell_type": "markdown",
   "metadata": {},
   "source": [
    "Markdown cells enable users to create complex narratives that tell stories using code and data.\n",
    "\n",
    "We are calling this **literate computing** as it is similar to Knuth's [literate programming](http://en.wikipedia.org/wiki/Literate_programming), but involves *live* code and data."
   ]
  },
  {
   "cell_type": "markdown",
   "metadata": {
    "slideshow": {
     "slide_type": "slide"
    }
   },
   "source": [
    "## Rich output"
   ]
  },
  {
   "cell_type": "markdown",
   "metadata": {},
   "source": [
    "Programming langauges, including Python, allow the writing of textual output to `stdout` and `stderr`. Jupyter and IPython extend this idea and allows objects to declare **rich output representations**:\n",
    "\n",
    "* JavaScript\n",
    "* HTML\n",
    "* LaTeX\n",
    "* PDF\n",
    "* PNG/JPEG\n",
    "* SVG\n",
    "\n",
    "In IPython, the `display` function is like `print` for these rich representations:"
   ]
  },
  {
   "cell_type": "code",
   "execution_count": 7,
   "metadata": {
    "collapsed": false
   },
   "outputs": [],
   "source": [
    "from IPython.display import display"
   ]
  },
  {
   "cell_type": "markdown",
   "metadata": {
    "slideshow": {
     "slide_type": "slide"
    }
   },
   "source": [
    "### Images"
   ]
  },
  {
   "cell_type": "markdown",
   "metadata": {},
   "source": [
    "The `Image` object has a JPEG/PNG representation that is rendered by the Notebook:"
   ]
  },
  {
   "cell_type": "code",
   "execution_count": 9,
   "metadata": {
    "collapsed": false
   },
   "outputs": [],
   "source": [
    "from IPython.display import Image"
   ]
  },
  {
   "cell_type": "code",
   "execution_count": 10,
   "metadata": {
    "collapsed": false
   },
   "outputs": [],
   "source": [
    "i = Image(\"images/jupyter_logo.png\")"
   ]
  },
  {
   "cell_type": "markdown",
   "metadata": {},
   "source": [
    "This representation is displayed if the object is returned from an expression:"
   ]
  },
  {
   "cell_type": "code",
   "execution_count": 11,
   "metadata": {
    "collapsed": false
   },
   "outputs": [
    {
     "name": "stdout",
     "output_type": "stream",
     "text": [
      "<IPython.core.display.Image object>\n"
     ]
    }
   ],
   "source": [
    "print(i)"
   ]
  },
  {
   "cell_type": "code",
   "execution_count": 12,
   "metadata": {
    "collapsed": false
   },
   "outputs": [
    {
     "data": {
      "image/png": "[encoded data removed]",
      "text/plain": [
       "<IPython.core.display.Image object>"
      ]
     },
     "execution_count": 12,
     "metadata": {},
     "output_type": "execute_result"
    }
   ],
   "source": [
    "i"
   ]
  },
  {
   "cell_type": "markdown",
   "metadata": {},
   "source": [
    "Or you can manually display the object using `display`:"
   ]
  },
  {
   "cell_type": "code",
   "execution_count": 13,
   "metadata": {
    "collapsed": false
   },
   "outputs": [
    {
     "data": {
      "image/png": "[encoded data removed]",
      "text/plain": [
       "<IPython.core.display.Image object>"
      ]
     },
     "metadata": {},
     "output_type": "display_data"
    }
   ],
   "source": [
    "display(i)"
   ]
  },
  {
   "cell_type": "markdown",
   "metadata": {
    "slideshow": {
     "slide_type": "slide"
    }
   },
   "source": [
    "### HTML"
   ]
  },
  {
   "cell_type": "markdown",
   "metadata": {},
   "source": [
    "The `HTML` object has an HTML representation:"
   ]
  },
  {
   "cell_type": "code",
   "execution_count": 14,
   "metadata": {
    "collapsed": false
   },
   "outputs": [],
   "source": [
    "from IPython.display import HTML"
   ]
  },
  {
   "cell_type": "code",
   "execution_count": 15,
   "metadata": {
    "collapsed": false
   },
   "outputs": [],
   "source": [
    "s = \"\"\"<table>\n",
    "<tr>\n",
    "<th>Header 1</th>\n",
    "<th>Header 2</th>\n",
    "</tr>\n",
    "<tr>\n",
    "<td>row 1, cell 1</td>\n",
    "<td>row 1, cell 2</td>\n",
    "</tr>\n",
    "<tr>\n",
    "<td>row 2, cell 1</td>\n",
    "<td>row 2, cell 2</td>\n",
    "</tr>\n",
    "</table>\"\"\""
   ]
  },
  {
   "cell_type": "code",
   "execution_count": 16,
   "metadata": {
    "collapsed": false
   },
   "outputs": [],
   "source": [
    "h = HTML(s)"
   ]
  },
  {
   "cell_type": "code",
   "execution_count": 17,
   "metadata": {
    "collapsed": false
   },
   "outputs": [
    {
     "data": {
      "text/html": [
       "<table>\n",
       "<tr>\n",
       "<th>Header 1</th>\n",
       "<th>Header 2</th>\n",
       "</tr>\n",
       "<tr>\n",
       "<td>row 1, cell 1</td>\n",
       "<td>row 1, cell 2</td>\n",
       "</tr>\n",
       "<tr>\n",
       "<td>row 2, cell 1</td>\n",
       "<td>row 2, cell 2</td>\n",
       "</tr>\n",
       "</table>"
      ],
      "text/plain": [
       "<IPython.core.display.HTML object>"
      ]
     },
     "metadata": {},
     "output_type": "display_data"
    }
   ],
   "source": [
    "display(h)"
   ]
  },
  {
   "cell_type": "markdown",
   "metadata": {
    "slideshow": {
     "slide_type": "slide"
    }
   },
   "source": [
    "### JavaScript"
   ]
  },
  {
   "cell_type": "markdown",
   "metadata": {},
   "source": [
    "The `Javascript` object has a \"representation\" that runs JavaScript code in the context of the Notebook."
   ]
  },
  {
   "cell_type": "code",
   "execution_count": 18,
   "metadata": {
    "collapsed": false
   },
   "outputs": [],
   "source": [
    "from IPython.display import Javascript"
   ]
  },
  {
   "cell_type": "code",
   "execution_count": 19,
   "metadata": {
    "collapsed": false
   },
   "outputs": [
    {
     "data": {
      "application/javascript": [
       "alert('hi');"
      ],
      "text/plain": [
       "<IPython.core.display.Javascript object>"
      ]
     },
     "metadata": {},
     "output_type": "display_data"
    }
   ],
   "source": [
    "display(Javascript(\"alert('hi');\"))"
   ]
  },
  {
   "cell_type": "markdown",
   "metadata": {
    "slideshow": {
     "slide_type": "slide"
    }
   },
   "source": [
    "### LaTeX"
   ]
  },
  {
   "cell_type": "markdown",
   "metadata": {},
   "source": [
    "This display architecture also understands objects that have a LaTeX representation. This is best illustrated by [SymPy](http://sympy.org/en/index.html), which is a symbolic mathematics package for Python."
   ]
  },
  {
   "cell_type": "code",
   "execution_count": null,
   "metadata": {
    "collapsed": false
   },
   "outputs": [],
   "source": [
    "from __future__ import division\n",
    "from sympy import *\n",
    "x, y, z = symbols(\"x y z\")\n",
    "init_printing(use_latex='mathjax')"
   ]
  },
  {
   "cell_type": "markdown",
   "metadata": {},
   "source": [
    "When a symbolic expression is passed to `display` or returned from an expression, the LaTeX representation is computed and displayed in the Notebook:"
   ]
  },
  {
   "cell_type": "code",
   "execution_count": null,
   "metadata": {
    "collapsed": false
   },
   "outputs": [],
   "source": [
    "Rational(3,2)*pi + exp(I*x) / (x**2 + y)"
   ]
  },
  {
   "cell_type": "code",
   "execution_count": null,
   "metadata": {
    "collapsed": false
   },
   "outputs": [],
   "source": [
    "(1/cos(x)).series(x, 0, 14)"
   ]
  }
 ],
 "metadata": {
  "kernelspec": {
   "display_name": "Python 3",
   "language": "python",
   "name": "python3"
  },
  "language_info": {
   "codemirror_mode": {
    "name": "ipython",
    "version": 3
   },
   "file_extension": ".py",
   "mimetype": "text/x-python",
   "name": "python",
   "nbconvert_exporter": "python",
   "pygments_lexer": "ipython3",
   "version": "3.5.0"
  }
 },
 "nbformat": 4,
 "nbformat_minor": 0
}
