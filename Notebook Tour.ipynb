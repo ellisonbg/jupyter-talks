{
 "metadata": {
  "kernelspec": {
   "codemirror_mode": {
    "name": "python",
    "version": 2
   },
   "display_name": "Python 2",
   "language": "python",
   "name": "python2"
  },
  "name": "",
  "signature": "sha256:967564f99a3ddfa8567168e6a9b26094546eeef4ef72a1fa1b688a6683842307"
 },
 "nbformat": 3,
 "nbformat_minor": 0,
 "worksheets": [
  {
   "cells": [
    {
     "cell_type": "heading",
     "level": 1,
     "metadata": {
      "slideshow": {
       "slide_type": "slide"
      }
     },
     "source": [
      "Notebook Tour"
     ]
    },
    {
     "cell_type": "code",
     "collapsed": false,
     "input": [
      "from IPython.display import display, Image, HTML\n",
      "from talktools import website, nbviewer"
     ],
     "language": "python",
     "metadata": {},
     "outputs": []
    },
    {
     "cell_type": "markdown",
     "metadata": {},
     "source": [
      "The Jupyter Notebook is a web-based application that enables users to create documents that combine live code wth narrative next, equations, images, visualizations and HTML/JavaScript widgets.\n",
      "\n",
      "This notebook gives an overview of the Jupyter Notebook and the standard IPython Kernel for running Python code."
     ]
    },
    {
     "cell_type": "heading",
     "level": 2,
     "metadata": {
      "slideshow": {
       "slide_type": "slide"
      }
     },
     "source": [
      "Interactive exploration"
     ]
    },
    {
     "cell_type": "markdown",
     "metadata": {},
     "source": [
      "First and foremost, Jupyter is an interactive environment for writing and running code. We provide features to make this as pleasant as possible."
     ]
    },
    {
     "cell_type": "markdown",
     "metadata": {},
     "source": [
      "Tab completion:"
     ]
    },
    {
     "cell_type": "code",
     "collapsed": false,
     "input": [
      "import math"
     ],
     "language": "python",
     "metadata": {},
     "outputs": []
    },
    {
     "cell_type": "code",
     "collapsed": false,
     "input": [
      "math."
     ],
     "language": "python",
     "metadata": {},
     "outputs": []
    },
    {
     "cell_type": "markdown",
     "metadata": {},
     "source": [
      "Interactive help:"
     ]
    },
    {
     "cell_type": "code",
     "collapsed": false,
     "input": [
      "math.cos?"
     ],
     "language": "python",
     "metadata": {},
     "outputs": []
    },
    {
     "cell_type": "markdown",
     "metadata": {},
     "source": [
      "Inline plotting:"
     ]
    },
    {
     "cell_type": "code",
     "collapsed": false,
     "input": [
      "%pylab inline"
     ],
     "language": "python",
     "metadata": {},
     "outputs": []
    },
    {
     "cell_type": "code",
     "collapsed": false,
     "input": [
      "plot(rand(50))"
     ],
     "language": "python",
     "metadata": {},
     "outputs": []
    },
    {
     "cell_type": "markdown",
     "metadata": {},
     "source": [
      "Seamless access to the system shell:"
     ]
    },
    {
     "cell_type": "code",
     "collapsed": false,
     "input": [
      "ls -al"
     ],
     "language": "python",
     "metadata": {},
     "outputs": []
    },
    {
     "cell_type": "heading",
     "level": 2,
     "metadata": {
      "slideshow": {
       "slide_type": "slide"
      }
     },
     "source": [
      "Narrative text and equations"
     ]
    },
    {
     "cell_type": "markdown",
     "metadata": {},
     "source": [
      "In addition to code cells, the Notebook offers Markdown cells, which enable the user to create narrative text with embedded LaTeX equations. Here is a cell that includes Maxwell's equations:\n",
      "\n",
      "\\begin{aligned}\n",
      "\\nabla \\times \\vec{\\mathbf{B}} -\\, \\frac1c\\, \\frac{\\partial\\vec{\\mathbf{E}}}{\\partial t} & = \\frac{4\\pi}{c}\\vec{\\mathbf{j}} \\\\   \\nabla \\cdot \\vec{\\mathbf{E}} & = 4 \\pi \\rho \\\\\n",
      "\\nabla \\times \\vec{\\mathbf{E}}\\, +\\, \\frac1c\\, \\frac{\\partial\\vec{\\mathbf{B}}}{\\partial t} & = \\vec{\\mathbf{0}} \\\\\n",
      "\\nabla \\cdot \\vec{\\mathbf{B}} & = 0 \\end{aligned}"
     ]
    },
    {
     "cell_type": "markdown",
     "metadata": {},
     "source": [
      "The Notebook also offers **heading cells**, which provide hierarchical structure and organization for the document.\n",
      "\n",
      "These additional cell types enable users to create complex narratives that tell stories using code and data.\n",
      "\n",
      "We are calling this **literate computing** as it is similar to Knuth's [literate programming](http://en.wikipedia.org/wiki/Literate_programming), but involves *live* code and data."
     ]
    },
    {
     "cell_type": "heading",
     "level": 2,
     "metadata": {
      "slideshow": {
       "slide_type": "slide"
      }
     },
     "source": [
      "Rich output"
     ]
    },
    {
     "cell_type": "markdown",
     "metadata": {},
     "source": [
      "Programming langauges, including Python, allow the writing of textual output to `stdout` and `stderr`. Python extends this idea slightly by allowing any Python object to declare its textual representation using special `__str__` and `__repr__` methods. When you `print` a Python object, these methods are automatically called:"
     ]
    },
    {
     "cell_type": "code",
     "collapsed": false,
     "input": [
      "import numpy as np"
     ],
     "language": "python",
     "metadata": {},
     "outputs": []
    },
    {
     "cell_type": "code",
     "collapsed": false,
     "input": [
      "a = np.random.rand(10)\n",
      "print a  # This calls a.__repr__() to generate this output"
     ],
     "language": "python",
     "metadata": {},
     "outputs": []
    },
    {
     "cell_type": "markdown",
     "metadata": {},
     "source": [
      "Jupyter and IPython extend this idea and allows objects to declare **rich output representations**:\n",
      "\n",
      "* JavaScript\n",
      "* HTML\n",
      "* LaTeX\n",
      "* PDF\n",
      "* PNG/JPEG\n",
      "* SVG\n",
      "\n",
      "In IPython, the `display` function is like `print` for these rich representations:"
     ]
    },
    {
     "cell_type": "code",
     "collapsed": false,
     "input": [
      "from IPython.display import display"
     ],
     "language": "python",
     "metadata": {},
     "outputs": []
    },
    {
     "cell_type": "heading",
     "level": 3,
     "metadata": {
      "slideshow": {
       "slide_type": "slide"
      }
     },
     "source": [
      "Images"
     ]
    },
    {
     "cell_type": "markdown",
     "metadata": {},
     "source": [
      "The `Image` object has a JPEG/PNG representation that is rendered by the Notebook:"
     ]
    },
    {
     "cell_type": "code",
     "collapsed": false,
     "input": [
      "from IPython.display import Image"
     ],
     "language": "python",
     "metadata": {},
     "outputs": []
    },
    {
     "cell_type": "code",
     "collapsed": false,
     "input": [
      "i = Image(\"images/jupyter_logo.jpg\")"
     ],
     "language": "python",
     "metadata": {},
     "outputs": []
    },
    {
     "cell_type": "markdown",
     "metadata": {},
     "source": [
      "This representation is displayed if the object is returned from an expression:"
     ]
    },
    {
     "cell_type": "code",
     "collapsed": false,
     "input": [
      "i"
     ],
     "language": "python",
     "metadata": {},
     "outputs": []
    },
    {
     "cell_type": "markdown",
     "metadata": {},
     "source": [
      "Or you can manually display the object using `display`:"
     ]
    },
    {
     "cell_type": "code",
     "collapsed": false,
     "input": [
      "display(i)"
     ],
     "language": "python",
     "metadata": {},
     "outputs": []
    },
    {
     "cell_type": "heading",
     "level": 3,
     "metadata": {
      "slideshow": {
       "slide_type": "slide"
      }
     },
     "source": [
      "HTML"
     ]
    },
    {
     "cell_type": "markdown",
     "metadata": {},
     "source": [
      "The `HTML` object has an HTML representation:"
     ]
    },
    {
     "cell_type": "code",
     "collapsed": false,
     "input": [
      "from IPython.display import HTML"
     ],
     "language": "python",
     "metadata": {},
     "outputs": []
    },
    {
     "cell_type": "code",
     "collapsed": false,
     "input": [
      "s = \"\"\"<table>\n",
      "<tr>\n",
      "<th>Header 1</th>\n",
      "<th>Header 2</th>\n",
      "</tr>\n",
      "<tr>\n",
      "<td>row 1, cell 1</td>\n",
      "<td>row 1, cell 2</td>\n",
      "</tr>\n",
      "<tr>\n",
      "<td>row 2, cell 1</td>\n",
      "<td>row 2, cell 2</td>\n",
      "</tr>\n",
      "</table>\"\"\""
     ],
     "language": "python",
     "metadata": {},
     "outputs": []
    },
    {
     "cell_type": "code",
     "collapsed": false,
     "input": [
      "h = HTML(s)"
     ],
     "language": "python",
     "metadata": {},
     "outputs": []
    },
    {
     "cell_type": "code",
     "collapsed": false,
     "input": [
      "display(h)"
     ],
     "language": "python",
     "metadata": {},
     "outputs": []
    },
    {
     "cell_type": "heading",
     "level": 3,
     "metadata": {
      "slideshow": {
       "slide_type": "slide"
      }
     },
     "source": [
      "JavaScript"
     ]
    },
    {
     "cell_type": "markdown",
     "metadata": {},
     "source": [
      "The `Javascript` object has a \"representation\" that runs JavaScript code in the context of the Notebook."
     ]
    },
    {
     "cell_type": "code",
     "collapsed": false,
     "input": [
      "from IPython.display import Javascript"
     ],
     "language": "python",
     "metadata": {},
     "outputs": []
    },
    {
     "cell_type": "code",
     "collapsed": false,
     "input": [
      "display(Javascript(\"alert('hi');\"))"
     ],
     "language": "python",
     "metadata": {},
     "outputs": []
    },
    {
     "cell_type": "heading",
     "level": 3,
     "metadata": {
      "slideshow": {
       "slide_type": "slide"
      }
     },
     "source": [
      "LaTeX"
     ]
    },
    {
     "cell_type": "markdown",
     "metadata": {},
     "source": [
      "This display architecture also understands objects that have a LaTeX representation. This is best illustrated by [SymPy](http://sympy.org/en/index.html), which is a symbolic mathematics package for Python."
     ]
    },
    {
     "cell_type": "code",
     "collapsed": false,
     "input": [
      "from __future__ import division\n",
      "from sympy import *\n",
      "x, y, z = symbols(\"x y z\")\n",
      "init_printing(use_latex='mathjax')"
     ],
     "language": "python",
     "metadata": {},
     "outputs": []
    },
    {
     "cell_type": "markdown",
     "metadata": {},
     "source": [
      "When a symbolic expression is passed to `display` or returned from an expression, the LaTeX representation is computed and displayed in the Notebook:"
     ]
    },
    {
     "cell_type": "code",
     "collapsed": false,
     "input": [
      "Rational(3,2)*pi + exp(I*x) / (x**2 + y)"
     ],
     "language": "python",
     "metadata": {},
     "outputs": []
    },
    {
     "cell_type": "code",
     "collapsed": false,
     "input": [
      "(1/cos(x)).series(x, 0, 6)"
     ],
     "language": "python",
     "metadata": {},
     "outputs": []
    },
    {
     "cell_type": "heading",
     "level": 2,
     "metadata": {},
     "source": [
      "nbconvert"
     ]
    },
    {
     "cell_type": "markdown",
     "metadata": {},
     "source": [
      "`nbconvert` is a command line tool and Python package that can convert notebook documents to and from a wide range of formats:\n",
      "\n",
      "* PDF\n",
      "* Static HTML\n",
      "* Markdown\n",
      "* [reveal.js](http://lab.hakim.se/reveal-js/#/) slide shows\n",
      "\n",
      "Convert this very notebook to static HTML:"
     ]
    },
    {
     "cell_type": "code",
     "collapsed": false,
     "input": [
      "!ipython nbconvert --to html \"Notebook Tour.ipynb\""
     ],
     "language": "python",
     "metadata": {},
     "outputs": []
    },
    {
     "cell_type": "heading",
     "level": 2,
     "metadata": {},
     "source": [
      "nbviewer"
     ]
    },
    {
     "cell_type": "markdown",
     "metadata": {},
     "source": [
      "**nbviewer** is a website for sharing Jupyter Notebooks on the web. It uses `nbconvert` to create a static HTML rendering of any notebook on the internet. This makes it easy to share notebooks with anyone in the world, without their having to install, or even know anything about, Jupyter or IPython."
     ]
    },
    {
     "cell_type": "code",
     "collapsed": false,
     "input": [
      "website('https://nbviewer.jupyter.org')"
     ],
     "language": "python",
     "metadata": {},
     "outputs": [
      {
       "html": [
        "<iframe src=\"https://nbviewer.jupyter.org\"  width=\"100%\" height=\"450\">\n",
        "</iframe>"
       ],
       "metadata": {},
       "output_type": "pyout",
       "prompt_number": 3,
       "text": [
        "<IPython.core.display.HTML object>"
       ]
      }
     ],
     "prompt_number": 3
    },
    {
     "cell_type": "code",
     "collapsed": false,
     "input": [],
     "language": "python",
     "metadata": {},
     "outputs": []
    }
   ],
   "metadata": {}
  }
 ]
}