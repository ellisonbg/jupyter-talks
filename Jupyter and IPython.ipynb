{
 "metadata": {
  "kernelspec": {
   "codemirror_mode": {
    "name": "python",
    "version": 2
   },
   "display_name": "Python 2",
   "language": "python",
   "name": "python2"
  },
  "name": "",
  "signature": "sha256:deb63558a04c6b177811362ed056d79eaca7e35b89037b9b9d1aa3293f80c8a1"
 },
 "nbformat": 3,
 "nbformat_minor": 0,
 "worksheets": [
  {
   "cells": [
    {
     "cell_type": "heading",
     "level": 1,
     "metadata": {
      "slideshow": {
       "slide_type": "slide"
      }
     },
     "source": [
      "Projects Jupyter and IPython"
     ]
    },
    {
     "cell_type": "code",
     "collapsed": false,
     "input": [
      "from IPython.display import display, Image, HTML\n",
      "from talktools import website, nbviewer"
     ],
     "language": "python",
     "metadata": {},
     "outputs": [],
     "prompt_number": 1
    },
    {
     "cell_type": "markdown",
     "metadata": {
      "slideshow": {
       "slide_type": "slide"
      }
     },
     "source": [
      "## Overview"
     ]
    },
    {
     "cell_type": "markdown",
     "metadata": {},
     "source": [
      "Jupyter and IPython are a pair of open source projects that together offer an open-source (BSD-licensed), interactive computing environment for Python, Julia, R and other languages.\n",
      "\n",
      "Goals:\n",
      "\n",
      "* Provide a set of reusable software tools that span the entire **lifecycle** of scientific computing and data science:\n",
      "  - Individual exploration, analysis and visualization\n",
      "  - Debugging, testing\n",
      "  - Production runs\n",
      "  - Parallel computing\n",
      "  - Collaboration\n",
      "  - Publication\n",
      "  - Presentation\n",
      "  - Teaching/Learning\n",
      "* Enable the creation and sharing of **code/data driven narratives** across a wide range of contexts and audiences.\n",
      "* Make **computational reproducibility** possible and enjoyable.\n",
      "* Minimize the \"distance\" between a human user and their data through **interactivity**."
     ]
    },
    {
     "cell_type": "markdown",
     "metadata": {
      "slideshow": {
       "slide_type": "slide"
      }
     },
     "source": [
      "## IPython"
     ]
    },
    {
     "cell_type": "markdown",
     "metadata": {},
     "source": [
      "<img src=\"images/ipython_logo.png\" width=\"400px\">"
     ]
    },
    {
     "cell_type": "markdown",
     "metadata": {},
     "source": [
      "* Started in 2001 by Fernando Perez, who continues to lead the project from UC Berkeley.\n",
      "* Originally focused on interactive computing in **Python** only.\n",
      "* Starting in 2011, IPython began to include other languages such as Julia, R, Ruby, etc.\n",
      "* Moving forward, IPython will contain the Python specific parts of the architecture:\n",
      "  - Interactive Python shell\n",
      "  - A kernel for running Python code in the Jupyter architecture\n",
      "  - Tools for interactive parallel computing in Python"
     ]
    },
    {
     "cell_type": "markdown",
     "metadata": {
      "slideshow": {
       "slide_type": "slide"
      }
     },
     "source": [
      "## Jupyter"
     ]
    },
    {
     "cell_type": "markdown",
     "metadata": {},
     "source": [
      "<img src=\"images/jupyter_logo.png\" width=\"400px\">"
     ]
    },
    {
     "cell_type": "markdown",
     "metadata": {},
     "source": [
      "* Created in Summer 2014 by the IPython development team.\n",
      "* To carry forward a vision of reproducible interactive computing for all programming languages:\n",
      "  - Python\n",
      "  - Julia\n",
      "  - R\n",
      "  - Ruby\n",
      "  - Haskell\n",
      "  - Scala\n",
      "  - Go\n",
      "  - ...\n",
      "* A home for the language independent parts of the architecture:\n",
      "  - A network protocol for applications to talk to kernels that run code for interactive computations.\n",
      "  - A set of applications that enable users to write and run code on those kernels.\n",
      "  - Notebook file format and conversion tools (nbconvert).\n",
      "  - Notebook sharing service (https://nbviewer.jupyter.org/)."
     ]
    },
    {
     "cell_type": "markdown",
     "metadata": {
      "slideshow": {
       "slide_type": "slide"
      }
     },
     "source": [
      "## Funding"
     ]
    },
    {
     "cell_type": "markdown",
     "metadata": {},
     "source": [
      "* Over the past 13 years, much of Jupyter/IPython has been \"funded\" by volunteer developer time.\n",
      "* Past funding: NASA, DOD, NIH, Enthought Corporation\n",
      "* Current funding:\n",
      "\n",
      "<img src=\"images/sloan-logo.png\" width=\"300px\">\n",
      "<img src=\"images/microsoft-logo.png\" width=\"300px\">\n",
      "<img src=\"images/google-logo.png\" width=\"300px\">\n",
      "<img src=\"images/simons-logo.png\" width=\"300px\">\n",
      "<img src=\"images/nsf-logo.png\" width=\"75px\">\n",
      "<img src=\"images/rackspace-logo.png\" width=\"300px\">"
     ]
    },
    {
     "cell_type": "markdown",
     "metadata": {
      "slideshow": {
       "slide_type": "slide"
      }
     },
     "source": [
      "## Contributors"
     ]
    },
    {
     "cell_type": "markdown",
     "metadata": {},
     "source": [
      "### Jupyter/IPython development team"
     ]
    },
    {
     "cell_type": "markdown",
     "metadata": {},
     "source": [
      "* A talented team of $\\approx9$ core developers and a larger community of $\\approx375$ contributors.\n",
      "* Through the above funding sources, there are currently 6 full time people working on IPython at **UC Berkeley** and **Cal Poly**."
     ]
    },
    {
     "cell_type": "code",
     "collapsed": false,
     "input": [
      "import ipythonproject"
     ],
     "language": "python",
     "metadata": {},
     "outputs": []
    },
    {
     "cell_type": "code",
     "collapsed": false,
     "input": [
      "ipythonproject.core_devs()"
     ],
     "language": "python",
     "metadata": {},
     "outputs": []
    },
    {
     "cell_type": "markdown",
     "metadata": {},
     "source": [
      "### Google"
     ]
    },
    {
     "cell_type": "markdown",
     "metadata": {},
     "source": [
      "* Kayur Patel\n",
      "* Kester Tong\n",
      "* Mark Sandler\n",
      "* Corinna Cortes"
     ]
    },
    {
     "cell_type": "markdown",
     "metadata": {},
     "source": [
      "### Bloomberg"
     ]
    },
    {
     "cell_type": "markdown",
     "metadata": {},
     "source": [
      "* Jason Grout\n",
      "* Sylvain Corlay"
     ]
    },
    {
     "cell_type": "markdown",
     "metadata": {},
     "source": [
      "### yt"
     ]
    },
    {
     "cell_type": "markdown",
     "metadata": {},
     "source": [
      "* Matthew Turk"
     ]
    }
   ],
   "metadata": {}
  }
 ]
}