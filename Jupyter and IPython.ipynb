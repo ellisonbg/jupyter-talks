{
 "cells": [
  {
   "cell_type": "markdown",
   "metadata": {
    "slideshow": {
     "slide_type": "slide"
    }
   },
   "source": [
    "# Projects Jupyter and IPython"
   ]
  },
  {
   "cell_type": "markdown",
   "metadata": {
    "slideshow": {
     "slide_type": "slide"
    }
   },
   "source": [
    "## Overview"
   ]
  },
  {
   "cell_type": "markdown",
   "metadata": {},
   "source": [
    "Jupyter and IPython are a pair of open source projects that together offer an open-source (BSD-licensed), interactive computing environment for Python, Julia, R and other languages.\n",
    "\n",
    "---\n",
    "\n",
    "<div class=\"alert bg-primary\"> Enable the creation and sharing of code/data driven narratives across a wide range of contexts and audiences </div>\n",
    "<div class=\"alert bg-primary\"> Make computational reproducibility possible and enjoyable </div>\n",
    "<div class=\"alert bg-primary\"> Minimize the \"distance\" between a human user and their code/data through interactivity </div>"
   ]
  },
  {
   "cell_type": "markdown",
   "metadata": {
    "slideshow": {
     "slide_type": "slide"
    }
   },
   "source": [
    "## IPython"
   ]
  },
  {
   "cell_type": "markdown",
   "metadata": {},
   "source": [
    "<img src=\"images/ipython_logo.png\" width=\"400px\">"
   ]
  },
  {
   "cell_type": "markdown",
   "metadata": {},
   "source": [
    "* Started in 2001 by Fernando Perez, who continues to lead the project from UC Berkeley.\n",
    "* Originally focused on interactive computing in **Python** only.\n",
    "* Starting in 2011, IPython began to include other languages such as Julia, R, Ruby, etc.\n",
    "* Moving forward, IPython will contain the Python specific parts of the architecture:\n",
    "  - Interactive Python shell\n",
    "  - A kernel for running Python code in the Jupyter architecture\n",
    "  - Tools for interactive parallel computing in Python"
   ]
  },
  {
   "cell_type": "markdown",
   "metadata": {
    "slideshow": {
     "slide_type": "slide"
    }
   },
   "source": [
    "## Jupyter"
   ]
  },
  {
   "cell_type": "markdown",
   "metadata": {},
   "source": [
    "<img src=\"images/jupyter_logo.png\" width=\"400px\">"
   ]
  },
  {
   "cell_type": "markdown",
   "metadata": {},
   "source": [
    "* Created in Summer 2014 by the IPython development team.\n",
    "* To carry forward the above goals of reproducible interactive computing for all programming languages:\n",
    "  - Python\n",
    "  - Julia\n",
    "  - R\n",
    "  - Ruby\n",
    "  - Haskell\n",
    "  - Scala\n",
    "  - Go\n",
    "  - See [this page](https://github.com/ipython/ipython/wiki/IPython%20kernels%20for%20other%20languages) for\n",
    "    a list of the 37 currently supported languages.\n",
    "* A home for the language independent parts of the architecture:\n",
    "  - A network protocol for applications to talk to kernels that run code for interactive computations.\n",
    "  - A set of applications that enable users to write and run code on those kernels.\n",
    "  - Notebook file format and conversion tools (nbconvert).\n",
    "  - Notebook sharing service (https://nbviewer.jupyter.org/)."
   ]
  },
  {
   "cell_type": "markdown",
   "metadata": {
    "slideshow": {
     "slide_type": "slide"
    }
   },
   "source": [
    "## Funding"
   ]
  },
  {
   "cell_type": "markdown",
   "metadata": {},
   "source": [
    "* Over the past 13 years, much of Jupyter/IPython has been \"funded\" by volunteer developer time.\n",
    "* Past funding: NASA, DOD, NIH, Enthought Corporation\n",
    "* Current funding:\n",
    "\n",
    "<img src=\"images/sloan-logo.png\" width=\"300px\">\n",
    "<img src=\"images/microsoft-logo.png\" width=\"300px\">\n",
    "<img src=\"images/google-logo.png\" width=\"300px\">\n",
    "<img src=\"images/simons-logo.png\" width=\"300px\">\n",
    "<img src=\"images/nsf-logo.png\" width=\"75px\">\n",
    "<img src=\"images/rackspace-logo.png\" width=\"300px\">"
   ]
  },
  {
   "cell_type": "markdown",
   "metadata": {
    "slideshow": {
     "slide_type": "slide"
    }
   },
   "source": [
    "## Contributors"
   ]
  },
  {
   "cell_type": "markdown",
   "metadata": {},
   "source": [
    "### Jupyter/IPython development team"
   ]
  },
  {
   "cell_type": "markdown",
   "metadata": {},
   "source": [
    "* A talented team of $\\approx10$ core developers and a larger community of $\\approx375$ contributors.\n",
    "* Through the above funding sources, there are currently 6 full time people working on IPython at **UC Berkeley** and **Cal Poly**."
   ]
  },
  {
   "cell_type": "code",
   "execution_count": null,
   "metadata": {
    "collapsed": false
   },
   "outputs": [],
   "source": [
    "import ipythonproject"
   ]
  },
  {
   "cell_type": "code",
   "execution_count": null,
   "metadata": {
    "collapsed": false
   },
   "outputs": [],
   "source": [
    "ipythonproject.core_devs()"
   ]
  },
  {
   "cell_type": "markdown",
   "metadata": {},
   "source": [
    "### Google"
   ]
  },
  {
   "cell_type": "markdown",
   "metadata": {},
   "source": [
    "* Kayur Patel\n",
    "* Kester Tong\n",
    "* Mark Sandler\n",
    "* Corinna Cortes"
   ]
  },
  {
   "cell_type": "markdown",
   "metadata": {},
   "source": [
    "### Bloomberg"
   ]
  },
  {
   "cell_type": "markdown",
   "metadata": {},
   "source": [
    "* Jason Grout\n",
    "* Sylvain Corlay\n",
    "* Chris Colbert"
   ]
  },
  {
   "cell_type": "markdown",
   "metadata": {},
   "source": [
    "### yt"
   ]
  },
  {
   "cell_type": "markdown",
   "metadata": {},
   "source": [
    "* Matthew Turk"
   ]
  },
  {
   "cell_type": "markdown",
   "metadata": {},
   "source": [
    "### Design\n",
    "\n",
    "* Adrienne Wantulok"
   ]
  }
 ],
 "metadata": {
  "kernelspec": {
   "display_name": "Python 2",
   "language": "python",
   "name": "python2"
  },
  "language_info": {
   "codemirror_mode": {
    "name": "ipython",
    "version": 2
   },
   "file_extension": ".py",
   "mimetype": "text/x-python",
   "name": "python",
   "nbconvert_exporter": "python",
   "pygments_lexer": "ipython2",
   "version": "2.7.9"
  }
 },
 "nbformat": 4,
 "nbformat_minor": 0
}
