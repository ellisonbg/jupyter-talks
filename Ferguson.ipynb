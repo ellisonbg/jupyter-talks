{
 "metadata": {
  "kernelspec": {
   "codemirror_mode": {
    "name": "ipython",
    "version": 2
   },
   "display_name": "IPython (Python 2)",
   "language": "python",
   "name": "python2"
  },
  "name": "",
  "signature": "sha256:7761c17251537437a0832d778dab27719593356fd5fe972fa78c7159ae9a25f2"
 },
 "nbformat": 3,
 "nbformat_minor": 0,
 "worksheets": [
  {
   "cells": [
    {
     "cell_type": "heading",
     "level": 2,
     "metadata": {},
     "source": [
      "Where do police officers live?"
     ]
    },
    {
     "cell_type": "code",
     "collapsed": false,
     "input": [
      "%matplotlib inline\n",
      "import matplotlib.pyplot as plt\n",
      "import numpy as np\n",
      "import pandas as pd\n",
      "import seaborn as sns\n",
      "sns.set_style(\"whitegrid\")"
     ],
     "language": "python",
     "metadata": {},
     "outputs": [],
     "prompt_number": 2
    },
    {
     "cell_type": "code",
     "collapsed": false,
     "input": [
      "df = pd.read_csv('data/police_locals.csv')\n",
      "df = df.replace('**',np.nan)\n",
      "df['all'] = df['all'].astype('float')\n",
      "df['white'] = df['white'].astype('float')\n",
      "df['non-white'] = df['non-white'].astype('float')\n",
      "df['black'] = df['black'].astype('float')\n",
      "df['hispanic'] = df['hispanic'].astype('float')"
     ],
     "language": "python",
     "metadata": {},
     "outputs": [],
     "prompt_number": 4
    },
    {
     "cell_type": "code",
     "collapsed": false,
     "input": [
      "df.head()"
     ],
     "language": "python",
     "metadata": {},
     "outputs": [
      {
       "html": [
        "<div style=\"max-height:1000px;max-width:1500px;overflow:auto;\">\n",
        "<table border=\"1\" class=\"dataframe\">\n",
        "  <thead>\n",
        "    <tr style=\"text-align: right;\">\n",
        "      <th></th>\n",
        "      <th>city</th>\n",
        "      <th>police_force_size</th>\n",
        "      <th>all</th>\n",
        "      <th>white</th>\n",
        "      <th>non-white</th>\n",
        "      <th>black</th>\n",
        "      <th>hispanic</th>\n",
        "    </tr>\n",
        "  </thead>\n",
        "  <tbody>\n",
        "    <tr>\n",
        "      <th>0</th>\n",
        "      <td>    New York</td>\n",
        "      <td> 32300</td>\n",
        "      <td> 0.617957</td>\n",
        "      <td> 0.446387</td>\n",
        "      <td> 0.764419</td>\n",
        "      <td> 0.770891</td>\n",
        "      <td> 0.762861</td>\n",
        "    </tr>\n",
        "    <tr>\n",
        "      <th>1</th>\n",
        "      <td>     Chicago</td>\n",
        "      <td> 12120</td>\n",
        "      <td> 0.875000</td>\n",
        "      <td> 0.871963</td>\n",
        "      <td> 0.877400</td>\n",
        "      <td> 0.897406</td>\n",
        "      <td> 0.839827</td>\n",
        "    </tr>\n",
        "    <tr>\n",
        "      <th>2</th>\n",
        "      <td> Los Angeles</td>\n",
        "      <td> 10100</td>\n",
        "      <td> 0.228218</td>\n",
        "      <td> 0.152778</td>\n",
        "      <td> 0.263848</td>\n",
        "      <td> 0.387387</td>\n",
        "      <td> 0.217680</td>\n",
        "    </tr>\n",
        "    <tr>\n",
        "      <th>3</th>\n",
        "      <td>  Washington</td>\n",
        "      <td>  9340</td>\n",
        "      <td> 0.115632</td>\n",
        "      <td> 0.056774</td>\n",
        "      <td> 0.157365</td>\n",
        "      <td> 0.170189</td>\n",
        "      <td> 0.089888</td>\n",
        "    </tr>\n",
        "    <tr>\n",
        "      <th>4</th>\n",
        "      <td>     Houston</td>\n",
        "      <td>  7700</td>\n",
        "      <td> 0.292208</td>\n",
        "      <td> 0.173735</td>\n",
        "      <td> 0.399258</td>\n",
        "      <td> 0.366379</td>\n",
        "      <td> 0.457143</td>\n",
        "    </tr>\n",
        "  </tbody>\n",
        "</table>\n",
        "</div>"
       ],
       "metadata": {},
       "output_type": "pyout",
       "prompt_number": 5,
       "text": [
        "          city  police_force_size       all     white  non-white     black  \\\n",
        "0     New York              32300  0.617957  0.446387   0.764419  0.770891   \n",
        "1      Chicago              12120  0.875000  0.871963   0.877400  0.897406   \n",
        "2  Los Angeles              10100  0.228218  0.152778   0.263848  0.387387   \n",
        "3   Washington               9340  0.115632  0.056774   0.157365  0.170189   \n",
        "4      Houston               7700  0.292208  0.173735   0.399258  0.366379   \n",
        "\n",
        "   hispanic  \n",
        "0  0.762861  \n",
        "1  0.839827  \n",
        "2  0.217680  \n",
        "3  0.089888  \n",
        "4  0.457143  "
       ]
      }
     ],
     "prompt_number": 5
    },
    {
     "cell_type": "markdown",
     "metadata": {},
     "source": [
      "The above dataset, published by 538 on [this GitHub repository](https://github.com/fivethirtyeight/data/tree/master/police-locals) contains the fractions of police officers who live within the city they serve, for different races of police officers for 75 cities across the U.S.\n",
      "\n",
      "* On average, only a very small fraction ($\\approx 35\\%$) of white police officers live in the cities they serve.\n",
      "* On average, non-white police officers ($\\approx 49\\%$) are more likely to live in the cities they serve.\n",
      "* There is a significant spread ($\\sigma\\approx 25\\%$) across individual cities.\n",
      "* For issues of racial justice, it could be useful to have more police officers live in the cities they serve."
     ]
    },
    {
     "cell_type": "code",
     "collapsed": false,
     "input": [
      "sns.boxplot(df[['white','non-white']]);"
     ],
     "language": "python",
     "metadata": {},
     "outputs": [
      {
       "metadata": {},
       "output_type": "display_data",
       "png": "[encoded data removed]",
       "text": [
        "<matplotlib.figure.Figure at 0x10b75a510>"
       ]
      }
     ],
     "prompt_number": 8
    },
    {
     "cell_type": "markdown",
     "metadata": {},
     "source": [
      "This data comes from an article published on [538](http://fivethirtyeight.com/) on August 20 entitled, [Most Police Don\u2019t Live In The Cities They Serve](http://fivethirtyeight.com/datalab/most-police-dont-live-in-the-cities-they-serve/). From the article:\n",
      "\n",
      "> In Ferguson, Missouri, where protests continue following the shooting of a teenager by a police officer this month, more than two-thirds of the civilian population is black. Only 11 percent of the police force is. The racial disparity is troubling enough on its own, but it\u2019s also suggestive of another type of misrepresentation. Given Ferguson\u2019s racial gap, it\u2019s likely that many of its police officers live outside city limits."
     ]
    }
   ],
   "metadata": {}
  }
 ]
}