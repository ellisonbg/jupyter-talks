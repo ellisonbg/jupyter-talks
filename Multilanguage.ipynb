{
 "metadata": {
  "kernelspec": {
   "codemirror_mode": {
    "name": "ipython",
    "version": 2
   },
   "display_name": "IPython (Python 2)",
   "language": "python",
   "name": "python2"
  },
  "name": "",
  "signature": "sha256:6b380ae50e7502b5e83d0eeec49af0a7a7654fe560b18ca7471f8d8df535158d"
 },
 "nbformat": 3,
 "nbformat_minor": 0,
 "worksheets": [
  {
   "cells": [
    {
     "cell_type": "heading",
     "level": 1,
     "metadata": {
      "slideshow": {
       "slide_type": "slide"
      }
     },
     "source": [
      "Multilanguage Architecture"
     ]
    },
    {
     "cell_type": "code",
     "collapsed": false,
     "input": [
      "from IPython.display import display, Image, HTML\n",
      "from talktools import website, nbviewer"
     ],
     "language": "python",
     "metadata": {},
     "outputs": [],
     "prompt_number": 1
    },
    {
     "cell_type": "heading",
     "level": 2,
     "metadata": {
      "slideshow": {
       "slide_type": "slide"
      }
     },
     "source": [
      "Overview"
     ]
    },
    {
     "cell_type": "markdown",
     "metadata": {},
     "source": [
      "Data science and scientific computing is a multi-language activity. We *love* Python, but insisting that everyone write everything in Python all the time is not realistic. The reality is that most large, complex projects involve multiple languages. In fact, it is commmon for projects to use at least three classes of languages:\n",
      "\n",
      "* Low-level (C, C++, Java, Fortran)\n",
      "* High-level (Python, Ruby, Perl, Julia, Bash, R)\n",
      "* Web-based (JavaScript, CoffeeScript, HTML, CSS)\n",
      "\n",
      "The goal of the Jupyter project is to provide a system for interactive computing that spans all of these languages.\n",
      "\n",
      "It does this through two abstractions:\n",
      "\n",
      "<div class=\"hbox\">\n",
      "<div class=\"box-flex1 idea-box panel panel-primary lead\">Kernel Architecture</div>\n",
      "<div class=\"box-flex1 idea-box panel panel-primary lead\">Notebook documents</div>\n",
      "</div>"
     ]
    },
    {
     "cell_type": "heading",
     "level": 2,
     "metadata": {
      "slideshow": {
       "slide_type": "slide"
      }
     },
     "source": [
      "Kernel architecture"
     ]
    },
    {
     "cell_type": "markdown",
     "metadata": {},
     "source": [
      "Jupyter has a powerful, open architecture for executing code interactively across networks:\n",
      "\n",
      "* **Kernel:** runs code in a single language and returns results over a network.\n",
      "* **App:** interactive user interface that enables the user to type code and see results. For example, the Notebook App.\n",
      "* **Interactive Computing Protocol**: JSON/WebSocket/ZeroMQ based network protocol that allows kernels and apps to talk.\n",
      "\n",
      "The default kernel for Jupyter is the IPython kernel and runs Python code. However, there are now kernels in other languages (see below)."
     ]
    },
    {
     "cell_type": "code",
     "collapsed": false,
     "input": [
      "Image(\"images/AppKernel.png\")"
     ],
     "language": "python",
     "metadata": {},
     "outputs": []
    },
    {
     "cell_type": "markdown",
     "metadata": {},
     "source": [
      "A single app, like the Notebook, can talk to kernels in different languages:"
     ]
    },
    {
     "cell_type": "code",
     "collapsed": false,
     "input": [
      "Image(\"images/MultilanguageKernels.png\")"
     ],
     "language": "python",
     "metadata": {},
     "outputs": []
    },
    {
     "cell_type": "markdown",
     "metadata": {},
     "source": [
      "There are now Jupyter kernels for the following languages:\n",
      "\n",
      "* Python 2 and 3 (https://github/ipython)\n",
      "* Julia (https://github.com/JuliaLang/IJulia.jl)\n",
      "* R (https://github.com/takluyver/IRkernel)\n",
      "* Ruby (https://github.com/minrk/iruby)\n",
      "* Haskell (https://github.com/gibiansky/IHaskell)\n",
      "* Scala (https://github.com/Bridgewater/scala-notebook)\n",
      "* node.js (https://gist.github.com/Carreau/4279371)\n",
      "* Go (https://github.com/takluyver/igo)\n",
      "* Bash (https://github.com/takluyver/bash_kernel)\n",
      "* Others already and on the way"
     ]
    },
    {
     "cell_type": "heading",
     "level": 3,
     "metadata": {
      "slideshow": {
       "slide_type": "slide"
      }
     },
     "source": [
      "Python 2 and 3"
     ]
    },
    {
     "cell_type": "markdown",
     "metadata": {},
     "source": [
      "The syntax for the print statement in Python 2 and 3 changed:"
     ]
    },
    {
     "cell_type": "code",
     "collapsed": false,
     "input": [
      "print \"This is Python 2!\""
     ],
     "language": "python",
     "metadata": {},
     "outputs": []
    },
    {
     "cell_type": "code",
     "collapsed": false,
     "input": [
      "print(\"This is Python 3!\")"
     ],
     "language": "python",
     "metadata": {},
     "outputs": []
    },
    {
     "cell_type": "markdown",
     "metadata": {},
     "source": [
      "numpy and matplotlib work fine in Python 2 and Python 3:"
     ]
    },
    {
     "cell_type": "code",
     "collapsed": false,
     "input": [
      "%pylab inline"
     ],
     "language": "python",
     "metadata": {},
     "outputs": []
    },
    {
     "cell_type": "code",
     "collapsed": false,
     "input": [
      "plt.scatter(np.random.rand(50), np.random.rand(50))"
     ],
     "language": "python",
     "metadata": {},
     "outputs": []
    },
    {
     "cell_type": "heading",
     "level": 3,
     "metadata": {
      "slideshow": {
       "slide_type": "slide"
      }
     },
     "source": [
      "R"
     ]
    },
    {
     "cell_type": "markdown",
     "metadata": {},
     "source": [
      "R is a popular open-source statistical computing language. Here is a simple data set that is put into an R Data Frame and then plotted using R's [ggplot2](http://ggplot2.org/) library:"
     ]
    },
    {
     "cell_type": "code",
     "collapsed": false,
     "input": [
      "year <- c(2000 ,   2001  ,  2002  ,  2003 ,   2004)\n",
      "rate <- c(9.34 ,   8.50  ,  7.62  ,  6.93  ,  6.60)\n",
      "df = data.frame(year, rate)"
     ],
     "language": "python",
     "metadata": {},
     "outputs": []
    },
    {
     "cell_type": "code",
     "collapsed": false,
     "input": [
      "head(df)"
     ],
     "language": "python",
     "metadata": {},
     "outputs": []
    },
    {
     "cell_type": "code",
     "collapsed": false,
     "input": [
      "library(ggplot2)"
     ],
     "language": "python",
     "metadata": {},
     "outputs": []
    },
    {
     "cell_type": "code",
     "collapsed": false,
     "input": [
      "ggplot(df, aes(x=year, y=rate)) +\n",
      "    geom_point(shape=1) +    # Use hollow circles\n",
      "    geom_smooth(method=lm)   # Add linear regression line, with 95% confidence region"
     ],
     "language": "python",
     "metadata": {},
     "outputs": []
    },
    {
     "cell_type": "heading",
     "level": 3,
     "metadata": {
      "slideshow": {
       "slide_type": "slide"
      }
     },
     "source": [
      "Bash"
     ]
    },
    {
     "cell_type": "markdown",
     "metadata": {},
     "source": [
      "The Bash kernel runs code cells as Bash commands in a persistent Bash shell:"
     ]
    },
    {
     "cell_type": "code",
     "collapsed": false,
     "input": [
      "df -H"
     ],
     "language": "python",
     "metadata": {},
     "outputs": []
    },
    {
     "cell_type": "code",
     "collapsed": false,
     "input": [
      "which python"
     ],
     "language": "python",
     "metadata": {},
     "outputs": []
    },
    {
     "cell_type": "code",
     "collapsed": false,
     "input": [
      "project=\"Jupyter\""
     ],
     "language": "python",
     "metadata": {},
     "outputs": []
    },
    {
     "cell_type": "code",
     "collapsed": false,
     "input": [
      "echo \"Hello to the $project project from $BASH\""
     ],
     "language": "python",
     "metadata": {},
     "outputs": []
    },
    {
     "cell_type": "code",
     "collapsed": false,
     "input": [
      "e"
     ],
     "language": "python",
     "metadata": {},
     "outputs": []
    },
    {
     "cell_type": "heading",
     "level": 3,
     "metadata": {
      "slideshow": {
       "slide_type": "slide"
      }
     },
     "source": [
      "Magic commands"
     ]
    },
    {
     "cell_type": "markdown",
     "metadata": {},
     "source": [
      "The standard IPython kernel also allows running code in other languages using the ``%%magic`` syntax."
     ]
    },
    {
     "cell_type": "markdown",
     "metadata": {},
     "source": [
      "Here is a bit of Ruby:"
     ]
    },
    {
     "cell_type": "code",
     "collapsed": false,
     "input": [
      "%%ruby\n",
      "puts \"Hello from Ruby #{RUBY_VERSION}\""
     ],
     "language": "python",
     "metadata": {},
     "outputs": []
    },
    {
     "cell_type": "markdown",
     "metadata": {},
     "source": [
      "And some bash:"
     ]
    },
    {
     "cell_type": "code",
     "collapsed": false,
     "input": [
      "%%bash\n",
      "echo \"Hello from $BASH\""
     ],
     "language": "python",
     "metadata": {},
     "outputs": []
    },
    {
     "cell_type": "markdown",
     "metadata": {},
     "source": [
      "Let's fit a linear model in R and visualize the results:"
     ]
    },
    {
     "cell_type": "code",
     "collapsed": false,
     "input": [
      "import numpy as np\n",
      "X = np.array([0,1,2,3,4])\n",
      "Y = np.array([3,5,4,6,7])\n",
      "%load_ext rmagic"
     ],
     "language": "python",
     "metadata": {},
     "outputs": []
    },
    {
     "cell_type": "markdown",
     "metadata": {},
     "source": [
      "The `%%R` syntax tells IPython to run the rest of the cell as R code:"
     ]
    },
    {
     "cell_type": "code",
     "collapsed": false,
     "input": [
      "%%R -i X,Y -o XYcoef\n",
      "XYlm = lm(Y~X)\n",
      "XYcoef = coef(XYlm)\n",
      "print(summary(XYlm))\n",
      "par(mfrow=c(2,2))\n",
      "plot(XYlm)"
     ],
     "language": "python",
     "metadata": {},
     "outputs": []
    },
    {
     "cell_type": "markdown",
     "metadata": {},
     "source": [
      "This `%%language` syntax is an IPython specific extension to the Python language and only works in the IPython kernel. This \"magic command syntax\" allows Python code to call out to a wide range of other languages (Ruby, Bash, Julia, Fortran, Perl, Octave, Matlab, etc.)"
     ]
    },
    {
     "cell_type": "heading",
     "level": 2,
     "metadata": {
      "slideshow": {
       "slide_type": "slide"
      }
     },
     "source": [
      "Notebook documents"
     ]
    },
    {
     "cell_type": "markdown",
     "metadata": {},
     "source": [
      "Notebook documents are JSON files that store code, output, text, images, HTML, etc. The notebook as a whole and individual cells have metadata associated with them. This metadata encodes which programming language the code cells are in. All other parts of the Notebook document format (output, images, equations, etc.) are completely language neutral.\n",
      "\n",
      "Notebooks created in any language will work with the rest of our notebook architecture:\n",
      "\n",
      "* nbconvert\n",
      "* nbviewer\n",
      "\n",
      "<div class=\"alert alert-success\" style=\"margin: 5px 0px\">\n",
      "Jupyter notebooks are an **open**, **multilanguage** format for recording and sharing an interactive computation and results.\n",
      "</div>"
     ]
    },
    {
     "cell_type": "markdown",
     "metadata": {},
     "source": [
      "Here is a notebook that was created with the Julia kernel and then shared on nbviewer:"
     ]
    },
    {
     "cell_type": "code",
     "collapsed": false,
     "input": [
      "website(\"http://nbviewer.ipython.org/url/jdj.mit.edu/~stevenj/IJulia%20Preview.ipynb\")"
     ],
     "language": "python",
     "metadata": {},
     "outputs": [
      {
       "html": [
        "<iframe src=\"http://nbviewer.ipython.org/url/jdj.mit.edu/~stevenj/IJulia%20Preview.ipynb\"  width=\"100%\" height=\"450\">\n",
        "</iframe>"
       ],
       "metadata": {},
       "output_type": "pyout",
       "prompt_number": 3,
       "text": [
        "<IPython.core.display.HTML object>"
       ]
      }
     ],
     "prompt_number": 3
    },
    {
     "cell_type": "markdown",
     "metadata": {},
     "source": [
      "Here is a native R notebook based on an article at [538](http://fivethirtyeight.com/):"
     ]
    },
    {
     "cell_type": "code",
     "collapsed": false,
     "input": [
      "website('http://nbviewer.ipython.org/github/ellisonbg/data/blob/r-notebook/bechdel/analyze-bechdel.ipynb')"
     ],
     "language": "python",
     "metadata": {},
     "outputs": [
      {
       "html": [
        "<iframe src=\"http://nbviewer.ipython.org/github/ellisonbg/data/blob/r-notebook/bechdel/analyze-bechdel.ipynb\"  width=\"100%\" height=\"450\">\n",
        "</iframe>"
       ],
       "metadata": {},
       "output_type": "pyout",
       "prompt_number": 4,
       "text": [
        "<IPython.core.display.HTML object>"
       ]
      }
     ],
     "prompt_number": 4
    },
    {
     "cell_type": "heading",
     "level": 2,
     "metadata": {
      "slideshow": {
       "slide_type": "slide"
      }
     },
     "source": [
      "Styling"
     ]
    },
    {
     "cell_type": "code",
     "collapsed": false,
     "input": [
      "HTML(\"\"\"\n",
      "<style>\n",
      ".idea-box {\n",
      "  text-align: center;\n",
      "  padding: 20px;\n",
      "  margin: 10px;\n",
      "}\n",
      "</style>\n",
      "\"\"\")"
     ],
     "language": "python",
     "metadata": {},
     "outputs": [
      {
       "html": [
        "\n",
        "<style>\n",
        ".idea-box {\n",
        "  text-align: center;\n",
        "  padding: 20px;\n",
        "  margin: 10px;\n",
        "}\n",
        "</style>\n"
       ],
       "metadata": {},
       "output_type": "pyout",
       "prompt_number": 2,
       "text": [
        "<IPython.core.display.HTML object>"
       ]
      }
     ],
     "prompt_number": 2
    }
   ],
   "metadata": {}
  }
 ]
}