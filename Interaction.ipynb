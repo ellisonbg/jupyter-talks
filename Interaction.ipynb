{
 "metadata": {
  "kernelspec": {
   "codemirror_mode": {
    "name": "python",
    "version": 2
   },
   "display_name": "Python 2",
   "language": "python",
   "name": "python2"
  },
  "name": "",
  "signature": "sha256:cb55c420568502aaf167ad9e9b5976353b5e93a9fb72b65e535382bc36ad7fe3"
 },
 "nbformat": 3,
 "nbformat_minor": 0,
 "worksheets": [
  {
   "cells": [
    {
     "cell_type": "markdown",
     "metadata": {
      "slideshow": {
       "slide_type": "slide"
      }
     },
     "source": [
      "# Interacting With Data"
     ]
    },
    {
     "cell_type": "code",
     "collapsed": false,
     "input": [
      "from IPython.display import display, Image, HTML\n",
      "from talktools import website, nbviewer"
     ],
     "language": "python",
     "metadata": {},
     "outputs": []
    },
    {
     "cell_type": "markdown",
     "metadata": {
      "slideshow": {
       "slide_type": "slide"
      }
     },
     "source": [
      "## Data exploration"
     ]
    },
    {
     "cell_type": "markdown",
     "metadata": {},
     "source": [
      "Data exploration is an iterative process that involves repeated passes at visualization, interaction and computation:"
     ]
    },
    {
     "cell_type": "code",
     "collapsed": false,
     "input": [
      "Image('images/VizInteractCompute.png')"
     ],
     "language": "python",
     "metadata": {},
     "outputs": []
    },
    {
     "cell_type": "markdown",
     "metadata": {},
     "source": [
      "Right now this cycle is still really painful:\n",
      "\n",
      "* It takes too long to go through a single iteration\n",
      "* Even when we are successful, the overall process is not reproducible\n",
      "* Difficult to repeat, generalize or share with others\n",
      "* Massive cognitive load that has nothing to do with extracting insight from the data\n",
      "\n",
      "Jupyter and IPython include an architecture that allows kernels and JavaScript to communicate seamlessly and in real time."
     ]
    },
    {
     "cell_type": "markdown",
     "metadata": {
      "slideshow": {
       "slide_type": "slide"
      }
     },
     "source": [
      "## Interact"
     ]
    },
    {
     "cell_type": "markdown",
     "metadata": {},
     "source": [
      "The Python kernel that ships with IPython 2.0 offers an `interact` function and decorator for interactive exploration. This is the highest-level API in our interactive JavaScript architecture. Other language kernels will also be able to implement these APIs."
     ]
    },
    {
     "cell_type": "markdown",
     "metadata": {
      "slideshow": {
       "slide_type": "slide"
      }
     },
     "source": [
      "### Image editing"
     ]
    },
    {
     "cell_type": "markdown",
     "metadata": {},
     "source": [
      "In this example, we will perform some basic image processing using [scikit-image](http://scikit-image.org/)."
     ]
    },
    {
     "cell_type": "code",
     "collapsed": false,
     "input": [
      "from IPython.html.widgets import *"
     ],
     "language": "python",
     "metadata": {},
     "outputs": []
    },
    {
     "cell_type": "code",
     "collapsed": false,
     "input": [
      "import skimage\n",
      "from skimage import data, filter, io"
     ],
     "language": "python",
     "metadata": {},
     "outputs": []
    },
    {
     "cell_type": "code",
     "collapsed": false,
     "input": [
      "i = data.coffee()\n",
      "io.Image(i)"
     ],
     "language": "python",
     "metadata": {},
     "outputs": []
    },
    {
     "cell_type": "markdown",
     "metadata": {},
     "source": [
      "Here is a function that can applies a Gaussian blur and adjusts the RGB channels:"
     ]
    },
    {
     "cell_type": "code",
     "collapsed": false,
     "input": [
      "def edit_image(image, sigma=0.1, r=1.0, g=1.0, b=1.0):\n",
      "    new_image = filter.gaussian_filter(image, sigma=sigma, multichannel=True)\n",
      "    new_image[:,:,0] = r*new_image[:,:,0]\n",
      "    new_image[:,:,1] = g*new_image[:,:,1]\n",
      "    new_image[:,:,2] = b*new_image[:,:,2]\n",
      "    new_image = io.Image(new_image)\n",
      "    display(new_image)\n",
      "    return new_image"
     ],
     "language": "python",
     "metadata": {},
     "outputs": []
    },
    {
     "cell_type": "markdown",
     "metadata": {},
     "source": [
      "Calling the function once, displays and returns the edited image:"
     ]
    },
    {
     "cell_type": "code",
     "collapsed": false,
     "input": [
      "new_i = edit_image(i, 0.8, r=0.7, b=0.7);"
     ],
     "language": "python",
     "metadata": {},
     "outputs": []
    },
    {
     "cell_type": "markdown",
     "metadata": {},
     "source": [
      "We can use `interact` to explore the parameter space of the processed image:"
     ]
    },
    {
     "cell_type": "code",
     "collapsed": false,
     "input": [
      "lims = (0.0,1.0,0.01)\n",
      "interact(edit_image, image=fixed(i), sigma=(0.0,10.0,0.1), r=lims, g=lims, b=lims);"
     ],
     "language": "python",
     "metadata": {},
     "outputs": []
    },
    {
     "cell_type": "markdown",
     "metadata": {},
     "source": [
      "We can quickly interate through the visualize, interact, compute cycle."
     ]
    },
    {
     "cell_type": "markdown",
     "metadata": {},
     "source": [
      "### Symbolic mathematics"
     ]
    },
    {
     "cell_type": "markdown",
     "metadata": {},
     "source": [
      "The `interact` function and the widget objects underneath it are completely generic and work with any type of Python code or output.\n",
      "\n",
      "Here is an example from symbolic mathematics using the `sympy` library:"
     ]
    },
    {
     "cell_type": "code",
     "collapsed": false,
     "input": [
      "from sympy import Symbol, Eq, factor, init_printing\n",
      "init_printing(use_latex='mathjax')"
     ],
     "language": "python",
     "metadata": {},
     "outputs": []
    },
    {
     "cell_type": "code",
     "collapsed": false,
     "input": [
      "x = Symbol('x')"
     ],
     "language": "python",
     "metadata": {},
     "outputs": []
    },
    {
     "cell_type": "code",
     "collapsed": false,
     "input": [
      "def factorit(n):\n",
      "    display(Eq(x**n-1, factor(x**n-1)))"
     ],
     "language": "python",
     "metadata": {},
     "outputs": []
    },
    {
     "cell_type": "code",
     "collapsed": false,
     "input": [
      "factorit(12)"
     ],
     "language": "python",
     "metadata": {},
     "outputs": []
    },
    {
     "cell_type": "code",
     "collapsed": false,
     "input": [
      "interact(factorit, n=(2,40));"
     ],
     "language": "python",
     "metadata": {},
     "outputs": []
    },
    {
     "cell_type": "markdown",
     "metadata": {
      "slideshow": {
       "slide_type": "slide"
      }
     },
     "source": [
      "## How does this work?"
     ]
    },
    {
     "cell_type": "markdown",
     "metadata": {},
     "source": [
      "* The first argument to interact is a callable/function\n",
      "* The keyword arguments to `interact` are \"widget abbreviations\"\n",
      "* These \"widget abbreviations\" are converted to `Widget` instances\n",
      "* These `Widget` objects are Python objects that are automatically synchronized with JavaScript MVC objects running in the browser\n",
      "* `interact` simply calls its callable each time any widget changes state"
     ]
    },
    {
     "cell_type": "code",
     "collapsed": false,
     "input": [
      "def f(x):\n",
      "    print x"
     ],
     "language": "python",
     "metadata": {},
     "outputs": []
    },
    {
     "cell_type": "code",
     "collapsed": false,
     "input": [
      "interact(f, x=True);"
     ],
     "language": "python",
     "metadata": {},
     "outputs": []
    },
    {
     "cell_type": "code",
     "collapsed": false,
     "input": [
      "interact(f, x=(0,10,2));"
     ],
     "language": "python",
     "metadata": {},
     "outputs": []
    },
    {
     "cell_type": "code",
     "collapsed": false,
     "input": [
      "interact(f, x='Hi!');"
     ],
     "language": "python",
     "metadata": {},
     "outputs": []
    },
    {
     "cell_type": "code",
     "collapsed": false,
     "input": [
      "interact(f, x=dict(this=list, that=tuple, other=str));"
     ],
     "language": "python",
     "metadata": {},
     "outputs": []
    },
    {
     "cell_type": "heading",
     "level": 2,
     "metadata": {
      "slideshow": {
       "slide_type": "slide"
      }
     },
     "source": [
      "Architecture overview"
     ]
    },
    {
     "cell_type": "markdown",
     "metadata": {},
     "source": [
      "The widget architecture in Jupyter and IPython has a layered design with each layer working independently of the others."
     ]
    },
    {
     "cell_type": "code",
     "collapsed": false,
     "input": [
      "Image('images/WidgetArch.png')"
     ],
     "language": "python",
     "metadata": {},
     "outputs": []
    },
    {
     "cell_type": "markdown",
     "metadata": {},
     "source": [
      "* **Interact**: High-level interface for quick data exploration of a single callable/function.\n",
      "* **Widgets**: Widgets synchronize reactive Python objects/models with JavaScript models using ([Backbone.js](http://backbonejs.org/)) and manage the lifecycle and parent/child relationships of JavaScript/HTML views. This layer is documented in [IPEP 23](https://github.com/ipython/ipython/wiki/IPEP-23%3A-Backbone.js-Widgets).\n",
      "* **Comm**: The Comm layer allows real-time, asynchronous, bi-directional JSON messaging between Python objects in the kernel and JavaScript in the browser. Comm instances are very lightweight, with each Widget having its own Comm instance. This layer is documented in [IPEP 21](https://github.com/ipython/ipython/wiki/IPEP-21%3A-Widget-Messages).\n",
      "* **WebSockets/ZeroMQ** At the lowest level, all Comm's share a pair of WebSocket/ZeroMQ connections to the notebook server and kernel. It is possibly to run all of this through a modern WebSocket aware proxy.\n",
      "\n",
      "**This entire architecture is language agnostic.** Other language kernels (Julia, R, Scala, etc.) will be able to implement the kernel side of the architecture. This will allow all kernels to re-use the JavaScript/HTML/CSS side of the Widgets while having their own language specific APIs for interact/Widgets in the kernels."
     ]
    }
   ],
   "metadata": {}
  }
 ]
}