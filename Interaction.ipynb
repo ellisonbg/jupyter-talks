{
 "metadata": {
  "name": "",
  "signature": "sha256:bccb0eb6b744483a52d93ba346be8083658b7d3c703cd1094df8bda5d40e379c"
 },
 "nbformat": 3,
 "nbformat_minor": 0,
 "worksheets": [
  {
   "cells": [
    {
     "cell_type": "heading",
     "level": 1,
     "metadata": {
      "slideshow": {
       "slide_type": "slide"
      }
     },
     "source": [
      "Interacting with data"
     ]
    },
    {
     "cell_type": "heading",
     "level": 2,
     "metadata": {
      "slideshow": {
       "slide_type": "slide"
      }
     },
     "source": [
      "Overview"
     ]
    },
    {
     "cell_type": "heading",
     "level": 3,
     "metadata": {
      "slideshow": {
       "slide_type": "-"
      }
     },
     "source": [
      "The modern web+cloud architecture presents a massive problem:"
     ]
    },
    {
     "cell_type": "markdown",
     "metadata": {},
     "source": [
      "* The user is sitting in front of a web-browser running on their laptop\n",
      "* The web browser has all of the visualization and interactive capabilities we want to leverage in working with the data\n",
      "* The data is not in the web browser\n",
      "* Any significant computation has to be performed where the data is (not in the browser)\n",
      "\n",
      "We have a Grand Canyon between humans users and data:"
     ]
    },
    {
     "cell_type": "code",
     "collapsed": false,
     "input": [
      "Image(\"images/grand-canyon.jpg\", width=\"600px\")"
     ],
     "language": "python",
     "metadata": {},
     "outputs": []
    },
    {
     "cell_type": "markdown",
     "metadata": {},
     "source": [
      "## How do we bring users close to their data, regardless of where that data is located?"
     ]
    },
    {
     "cell_type": "heading",
     "level": 2,
     "metadata": {
      "slideshow": {
       "slide_type": "slide"
      }
     },
     "source": [
      "Data exploration"
     ]
    },
    {
     "cell_type": "markdown",
     "metadata": {},
     "source": [
      "Data exploration is an iterative process that involves repeated passes at visualization, interaction and computation:"
     ]
    },
    {
     "cell_type": "code",
     "collapsed": false,
     "input": [
      "Image('images/VizInteractCompute.png')"
     ],
     "language": "python",
     "metadata": {},
     "outputs": []
    },
    {
     "cell_type": "markdown",
     "metadata": {},
     "source": [
      "Right now this cycle is still really painful:\n",
      "\n",
      "* It takes too long to go through a single iteration\n",
      "* Even when we are successful, the overall process is not reproducible\n",
      "* Difficult to repeat, generalize or share with others\n",
      "* Massive cognitive load that has nothing to do with extracting insight from the data\n",
      "\n",
      "For IPython 2.0 we have built an architecture that allows Python and JavaScript to communicate seamlessly and in real time. The result is that users can get close to their data.\n",
      "\n",
      "What does this look like?"
     ]
    },
    {
     "cell_type": "heading",
     "level": 2,
     "metadata": {
      "slideshow": {
       "slide_type": "slide"
      }
     },
     "source": [
      "Interact"
     ]
    },
    {
     "cell_type": "markdown",
     "metadata": {},
     "source": [
      "IPython 2.0 offers an `interact` function and decorator for interactive exploration. This is the highest-level API in our interactive JavaScript architecture."
     ]
    },
    {
     "cell_type": "heading",
     "level": 2,
     "metadata": {
      "slideshow": {
       "slide_type": "slide"
      }
     },
     "source": [
      "Image editing"
     ]
    },
    {
     "cell_type": "markdown",
     "metadata": {},
     "source": [
      "In this example, we will perform some basic image processing using [scikit-image](http://scikit-image.org/)."
     ]
    },
    {
     "cell_type": "code",
     "collapsed": false,
     "input": [
      "from IPython.html.widgets import *"
     ],
     "language": "python",
     "metadata": {},
     "outputs": []
    },
    {
     "cell_type": "code",
     "collapsed": false,
     "input": [
      "import skimage\n",
      "from skimage import data, filter, io"
     ],
     "language": "python",
     "metadata": {},
     "outputs": []
    },
    {
     "cell_type": "code",
     "collapsed": false,
     "input": [
      "i = data.coffee()\n",
      "io.Image(i)"
     ],
     "language": "python",
     "metadata": {},
     "outputs": []
    },
    {
     "cell_type": "markdown",
     "metadata": {},
     "source": [
      "Here is a function that can apply a gaussian blur and adjust the RGB channels:"
     ]
    },
    {
     "cell_type": "code",
     "collapsed": false,
     "input": [
      "def edit_image(image, sigma=0.1, r=1.0, g=1.0, b=1.0):\n",
      "    new_image = filter.gaussian_filter(image, sigma=sigma, multichannel=True)\n",
      "    new_image[:,:,0] = r*new_image[:,:,0]\n",
      "    new_image[:,:,1] = g*new_image[:,:,1]\n",
      "    new_image[:,:,2] = b*new_image[:,:,2]\n",
      "    new_image = io.Image(new_image)\n",
      "    display(new_image)\n",
      "    return new_image"
     ],
     "language": "python",
     "metadata": {},
     "outputs": []
    },
    {
     "cell_type": "markdown",
     "metadata": {},
     "source": [
      "Calling the function once, displays and returns the edited image:"
     ]
    },
    {
     "cell_type": "code",
     "collapsed": false,
     "input": [
      "new_i = edit_image(i, 0.5, r=0.5);"
     ],
     "language": "python",
     "metadata": {},
     "outputs": []
    },
    {
     "cell_type": "markdown",
     "metadata": {},
     "source": [
      "We can use `interact` to explore the parameter space of the processed image:"
     ]
    },
    {
     "cell_type": "code",
     "collapsed": false,
     "input": [
      "lims = (0.0,1.0,0.01)\n",
      "interact(edit_image, image=fixed(i), sigma=(0.0,10.0,0.1), r=lims, g=lims, b=lims);"
     ],
     "language": "python",
     "metadata": {},
     "outputs": []
    },
    {
     "cell_type": "markdown",
     "metadata": {},
     "source": [
      "We can quickly interate through the visualize, interact, compute cycle."
     ]
    },
    {
     "cell_type": "heading",
     "level": 2,
     "metadata": {
      "slideshow": {
       "slide_type": "slide"
      }
     },
     "source": [
      "Lorenz system"
     ]
    },
    {
     "cell_type": "markdown",
     "metadata": {},
     "source": [
      "Let's explore the Lorenz system of differential equations:\n",
      "\n",
      "$$\n",
      "\\begin{aligned}\n",
      "\\dot{x} & = \\sigma(y-x) \\\\\n",
      "\\dot{y} & = \\rho x - y - xz \\\\\n",
      "\\dot{z} & = -\\beta z + xy\n",
      "\\end{aligned}\n",
      "$$\n",
      "\n",
      "This is one of the classic systems in non-linear differential equations. It exhibits a range of different behaviors as the parameters ($\\sigma$, $\\beta$, $\\rho$) are varied."
     ]
    },
    {
     "cell_type": "code",
     "collapsed": false,
     "input": [
      "%matplotlib inline"
     ],
     "language": "python",
     "metadata": {},
     "outputs": []
    },
    {
     "cell_type": "code",
     "collapsed": false,
     "input": [
      "from IPython.html.widgets import interact, fixed\n",
      "from IPython.display import clear_output, display, HTML"
     ],
     "language": "python",
     "metadata": {},
     "outputs": []
    },
    {
     "cell_type": "markdown",
     "metadata": {},
     "source": [
      "Here is a Python function that solves the Lorenz systems using SciPy and plots the results using matplotlib:"
     ]
    },
    {
     "cell_type": "code",
     "collapsed": false,
     "input": [
      "from lorenz import solve_lorenz"
     ],
     "language": "python",
     "metadata": {},
     "outputs": []
    },
    {
     "cell_type": "code",
     "collapsed": false,
     "input": [
      "t, x_t = solve_lorenz(N=10, angle=0.0, max_time=4.0, sigma=10.0, beta=8./3, rho=28.0)"
     ],
     "language": "python",
     "metadata": {},
     "outputs": []
    },
    {
     "cell_type": "markdown",
     "metadata": {},
     "source": [
      "Let's use `interact` to explore this function:"
     ]
    },
    {
     "cell_type": "code",
     "collapsed": false,
     "input": [
      "interact(solve_lorenz, angle=(0.,360.), N=(0,50), sigma=(0.0,50.0),\n",
      "         rho=(0.0,50.0), beta=fixed(8./3));"
     ],
     "language": "python",
     "metadata": {},
     "outputs": []
    },
    {
     "cell_type": "heading",
     "level": 2,
     "metadata": {
      "slideshow": {
       "slide_type": "slide"
      }
     },
     "source": [
      "How does this work?"
     ]
    },
    {
     "cell_type": "markdown",
     "metadata": {},
     "source": [
      "* The first argument to interact is a callable/function\n",
      "* The keyword arguments to `interact` are \"widget abbreviations\"\n",
      "* These \"widget abbreviations\" are converted to `Widget` instances\n",
      "* These `Widgets` objects are Python objects that are automatically synchronized with JavaScript MVC objects running in the browser.\n",
      "* `interact` simply calls its callable each time any widget changes state"
     ]
    },
    {
     "cell_type": "code",
     "collapsed": false,
     "input": [
      "def f(x):\n",
      "    print x"
     ],
     "language": "python",
     "metadata": {},
     "outputs": []
    },
    {
     "cell_type": "code",
     "collapsed": false,
     "input": [
      "interact(f, x=True);"
     ],
     "language": "python",
     "metadata": {},
     "outputs": []
    },
    {
     "cell_type": "code",
     "collapsed": false,
     "input": [
      "interact(f, x=(0,10,2));"
     ],
     "language": "python",
     "metadata": {},
     "outputs": []
    },
    {
     "cell_type": "code",
     "collapsed": false,
     "input": [
      "interact(f, x='Hi Strata');"
     ],
     "language": "python",
     "metadata": {},
     "outputs": []
    },
    {
     "cell_type": "code",
     "collapsed": false,
     "input": [
      "interact(f, x=dict(this=list, that=tuple, other=str));"
     ],
     "language": "python",
     "metadata": {},
     "outputs": []
    },
    {
     "cell_type": "heading",
     "level": 2,
     "metadata": {
      "slideshow": {
       "slide_type": "slide"
      }
     },
     "source": [
      "Architecture overview"
     ]
    },
    {
     "cell_type": "markdown",
     "metadata": {},
     "source": [
      "The widget architecture in IPython 2.0 has a layered design with each layer working independently of the others."
     ]
    },
    {
     "cell_type": "code",
     "collapsed": false,
     "input": [
      "Image('images/WidgetArch.png')"
     ],
     "language": "python",
     "metadata": {},
     "outputs": []
    },
    {
     "cell_type": "markdown",
     "metadata": {},
     "source": [
      "* **Interact**: High-level interface for quick data exploration of a single callable/function.\n",
      "* **Widgets**: Widgets synchronize reactive Python objects/models with JavaScript models using ([Backbone.js](http://backbonejs.org/)) and manage the lifecycle and parent/child relationships of JavaScript/HTML views. This layer is documented in [IPEP 23](https://github.com/ipython/ipython/wiki/IPEP-23%3A-Backbone.js-Widgets).\n",
      "* **Comm**: The Comm layer allows real-time, asynchronous, bi-directional JSON messaging between Python objects in the kernel and JavaScript in the browser. Comm instances are very lightweight, with each Widget having its own Comm instance. This layer is documented in [IPEP 21](https://github.com/ipython/ipython/wiki/IPEP-21%3A-Widget-Messages).\n",
      "* **WebSockets/ZeroMQ** At the lowest level, all Comm's share a pair of WebSocket/ZeroMQ connections to the notebook server and kernel. It is possibly to run all of this through a modern WebSocket aware proxy.\n",
      "\n",
      "**This entire architecture is language agnostic.** Other kernel languages (Julia, R, Scala, you name it) will be able to implement the kernel side of the architecture. This will allow all kernels to re-use the JavaScript/HTML/CSS side of the Widgets while having their own language specific APIs for interact/Widgets in the kernels."
     ]
    },
    {
     "cell_type": "heading",
     "level": 2,
     "metadata": {
      "slideshow": {
       "slide_type": "slide"
      }
     },
     "source": [
      "Styling"
     ]
    },
    {
     "cell_type": "code",
     "collapsed": false,
     "input": [
      "from IPython.display import display, Image, HTML\n",
      "from talktools import website, nbviewer"
     ],
     "language": "python",
     "metadata": {},
     "outputs": [],
     "prompt_number": 1
    },
    {
     "cell_type": "code",
     "collapsed": false,
     "input": [
      "HTML(\"\"\"\n",
      "<style>\n",
      "div.cell.slideshow-slide {margin-top: 500px}\n",
      "</style>\n",
      "\"\"\")"
     ],
     "language": "python",
     "metadata": {},
     "outputs": [
      {
       "html": [
        "\n",
        "<style>\n",
        "div.cell.slideshow-slide {margin-top: 500px}\n",
        "</style>\n"
       ],
       "metadata": {},
       "output_type": "pyout",
       "prompt_number": 2,
       "text": [
        "<IPython.core.display.HTML object>"
       ]
      }
     ],
     "prompt_number": 2
    },
    {
     "cell_type": "code",
     "collapsed": false,
     "input": [],
     "language": "python",
     "metadata": {},
     "outputs": []
    }
   ],
   "metadata": {}
  }
 ]
}