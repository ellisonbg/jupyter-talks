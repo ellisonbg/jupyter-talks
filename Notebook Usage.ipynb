{
 "cells": [
  {
   "cell_type": "markdown",
   "metadata": {
    "slideshow": {
     "slide_type": "slide"
    }
   },
   "source": [
    "# How are people using the Jupyter Notebook and IPython?"
   ]
  },
  {
   "cell_type": "code",
   "execution_count": null,
   "metadata": {
    "collapsed": false
   },
   "outputs": [],
   "source": [
    "from IPython.display import display, Image, HTML\n",
    "from talktools import website, nbviewer"
   ]
  },
  {
   "cell_type": "markdown",
   "metadata": {
    "slideshow": {
     "slide_type": "slide"
    }
   },
   "source": [
    "## Cam Davidson-Pilon's book"
   ]
  },
  {
   "cell_type": "markdown",
   "metadata": {
    "slideshow": {
     "slide_type": "-"
    }
   },
   "source": [
    "Cam Davidson-Pilon has written an entire book on Bayesian Statistics as a set of Jupyter+IPython Notebooks that are hosted on GitHub and viewed on https://nbviewer.jupyter.org."
   ]
  },
  {
   "cell_type": "code",
   "execution_count": null,
   "metadata": {
    "collapsed": false
   },
   "outputs": [],
   "source": [
    "website('http://camdavidsonpilon.github.io/Probabilistic-Programming-and-Bayesian-Methods-for-Hackers/', width=\"100%\")"
   ]
  },
  {
   "cell_type": "markdown",
   "metadata": {},
   "source": [
    "## Kalman and Bayesian Filters in Python\n",
    "\n",
    "Roger Labbe has written another book using notebooks on GitHub."
   ]
  },
  {
   "cell_type": "code",
   "execution_count": null,
   "metadata": {
    "collapsed": false
   },
   "outputs": [],
   "source": [
    "website(\"http://nbviewer.ipython.org/github/rlabbe/Kalman-and-Bayesian-Filters-in-Python/blob/master/table_of_contents.ipynb\",\n",
    "       width=\"100%\")"
   ]
  },
  {
   "cell_type": "markdown",
   "metadata": {
    "slideshow": {
     "slide_type": "slide"
    }
   },
   "source": [
    "## Mining the Social Web"
   ]
  },
  {
   "cell_type": "markdown",
   "metadata": {
    "slideshow": {
     "slide_type": "-"
    }
   },
   "source": [
    "Matthew Russell has written an O'Reilly published book, [Mining The Social Web](http://shop.oreilly.com/product/0636920030195.do), that includes Jupyter+IPython Notebooks for all examples."
   ]
  },
  {
   "cell_type": "code",
   "execution_count": null,
   "metadata": {
    "collapsed": false
   },
   "outputs": [],
   "source": [
    "Image(\"images/oreilly-socialweb.png\", width=\"100%\")"
   ]
  },
  {
   "cell_type": "markdown",
   "metadata": {
    "slideshow": {
     "slide_type": "slide"
    }
   },
   "source": [
    "## Python for Signal Processing"
   ]
  },
  {
   "cell_type": "markdown",
   "metadata": {
    "slideshow": {
     "slide_type": "-"
    }
   },
   "source": [
    "Jose Unpingco has written a series of [blog posts](http://python-for-signal-processing.blogspot.com/) on Signal Processing Jupyter+IPython Notebooks. These blog posts were the basis of a full length book [Python for Signal Processing](http://www.springer.com/engineering/signals/book/978-3-319-01341-1) published by Springer in 2013."
   ]
  },
  {
   "cell_type": "code",
   "execution_count": null,
   "metadata": {
    "collapsed": false
   },
   "outputs": [],
   "source": [
    "Image(\"images/p4sp.png\", width=\"50%\")"
   ]
  },
  {
   "cell_type": "markdown",
   "metadata": {
    "slideshow": {
     "slide_type": "slide"
    }
   },
   "source": [
    "## Technical blogging"
   ]
  },
  {
   "cell_type": "markdown",
   "metadata": {},
   "source": [
    "Jake Vanderplas at the University of Washington blogs using the IPython Notebook:\n",
    "\n",
    "* [Pythonic Perambulations](http://jakevdp.github.io/blog/2014/03/11/frequentism-and-bayesianism-a-practical-intro/), Personal blog.\n",
    "* [Visualizing 4 Dimensional Asteroids](http://blogs.scientificamerican.com/sa-visual/2014/09/16/visualizing-4-dimensional-asteroids/), Scientific American, Sept. 2014."
   ]
  },
  {
   "cell_type": "code",
   "execution_count": null,
   "metadata": {
    "collapsed": false,
    "slideshow": {
     "slide_type": "-"
    }
   },
   "outputs": [],
   "source": [
    "Image(\"images/jakevdp_sa.png\", width=\"80%\")"
   ]
  },
  {
   "cell_type": "markdown",
   "metadata": {},
   "source": [
    "## Quantopian Research Platform\n",
    "\n",
    "[Quantopian](http://quantopian.com) is a Python based algorithmic trading platform. Its research environment is based on the Jupyter notebook and ties together premium data sources, backtesting with the full power of Python."
   ]
  },
  {
   "cell_type": "code",
   "execution_count": null,
   "metadata": {
    "collapsed": false
   },
   "outputs": [],
   "source": [
    "Image(\"images/quantopian-research.png\", width=\"90%\")"
   ]
  },
  {
   "cell_type": "markdown",
   "metadata": {},
   "source": [
    "## Quant Econ\n",
    "\n",
    "Thomas J. Sargent and John Stachurski have developed a web site and course about Quantitative Economics using Python and Julia. Solutions are provided as Jupyter Notebooks."
   ]
  },
  {
   "cell_type": "code",
   "execution_count": null,
   "metadata": {
    "collapsed": false
   },
   "outputs": [],
   "source": [
    "Image(\"images/quant-econ.png\", width=\"90%\")"
   ]
  },
  {
   "cell_type": "markdown",
   "metadata": {
    "slideshow": {
     "slide_type": "slide"
    }
   },
   "source": [
    "## Peter Norvig"
   ]
  },
  {
   "cell_type": "markdown",
   "metadata": {
    "slideshow": {
     "slide_type": "-"
    }
   },
   "source": [
    "Peter Norvig (Director of Research at Google) has been using the Jupyter Notebook to explore interesting algorithmic problems. He began with a notebook inspired by a regular expression golf question from xkcd [#1313](http://xkcd.com/1313/):\n",
    "\n",
    "> Can I come up with an algorithm to find a short regex that matches the [presidential] winners and not the losers?"
   ]
  },
  {
   "cell_type": "code",
   "execution_count": null,
   "metadata": {
    "collapsed": false
   },
   "outputs": [],
   "source": [
    "website('https://nbviewer.jupyter.org/url/norvig.com/ipython/xkcd1313.ipynb')"
   ]
  },
  {
   "cell_type": "markdown",
   "metadata": {},
   "source": [
    "This notebok spawned a huge amount of interest in this problem. A number of individuals started to interact with Peter over email about the algorithmic questions involved. This led to a second notebook on the topic:"
   ]
  },
  {
   "cell_type": "code",
   "execution_count": null,
   "metadata": {
    "collapsed": false
   },
   "outputs": [],
   "source": [
    "website(\"https://nbviewer.jupyter.org/url/norvig.com/ipython/xkcd1313-part2.ipynb\")"
   ]
  },
  {
   "cell_type": "markdown",
   "metadata": {},
   "source": [
    "The Notebook makes its easy to have detailed technical discussions involving code and data that are open and reproducible."
   ]
  },
  {
   "cell_type": "markdown",
   "metadata": {
    "slideshow": {
     "slide_type": "slide"
    }
   },
   "source": [
    "## Data-driven journalism"
   ]
  },
  {
   "cell_type": "markdown",
   "metadata": {},
   "source": [
    "The Notebook is being used in reproducible, data-driven journalism."
   ]
  },
  {
   "cell_type": "markdown",
   "metadata": {
    "slideshow": {
     "slide_type": "slide"
    }
   },
   "source": [
    "### 538"
   ]
  },
  {
   "cell_type": "markdown",
   "metadata": {},
   "source": [
    "On April 1, 2014, Walter Hickey of 538, published an article entitled [The Dollars-and-Cents Case Against Hollywood's Exclusion of Women](http://fivethirtyeight.com/features/the-dollar-and-cents-case-against-hollywoods-exclusion-of-women/) about the [Bechdel test](http://www.npr.org/templates/story/story.php?storyId=94202522), which provides a simple way to model the prominence of women in movies."
   ]
  },
  {
   "cell_type": "code",
   "execution_count": null,
   "metadata": {
    "collapsed": false
   },
   "outputs": [],
   "source": [
    "Image(\"images/538bechdeltest.png\", width=\"80%\")"
   ]
  },
  {
   "cell_type": "markdown",
   "metadata": {
    "slideshow": {
     "slide_type": "-"
    }
   },
   "source": [
    "On April 7, 2014, Brian Keegan, a post-doctoral research fellow in computational social science Northeastern University, published a blog post entitled [The Need for Openness in Data Journalism](http://www.brianckeegan.com/2014/04/the-need-for-openness-in-data-journalism/). Along with the blog post, he published a replication of Walter Hickey's analysis using the Jupyter Notebook and nbviewer."
   ]
  },
  {
   "cell_type": "code",
   "execution_count": null,
   "metadata": {
    "collapsed": false
   },
   "outputs": [],
   "source": [
    "website(\"https://nbviewer.jupyter.org/github/brianckeegan/Bechdel/blob/master/Bechdel_test.ipynb\")"
   ]
  },
  {
   "cell_type": "markdown",
   "metadata": {},
   "source": [
    "This caught the attention of Walter Hickey and led to a [follow up article](http://fivethirtyeight.com/datalab/the-bechdel-test-checking-our-work/) on 538 along with the posting of Walter Hickey's data and code on GitHub."
   ]
  },
  {
   "cell_type": "markdown",
   "metadata": {
    "slideshow": {
     "slide_type": "slide"
    }
   },
   "source": [
    "### BuzzFeed"
   ]
  },
  {
   "cell_type": "markdown",
   "metadata": {},
   "source": [
    "[BuzzFeed](http://www.buzzfeed.com/) has started to publish data and Jupyter Notebooks for their articles in their [BuzzFeedNews](https://github.com/BuzzFeedNews) repository on GitHub. Here are a few highlights:\n",
    "\n",
    "On August 7, 2014, [BuzzFeed](http://www.buzzfeed.com/) published an article by John Templon, entitled [Tax Collection Scams Skyrocket](http://www.buzzfeed.com/johntemplon/tax-collection-scams-skyrocket). Here is their notebook that replicates the analysis:"
   ]
  },
  {
   "cell_type": "code",
   "execution_count": null,
   "metadata": {
    "collapsed": false
   },
   "outputs": [],
   "source": [
    "Image(\"images/buzzfeed-taxscam.png\", width=\"80%\")"
   ]
  },
  {
   "cell_type": "code",
   "execution_count": null,
   "metadata": {
    "collapsed": false
   },
   "outputs": [],
   "source": [
    "website(\"https://nbviewer.jupyter.org/github/buzzfeednews/2014-08-irs-scams/blob/master/notebooks/irs-scams.ipynb\")"
   ]
  },
  {
   "cell_type": "markdown",
   "metadata": {},
   "source": [
    "On August 20, 2014, [BuzzFeed](http://www.buzzfeed.com/) published an article by Jeremy Singer-Vine, entitled [The Ferguson Area Is Even More Segregated Than You Probably Guessed](http://www.buzzfeed.com/jsvine/the-ferguson-area-is-even-more-segregated-than-you-thought#44ydjhp). Here is their notebook that replicates the analysis:"
   ]
  },
  {
   "cell_type": "code",
   "execution_count": null,
   "metadata": {
    "collapsed": false,
    "scrolled": false
   },
   "outputs": [],
   "source": [
    "Image(\"images/buzzfeed-ferguson.png\", width=\"90%\")"
   ]
  },
  {
   "cell_type": "code",
   "execution_count": null,
   "metadata": {
    "collapsed": false
   },
   "outputs": [],
   "source": [
    "website('http://nbviewer.ipython.org/github/BuzzFeedNews/2014-08-st-louis-county-segregation/blob/master/notebooks/segregation-analysis.ipynb')"
   ]
  },
  {
   "cell_type": "markdown",
   "metadata": {
    "slideshow": {
     "slide_type": "slide"
    }
   },
   "source": [
    "## Reproducible academic publications"
   ]
  },
  {
   "cell_type": "markdown",
   "metadata": {},
   "source": [
    "Publications in traditional academic journals are being accompanied by notebooks that reproduce and expand upon the main computational results of the work. See [this section](https://github.com/ipython/ipython/wiki/A-gallery-of-interesting-IPython-Notebooks#reproducible-academic-publications) of the [Notebook Gallery](https://github.com/ipython/ipython/wiki/A-gallery-of-interesting-IPython-Notebooks) for a full list. Here is one notable example from Nature Genetics by Gross et al., titled [Multi-tiered genomic analysis of head and neck cancer ties TP53 mutation to 3p loss](http://www.nature.com/ng/journal/vaop/ncurrent/full/ng.3051.html)"
   ]
  },
  {
   "cell_type": "code",
   "execution_count": null,
   "metadata": {
    "collapsed": false
   },
   "outputs": [],
   "source": [
    "Image(\"images/nature-genetics.png\", width=\"90%\")"
   ]
  },
  {
   "cell_type": "markdown",
   "metadata": {},
   "source": [
    "The authors published a GitHub repository with notebooks that replicate the results:"
   ]
  },
  {
   "cell_type": "code",
   "execution_count": null,
   "metadata": {
    "collapsed": false
   },
   "outputs": [],
   "source": [
    "website(\"https://nbviewer.jupyter.org/github/theandygross/TCGA/tree/master/Analysis_Notebooks/\")"
   ]
  },
  {
   "cell_type": "markdown",
   "metadata": {
    "slideshow": {
     "slide_type": "slide"
    }
   },
   "source": [
    "## Teaching"
   ]
  },
  {
   "cell_type": "markdown",
   "metadata": {},
   "source": [
    "The Jupyter Notebook is being used for lecture materials and student work in a large number of university and high school courses on scientific computing and data science. Most of these courses are being developed publicly on GitHub. Here are a few of the ones we know about:"
   ]
  },
  {
   "cell_type": "code",
   "execution_count": null,
   "metadata": {
    "collapsed": false
   },
   "outputs": [],
   "source": [
    "%%file courses.csv\n",
    "\"Course\",\"University\",\"Instructor\"\n",
    "\"Python for Data Science\",\"UC Berkeley\",\"Josh Bloom\"\n",
    "\"Introduction to Data Science\",\"UC Berkeley\",\"Michael Franklin\"\n",
    "\"Working with Open Data\",\"UC Berkeley\",\"Raymond Yee\"\n",
    "\"Introduction to Signal Processing\",\"UC Berkeley\",\"Miki Lustig\"\n",
    "\"Data Science (CS 109)\",\"Harvard University\",\"Pfister and Blitzstein\"\n",
    "\"Practical Data Science\",\"NYU\",\"Josh Attenberg\"\n",
    "\"Scientific Computing (ASTR 599)\",\"University of Washington\",\"Jake Vanderplas\"\n",
    "\"Computational Physics\",\"Cal Poly\",\"Jennifer Klay\"\n",
    "\"Introduction to Programming\",\"Alaskan High School\",\"Eric Matthes\"\n",
    "\"Aerodynamics-Hydrodynamics (MAE 6226)\",\"George Washington University\",\"Lorena Barba\"\n",
    "\"HyperPython: hyperbolic conservation laws\",\"KAUST\",\"David Ketcheson\"\n",
    "\"Quantitative Economics\",\"NYU\",\"Sargent and Stachurski\"\n",
    "\"Practical Numerical Methods with Python\",\"4 separate universities + MOOC\",\"Barba, et al.\"\n",
    "\"Data Science\",\"Columbia University - Lede Program\", \"Chris Wiggins\"\n",
    "\"Introduction to Applied Statistics (STATS 191)\",\"Stanford University\",\"Jonathan Taylor\"\n",
    "\"Methods for Applied Statistics (STATS 306B)\",\"Stanford University\",\"Jonathan Taylor\""
   ]
  },
  {
   "cell_type": "code",
   "execution_count": null,
   "metadata": {
    "collapsed": false
   },
   "outputs": [],
   "source": [
    "import pandas"
   ]
  },
  {
   "cell_type": "code",
   "execution_count": null,
   "metadata": {
    "collapsed": false
   },
   "outputs": [],
   "source": [
    "df = pandas.read_csv('courses.csv'); df"
   ]
  },
  {
   "cell_type": "markdown",
   "metadata": {
    "slideshow": {
     "slide_type": "slide"
    }
   },
   "source": [
    "## Notebook gallery"
   ]
  },
  {
   "cell_type": "markdown",
   "metadata": {},
   "source": [
    "The examples shown here of how the Jupyter Notebook is being used are merely representative. We maintain a longer [gallery of interesting Notebooks](https://github.com/ipython/ipython/wiki/A-gallery-of-interesting-IPython-Notebooks) that contains a curated list of notebooks on various topics."
   ]
  }
 ],
 "metadata": {
  "kernelspec": {
   "display_name": "Python 2",
   "language": "python",
   "name": "python2"
  },
  "language_info": {
   "codemirror_mode": {
    "name": "ipython",
    "version": 2
   },
   "file_extension": ".py",
   "mimetype": "text/x-python",
   "name": "python",
   "nbconvert_exporter": "python",
   "pygments_lexer": "ipython2",
   "version": "2.7.9"
  }
 },
 "nbformat": 4,
 "nbformat_minor": 0
}
