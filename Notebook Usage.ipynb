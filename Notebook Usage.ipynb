{
 "cells": [
  {
   "cell_type": "markdown",
   "metadata": {
    "slideshow": {
     "slide_type": "slide"
    }
   },
   "source": [
    "# How are people using the Jupyter Notebook and IPython?"
   ]
  },
  {
   "cell_type": "code",
   "execution_count": 1,
   "metadata": {
    "collapsed": false
   },
   "outputs": [],
   "source": [
    "from IPython.display import display, Image, HTML\n",
    "from talktools import website, nbviewer"
   ]
  },
  {
   "cell_type": "markdown",
   "metadata": {
    "slideshow": {
     "slide_type": "slide"
    }
   },
   "source": [
    "## Cam Davidson-Pilon's book"
   ]
  },
  {
   "cell_type": "markdown",
   "metadata": {
    "slideshow": {
     "slide_type": "-"
    }
   },
   "source": [
    "Cam Davidson-Pilon has written an entire book on Bayesian Statistics as a set of Jupyter+IPython Notebooks that are hosted on GitHub and viewed on https://nbviewer.jupyter.org."
   ]
  },
  {
   "cell_type": "code",
   "execution_count": 2,
   "metadata": {
    "collapsed": false
   },
   "outputs": [
    {
     "data": {
      "text/html": [
       "<iframe src=\"http://camdavidsonpilon.github.io/Probabilistic-Programming-and-Bayesian-Methods-for-Hackers/\"  width=\"100%\" height=\"450\">\n",
       "</iframe>"
      ],
      "text/plain": [
       "<IPython.core.display.HTML object>"
      ]
     },
     "execution_count": 2,
     "metadata": {},
     "output_type": "execute_result"
    }
   ],
   "source": [
    "website('http://camdavidsonpilon.github.io/Probabilistic-Programming-and-Bayesian-Methods-for-Hackers/')"
   ]
  },
  {
   "cell_type": "markdown",
   "metadata": {
    "slideshow": {
     "slide_type": "slide"
    }
   },
   "source": [
    "## Mining the Social Web"
   ]
  },
  {
   "cell_type": "markdown",
   "metadata": {
    "slideshow": {
     "slide_type": "-"
    }
   },
   "source": [
    "Matthew Russell has written an O'Reilly published book, [Mining The Social Web](http://shop.oreilly.com/product/0636920030195.do), that includes Jupyter+IPython Notebooks for all examples."
   ]
  },
  {
   "cell_type": "code",
   "execution_count": 3,
   "metadata": {
    "collapsed": false
   },
   "outputs": [
    {
     "data": {
      "text/html": [
       "<iframe src=\"http://shop.oreilly.com/product/0636920030195.do\"  width=\"100%\" height=\"450\">\n",
       "</iframe>"
      ],
      "text/plain": [
       "<IPython.core.display.HTML object>"
      ]
     },
     "execution_count": 3,
     "metadata": {},
     "output_type": "execute_result"
    }
   ],
   "source": [
    "website('http://shop.oreilly.com/product/0636920030195.do')"
   ]
  },
  {
   "cell_type": "markdown",
   "metadata": {
    "slideshow": {
     "slide_type": "slide"
    }
   },
   "source": [
    "## Python for Signal Processing"
   ]
  },
  {
   "cell_type": "markdown",
   "metadata": {
    "slideshow": {
     "slide_type": "-"
    }
   },
   "source": [
    "Jose Unpingco has written a series of [blog posts](http://python-for-signal-processing.blogspot.com/) on Signal Processing Jupyter+IPython Notebooks. These blog posts were the basis of a full length book [Python for Signal Processing](http://www.springer.com/engineering/signals/book/978-3-319-01341-1) published by Springer in 2013.\n",
    "\n",
    "<img src=\"images/p4sp.png\">"
   ]
  },
  {
   "cell_type": "markdown",
   "metadata": {
    "slideshow": {
     "slide_type": "slide"
    }
   },
   "source": [
    "## Technical blogging"
   ]
  },
  {
   "cell_type": "markdown",
   "metadata": {
    "slideshow": {
     "slide_type": "-"
    }
   },
   "source": [
    "Jake Vanderplas at the University of Washington blogs using the IPython Notebook:\n",
    "\n",
    "* [Pythonic Perambulations](http://jakevdp.github.io/blog/2014/03/11/frequentism-and-bayesianism-a-practical-intro/), Personal blog.\n",
    "* [Visualizing 4 Dimensional Asteroids](http://blogs.scientificamerican.com/sa-visual/2014/09/16/visualizing-4-dimensional-asteroids/), Scientific American, Sept. 2014.\n",
    "\n",
    "<img src=\"images/jakevdp_sa.png\">"
   ]
  },
  {
   "cell_type": "markdown",
   "metadata": {
    "slideshow": {
     "slide_type": "slide"
    }
   },
   "source": [
    "## Social media"
   ]
  },
  {
   "cell_type": "markdown",
   "metadata": {
    "slideshow": {
     "slide_type": "-"
    }
   },
   "source": [
    "Many individuals are now using http://nbviewer.jupyter.org with [Twitter](http://twitter.com) to *speak* about a wide range of technical work."
   ]
  },
  {
   "cell_type": "code",
   "execution_count": 4,
   "metadata": {
    "collapsed": false
   },
   "outputs": [
    {
     "data": {
      "image/png": "[encoded data removed]",
      "text/plain": [
       "<IPython.core.display.Image object>"
      ]
     },
     "execution_count": 4,
     "metadata": {},
     "output_type": "execute_result"
    }
   ],
   "source": [
    "Image('images/twitter_post.png')"
   ]
  },
  {
   "cell_type": "markdown",
   "metadata": {
    "slideshow": {
     "slide_type": "slide"
    }
   },
   "source": [
    "## Peter Norvig"
   ]
  },
  {
   "cell_type": "markdown",
   "metadata": {
    "slideshow": {
     "slide_type": "-"
    }
   },
   "source": [
    "Peter Norvig (Director of Research at Google) has been using the Jupyter Notebook to explore interesting algorithmic problems. He began with a notebook inspired by a regular expression golf question from xkcd [#1313](http://xkcd.com/1313/):\n",
    "\n",
    "> Can I come up with an algorithm to find a short regex that matches the [presidential] winners and not the losers?"
   ]
  },
  {
   "cell_type": "code",
   "execution_count": 5,
   "metadata": {
    "collapsed": false
   },
   "outputs": [
    {
     "data": {
      "text/html": [
       "<iframe src=\"https://nbviewer.jupyter.org/url/norvig.com/ipython/xkcd1313.ipynb\"  width=\"100%\" height=\"450\">\n",
       "</iframe>"
      ],
      "text/plain": [
       "<IPython.core.display.HTML object>"
      ]
     },
     "execution_count": 5,
     "metadata": {},
     "output_type": "execute_result"
    }
   ],
   "source": [
    "website('https://nbviewer.jupyter.org/url/norvig.com/ipython/xkcd1313.ipynb')"
   ]
  },
  {
   "cell_type": "markdown",
   "metadata": {},
   "source": [
    "This notebok spawned a huge amount of interest in this problem. A number of individuals started to interact with Peter over email about the algorithmic questions involved. This led to a second notebook on the topic:"
   ]
  },
  {
   "cell_type": "code",
   "execution_count": 6,
   "metadata": {
    "collapsed": false
   },
   "outputs": [
    {
     "data": {
      "text/html": [
       "<iframe src=\"https://nbviewer.jupyter.org/url/norvig.com/ipython/xkcd1313-part2.ipynb\"  width=\"100%\" height=\"450\">\n",
       "</iframe>"
      ],
      "text/plain": [
       "<IPython.core.display.HTML object>"
      ]
     },
     "execution_count": 6,
     "metadata": {},
     "output_type": "execute_result"
    }
   ],
   "source": [
    "website(\"https://nbviewer.jupyter.org/url/norvig.com/ipython/xkcd1313-part2.ipynb\")"
   ]
  },
  {
   "cell_type": "markdown",
   "metadata": {},
   "source": [
    "The Notebook makes its easy to have detailed technical discussions involving code and data that are open and reproducible."
   ]
  },
  {
   "cell_type": "markdown",
   "metadata": {
    "slideshow": {
     "slide_type": "slide"
    }
   },
   "source": [
    "## NASA/JPL"
   ]
  },
  {
   "cell_type": "markdown",
   "metadata": {
    "slideshow": {
     "slide_type": "-"
    }
   },
   "source": [
    "NASA/JPL is using the Jupyter Notebook on on various teams and is running nbviewer internally to share Jupyter Notebooks:"
   ]
  },
  {
   "cell_type": "code",
   "execution_count": 7,
   "metadata": {
    "collapsed": false
   },
   "outputs": [
    {
     "data": {
      "image/jpeg": "[encoded data removed]",
      "text/plain": [
       "<IPython.core.display.Image object>"
      ]
     },
     "execution_count": 7,
     "metadata": {},
     "output_type": "execute_result"
    }
   ],
   "source": [
    "Image('images/NASA-nbviewer.jpg')"
   ]
  },
  {
   "cell_type": "markdown",
   "metadata": {
    "slideshow": {
     "slide_type": "slide"
    }
   },
   "source": [
    "## Data-driven journalism"
   ]
  },
  {
   "cell_type": "markdown",
   "metadata": {},
   "source": [
    "The Notebook is being used in reproducible, data-driven journalism."
   ]
  },
  {
   "cell_type": "markdown",
   "metadata": {
    "slideshow": {
     "slide_type": "slide"
    }
   },
   "source": [
    "### 538"
   ]
  },
  {
   "cell_type": "markdown",
   "metadata": {},
   "source": [
    "Here is an example from [538](http://fivethirtyeight.com)."
   ]
  },
  {
   "cell_type": "markdown",
   "metadata": {
    "slideshow": {
     "slide_type": "-"
    }
   },
   "source": [
    "On April 1, 2014, Walter Hickey of 538, published an article entitled [The Dollars-and-Cents Case Against Hollywood's Exclusion of Women](http://fivethirtyeight.com/features/the-dollar-and-cents-case-against-hollywoods-exclusion-of-women/) about the [Bechdel test](http://www.npr.org/templates/story/story.php?storyId=94202522), which provides a simple way to model the prominence of women in movies.\n",
    "\n",
    "On April 7, 2014, Brian Keegan, a post-doctoral research fellow in computational social science Northeastern University, published a blog post entitled [The Need for Openness in Data Journalism](http://www.brianckeegan.com/2014/04/the-need-for-openness-in-data-journalism/). Along with the blog post, he published a replication of Walter Hickey's analysis using the Jupyter Notebook and nbviewer."
   ]
  },
  {
   "cell_type": "code",
   "execution_count": 8,
   "metadata": {
    "collapsed": false
   },
   "outputs": [
    {
     "data": {
      "text/html": [
       "<iframe src=\"https://nbviewer.jupyter.org/github/brianckeegan/Bechdel/blob/master/Bechdel_test.ipynb\"  width=\"100%\" height=\"450\">\n",
       "</iframe>"
      ],
      "text/plain": [
       "<IPython.core.display.HTML object>"
      ]
     },
     "execution_count": 8,
     "metadata": {},
     "output_type": "execute_result"
    }
   ],
   "source": [
    "website(\"https://nbviewer.jupyter.org/github/brianckeegan/Bechdel/blob/master/Bechdel_test.ipynb\")"
   ]
  },
  {
   "cell_type": "markdown",
   "metadata": {},
   "source": [
    "This caught the attention of Walter Hickey:\n",
    "\n",
    "<img src=\"images/walt_hickey.png\">\n",
    "\n",
    "and led to a [follow up article](http://fivethirtyeight.com/datalab/the-bechdel-test-checking-our-work/) on 538 along with the posting of Walter Hickey's data and code on GitHub. We followed that up by creating an Jupyter+IR Notebook version of the original data analysis posted in the 538 GitHub repository:"
   ]
  },
  {
   "cell_type": "code",
   "execution_count": 9,
   "metadata": {
    "collapsed": false
   },
   "outputs": [
    {
     "data": {
      "text/html": [
       "<iframe src=\"https://nbviewer.jupyter.org/github/ellisonbg/data/blob/r-notebook/bechdel/analyze-bechdel.ipynb\"  width=\"100%\" height=\"450\">\n",
       "</iframe>"
      ],
      "text/plain": [
       "<IPython.core.display.HTML object>"
      ]
     },
     "execution_count": 9,
     "metadata": {},
     "output_type": "execute_result"
    }
   ],
   "source": [
    "website(\"https://nbviewer.jupyter.org/github/ellisonbg/data/blob/r-notebook/bechdel/analyze-bechdel.ipynb\")"
   ]
  },
  {
   "cell_type": "markdown",
   "metadata": {
    "slideshow": {
     "slide_type": "slide"
    }
   },
   "source": [
    "### BuzzFeed"
   ]
  },
  {
   "cell_type": "markdown",
   "metadata": {},
   "source": [
    "[BuzzFeed](http://www.buzzfeed.com/) has started to publish data and Jupyter Notebooks for their articles in their [BuzzFeedNews](https://github.com/BuzzFeedNews) repository on GitHub. Here are a few highlights:\n",
    "\n",
    "On August 7, 2014, [BuzzFeed](http://www.buzzfeed.com/) published an article by John Templon, entitled [Tax Collection Scams Skyrocket](http://www.buzzfeed.com/johntemplon/tax-collection-scams-skyrocket). Here is their notebook that replicates the analysis:"
   ]
  },
  {
   "cell_type": "code",
   "execution_count": 10,
   "metadata": {
    "collapsed": false
   },
   "outputs": [
    {
     "data": {
      "text/html": [
       "<iframe src=\"https://nbviewer.jupyter.org/github/buzzfeednews/2014-08-irs-scams/blob/master/notebooks/irs-scams.ipynb\"  width=\"100%\" height=\"450\">\n",
       "</iframe>"
      ],
      "text/plain": [
       "<IPython.core.display.HTML object>"
      ]
     },
     "execution_count": 10,
     "metadata": {},
     "output_type": "execute_result"
    }
   ],
   "source": [
    "website(\"https://nbviewer.jupyter.org/github/buzzfeednews/2014-08-irs-scams/blob/master/notebooks/irs-scams.ipynb\")"
   ]
  },
  {
   "cell_type": "markdown",
   "metadata": {},
   "source": [
    "On August 20, 2014, [BuzzFeed](http://www.buzzfeed.com/) published an article by Jeremy Singer-Vine, entitled [The Ferguson Area Is Even More Segregated Than You Probably Guessed](http://www.buzzfeed.com/jsvine/the-ferguson-area-is-even-more-segregated-than-you-thought#44ydjhp). Here is their notebook that replicates the analysis:"
   ]
  },
  {
   "cell_type": "code",
   "execution_count": 11,
   "metadata": {
    "collapsed": false
   },
   "outputs": [
    {
     "data": {
      "text/html": [
       "<iframe src=\"http://nbviewer.ipython.org/github/BuzzFeedNews/2014-08-st-louis-county-segregation/blob/master/notebooks/segregation-analysis.ipynb\"  width=\"100%\" height=\"450\">\n",
       "</iframe>"
      ],
      "text/plain": [
       "<IPython.core.display.HTML object>"
      ]
     },
     "execution_count": 11,
     "metadata": {},
     "output_type": "execute_result"
    }
   ],
   "source": [
    "website('http://nbviewer.ipython.org/github/BuzzFeedNews/2014-08-st-louis-county-segregation/blob/master/notebooks/segregation-analysis.ipynb')"
   ]
  },
  {
   "cell_type": "markdown",
   "metadata": {
    "slideshow": {
     "slide_type": "slide"
    }
   },
   "source": [
    "## Reproducible academic publications"
   ]
  },
  {
   "cell_type": "markdown",
   "metadata": {},
   "source": [
    "Publications in traditional academic journals are being accompanied by notebooks that reproduce and expand upon the main computational results of the work. See [this section](https://github.com/ipython/ipython/wiki/A-gallery-of-interesting-IPython-Notebooks#reproducible-academic-publications) of the [Notebook Gallery](https://github.com/ipython/ipython/wiki/A-gallery-of-interesting-IPython-Notebooks) for a full list. Here is one notable example from Nature Genetics:"
   ]
  },
  {
   "cell_type": "code",
   "execution_count": 12,
   "metadata": {
    "collapsed": false
   },
   "outputs": [
    {
     "data": {
      "text/html": [
       "<iframe src=\"http://www.nature.com/ng/journal/vaop/ncurrent/full/ng.3051.html\"  width=\"100%\" height=\"450\">\n",
       "</iframe>"
      ],
      "text/plain": [
       "<IPython.core.display.HTML object>"
      ]
     },
     "execution_count": 12,
     "metadata": {},
     "output_type": "execute_result"
    }
   ],
   "source": [
    "website(\"http://www.nature.com/ng/journal/vaop/ncurrent/full/ng.3051.html\")"
   ]
  },
  {
   "cell_type": "markdown",
   "metadata": {},
   "source": [
    "The authors published a GitHub repository with notebooks that replicate the results:"
   ]
  },
  {
   "cell_type": "code",
   "execution_count": 13,
   "metadata": {
    "collapsed": false
   },
   "outputs": [
    {
     "data": {
      "text/html": [
       "<iframe src=\"https://nbviewer.jupyter.org/github/theandygross/TCGA/tree/master/Analysis_Notebooks/\"  width=\"100%\" height=\"450\">\n",
       "</iframe>"
      ],
      "text/plain": [
       "<IPython.core.display.HTML object>"
      ]
     },
     "execution_count": 13,
     "metadata": {},
     "output_type": "execute_result"
    }
   ],
   "source": [
    "website(\"https://nbviewer.jupyter.org/github/theandygross/TCGA/tree/master/Analysis_Notebooks/\")"
   ]
  },
  {
   "cell_type": "markdown",
   "metadata": {
    "slideshow": {
     "slide_type": "slide"
    }
   },
   "source": [
    "## Teaching"
   ]
  },
  {
   "cell_type": "markdown",
   "metadata": {},
   "source": [
    "The Jupyter Notebook is being used for lecture materials and student work in a large number of university and high school courses on scientific computing and data science. Most of these courses are being developed publicly on GitHub. Here are a few of the ones we know about:"
   ]
  },
  {
   "cell_type": "code",
   "execution_count": 17,
   "metadata": {
    "collapsed": false
   },
   "outputs": [
    {
     "name": "stdout",
     "output_type": "stream",
     "text": [
      "Overwriting courses.csv\n"
     ]
    }
   ],
   "source": [
    "%%file courses.csv\n",
    "\"Course\",\"University\",\"Instructor\"\n",
    "\"Python for Data Science\",\"UC Berkeley\",\"Josh Bloom\"\n",
    "\"Introduction to Data Science\",\"UC Berkeley\",\"Michael Franklin\"\n",
    "\"Working with Open Data\",\"UC Berkeley\",\"Raymond Yee\"\n",
    "\"Introduction to Signal Processing\",\"UC Berkeley\",\"Miki Lustig\"\n",
    "\"Data Science (CS 109)\",\"Harvard University\",\"Pfister and Blitzstein\"\n",
    "\"Practical Data Science\",\"NYU\",\"Josh Attenberg\"\n",
    "\"Scientific Computing (ASTR 599)\",\"University of Washington\",\"Jake Vanderplas\"\n",
    "\"Computational Physics\",\"Cal Poly\",\"Jennifer Klay\"\n",
    "\"Introduction to Programming\",\"Alaskan High School\",\"Eric Matthes\"\n",
    "\"Aerodynamics-Hydrodynamics (MAE 6226)\",\"George Washington University\",\"Lorena Barba\"\n",
    "\"HyperPython: hyperbolic conservation laws\",\"KAUST\",\"David Ketcheson\"\n",
    "\"Quantitative Economics\",\"NYU\",\"Sargent and Stachurski\"\n",
    "\"Practical Numerical Methods with Python\",\"4 separate universities + MOOC\",\"Barba, et al.\"\n",
    "\"Data Science\",\"Columbia University - Lede Program\", \"Chris Wiggins\"\n",
    "\"Introduction to Applied Statistics (STATS 191)\",\"Stanford University\",\"Jonathan Taylor\"\n",
    "\"Methods for Applied Statistics (STATS 306B)\",\"Stanford University\",\"Jonathan Taylor\""
   ]
  },
  {
   "cell_type": "code",
   "execution_count": 18,
   "metadata": {
    "collapsed": false
   },
   "outputs": [],
   "source": [
    "import pandas"
   ]
  },
  {
   "cell_type": "code",
   "execution_count": 19,
   "metadata": {
    "collapsed": false
   },
   "outputs": [
    {
     "data": {
      "text/html": [
       "<div style=\"max-height:1000px;max-width:1500px;overflow:auto;\">\n",
       "<table border=\"1\" class=\"dataframe\">\n",
       "  <thead>\n",
       "    <tr style=\"text-align: right;\">\n",
       "      <th></th>\n",
       "      <th>Course</th>\n",
       "      <th>University</th>\n",
       "      <th>Instructor</th>\n",
       "    </tr>\n",
       "  </thead>\n",
       "  <tbody>\n",
       "    <tr>\n",
       "      <th>0 </th>\n",
       "      <td>                        Python for Data Science</td>\n",
       "      <td>                        UC Berkeley</td>\n",
       "      <td>             Josh Bloom</td>\n",
       "    </tr>\n",
       "    <tr>\n",
       "      <th>1 </th>\n",
       "      <td>                   Introduction to Data Science</td>\n",
       "      <td>                        UC Berkeley</td>\n",
       "      <td>       Michael Franklin</td>\n",
       "    </tr>\n",
       "    <tr>\n",
       "      <th>2 </th>\n",
       "      <td>                         Working with Open Data</td>\n",
       "      <td>                        UC Berkeley</td>\n",
       "      <td>            Raymond Yee</td>\n",
       "    </tr>\n",
       "    <tr>\n",
       "      <th>3 </th>\n",
       "      <td>              Introduction to Signal Processing</td>\n",
       "      <td>                        UC Berkeley</td>\n",
       "      <td>            Miki Lustig</td>\n",
       "    </tr>\n",
       "    <tr>\n",
       "      <th>4 </th>\n",
       "      <td>                          Data Science (CS 109)</td>\n",
       "      <td>                 Harvard University</td>\n",
       "      <td> Pfister and Blitzstein</td>\n",
       "    </tr>\n",
       "    <tr>\n",
       "      <th>5 </th>\n",
       "      <td>                         Practical Data Science</td>\n",
       "      <td>                                NYU</td>\n",
       "      <td>         Josh Attenberg</td>\n",
       "    </tr>\n",
       "    <tr>\n",
       "      <th>6 </th>\n",
       "      <td>                Scientific Computing (ASTR 599)</td>\n",
       "      <td>           University of Washington</td>\n",
       "      <td>        Jake Vanderplas</td>\n",
       "    </tr>\n",
       "    <tr>\n",
       "      <th>7 </th>\n",
       "      <td>                          Computational Physics</td>\n",
       "      <td>                           Cal Poly</td>\n",
       "      <td>          Jennifer Klay</td>\n",
       "    </tr>\n",
       "    <tr>\n",
       "      <th>8 </th>\n",
       "      <td>                    Introduction to Programming</td>\n",
       "      <td>                Alaskan High School</td>\n",
       "      <td>           Eric Matthes</td>\n",
       "    </tr>\n",
       "    <tr>\n",
       "      <th>9 </th>\n",
       "      <td>          Aerodynamics-Hydrodynamics (MAE 6226)</td>\n",
       "      <td>       George Washington University</td>\n",
       "      <td>           Lorena Barba</td>\n",
       "    </tr>\n",
       "    <tr>\n",
       "      <th>10</th>\n",
       "      <td>      HyperPython: hyperbolic conservation laws</td>\n",
       "      <td>                              KAUST</td>\n",
       "      <td>        David Ketcheson</td>\n",
       "    </tr>\n",
       "    <tr>\n",
       "      <th>11</th>\n",
       "      <td>                         Quantitative Economics</td>\n",
       "      <td>                                NYU</td>\n",
       "      <td> Sargent and Stachurski</td>\n",
       "    </tr>\n",
       "    <tr>\n",
       "      <th>12</th>\n",
       "      <td>        Practical Numerical Methods with Python</td>\n",
       "      <td>     4 separate universities + MOOC</td>\n",
       "      <td>          Barba, et al.</td>\n",
       "    </tr>\n",
       "    <tr>\n",
       "      <th>13</th>\n",
       "      <td>                                   Data Science</td>\n",
       "      <td> Columbia University - Lede Program</td>\n",
       "      <td>        \"Chris Wiggins\"</td>\n",
       "    </tr>\n",
       "    <tr>\n",
       "      <th>14</th>\n",
       "      <td> Introduction to Applied Statistics (STATS 191)</td>\n",
       "      <td>                Stanford University</td>\n",
       "      <td>        Jonathan Taylor</td>\n",
       "    </tr>\n",
       "    <tr>\n",
       "      <th>15</th>\n",
       "      <td>    Methods for Applied Statistics (STATS 306B)</td>\n",
       "      <td>                Stanford University</td>\n",
       "      <td>        Jonathan Taylor</td>\n",
       "    </tr>\n",
       "  </tbody>\n",
       "</table>\n",
       "</div>"
      ],
      "text/plain": [
       "                                            Course  \\\n",
       "0                          Python for Data Science   \n",
       "1                     Introduction to Data Science   \n",
       "2                           Working with Open Data   \n",
       "3                Introduction to Signal Processing   \n",
       "4                            Data Science (CS 109)   \n",
       "5                           Practical Data Science   \n",
       "6                  Scientific Computing (ASTR 599)   \n",
       "7                            Computational Physics   \n",
       "8                      Introduction to Programming   \n",
       "9            Aerodynamics-Hydrodynamics (MAE 6226)   \n",
       "10       HyperPython: hyperbolic conservation laws   \n",
       "11                          Quantitative Economics   \n",
       "12         Practical Numerical Methods with Python   \n",
       "13                                    Data Science   \n",
       "14  Introduction to Applied Statistics (STATS 191)   \n",
       "15     Methods for Applied Statistics (STATS 306B)   \n",
       "\n",
       "                            University              Instructor  \n",
       "0                          UC Berkeley              Josh Bloom  \n",
       "1                          UC Berkeley        Michael Franklin  \n",
       "2                          UC Berkeley             Raymond Yee  \n",
       "3                          UC Berkeley             Miki Lustig  \n",
       "4                   Harvard University  Pfister and Blitzstein  \n",
       "5                                  NYU          Josh Attenberg  \n",
       "6             University of Washington         Jake Vanderplas  \n",
       "7                             Cal Poly           Jennifer Klay  \n",
       "8                  Alaskan High School            Eric Matthes  \n",
       "9         George Washington University            Lorena Barba  \n",
       "10                               KAUST         David Ketcheson  \n",
       "11                                 NYU  Sargent and Stachurski  \n",
       "12      4 separate universities + MOOC           Barba, et al.  \n",
       "13  Columbia University - Lede Program         \"Chris Wiggins\"  \n",
       "14                 Stanford University         Jonathan Taylor  \n",
       "15                 Stanford University         Jonathan Taylor  "
      ]
     },
     "execution_count": 19,
     "metadata": {},
     "output_type": "execute_result"
    }
   ],
   "source": [
    "df = pandas.read_csv('courses.csv'); df"
   ]
  },
  {
   "cell_type": "markdown",
   "metadata": {
    "slideshow": {
     "slide_type": "slide"
    }
   },
   "source": [
    "## Notebook gallery"
   ]
  },
  {
   "cell_type": "markdown",
   "metadata": {},
   "source": [
    "The examples shown here of how the Jupyter Notebook is being used are merely representative. We maintain a longer [gallery of interesting Notebooks](https://github.com/ipython/ipython/wiki/A-gallery-of-interesting-IPython-Notebooks) that contains a curated list of notebooks on various topics."
   ]
  }
 ],
 "metadata": {
  "kernelspec": {
   "display_name": "Python 2",
   "language": "python",
   "name": "python2"
  },
  "language_info": {
   "codemirror_mode": {
    "name": "ipython",
    "version": 2
   },
   "file_extension": ".py",
   "mimetype": "text/x-python",
   "name": "python",
   "nbconvert_exporter": "python",
   "pygments_lexer": "ipython2",
   "version": "2.7.9"
  }
 },
 "nbformat": 4,
 "nbformat_minor": 0
}
