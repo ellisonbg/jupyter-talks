{
 "metadata": {
  "name": "",
  "signature": "sha256:d30b377ea45b20a4a827a3f4ea4785ac812b80b813e748d7268b20443ba9a7f4"
 },
 "nbformat": 3,
 "nbformat_minor": 0,
 "worksheets": [
  {
   "cells": [
    {
     "cell_type": "heading",
     "level": 1,
     "metadata": {
      "slideshow": {
       "slide_type": "slide"
      }
     },
     "source": [
      "How are people using the IPython Notebook?"
     ]
    },
    {
     "cell_type": "heading",
     "level": 2,
     "metadata": {
      "slideshow": {
       "slide_type": "slide"
      }
     },
     "source": [
      "White house Hackathon"
     ]
    },
    {
     "cell_type": "markdown",
     "metadata": {},
     "source": [
      "IPython was used for interactive, exploratory data science at the first White House Hackathon in 2013."
     ]
    },
    {
     "cell_type": "code",
     "collapsed": false,
     "input": [
      "from IPython.display import YouTubeVideo\n",
      "YouTubeVideo('sjfsUzECqK0')"
     ],
     "language": "python",
     "metadata": {},
     "outputs": [
      {
       "html": [
        "\n",
        "        <iframe\n",
        "            width=\"400\"\n",
        "            height=300\"\n",
        "            src=\"https://www.youtube.com/embed/sjfsUzECqK0\"\n",
        "            frameborder=\"0\"\n",
        "            allowfullscreen\n",
        "        ></iframe>\n",
        "        "
       ],
       "metadata": {},
       "output_type": "pyout",
       "prompt_number": 3,
       "text": [
        "<IPython.lib.display.YouTubeVideo at 0x106a01dd0>"
       ]
      }
     ],
     "prompt_number": 3
    },
    {
     "cell_type": "heading",
     "level": 2,
     "metadata": {
      "slideshow": {
       "slide_type": "slide"
      }
     },
     "source": [
      "Cam Davidson-Pilon's book"
     ]
    },
    {
     "cell_type": "markdown",
     "metadata": {
      "slideshow": {
       "slide_type": "-"
      }
     },
     "source": [
      "Cam Davidson-Pilon has written an entire book on Bayesian Statistics as a set of IPython Notebook that are hosted on GitHub and viewed on http://nbviewer.ipython.org."
     ]
    },
    {
     "cell_type": "code",
     "collapsed": false,
     "input": [
      "website('http://camdavidsonpilon.github.io/Probabilistic-Programming-and-Bayesian-Methods-for-Hackers/')"
     ],
     "language": "python",
     "metadata": {},
     "outputs": [
      {
       "html": [
        "<iframe src=\"http://camdavidsonpilon.github.io/Probabilistic-Programming-and-Bayesian-Methods-for-Hackers/\"  width=\"100%\" height=\"450\">\n",
        "</iframe>"
       ],
       "metadata": {},
       "output_type": "pyout",
       "prompt_number": 4,
       "text": [
        "<IPython.core.display.HTML object>"
       ]
      }
     ],
     "prompt_number": 4
    },
    {
     "cell_type": "heading",
     "level": 2,
     "metadata": {
      "slideshow": {
       "slide_type": "slide"
      }
     },
     "source": [
      "Mining the Social Web"
     ]
    },
    {
     "cell_type": "markdown",
     "metadata": {
      "slideshow": {
       "slide_type": "-"
      }
     },
     "source": [
      "Matthew Russell has written an O'Reilly published book, [Mining The Social Web](http://shop.oreilly.com/product/0636920030195.do), that includes IPython Notebooks for all examples."
     ]
    },
    {
     "cell_type": "code",
     "collapsed": false,
     "input": [
      "website('http://shop.oreilly.com/product/0636920030195.do')"
     ],
     "language": "python",
     "metadata": {},
     "outputs": [
      {
       "html": [
        "<iframe src=\"http://shop.oreilly.com/product/0636920030195.do\"  width=\"100%\" height=\"450\">\n",
        "</iframe>"
       ],
       "metadata": {},
       "output_type": "pyout",
       "prompt_number": 5,
       "text": [
        "<IPython.core.display.HTML object>"
       ]
      }
     ],
     "prompt_number": 5
    },
    {
     "cell_type": "heading",
     "level": 2,
     "metadata": {
      "slideshow": {
       "slide_type": "slide"
      }
     },
     "source": [
      "Python for Signal Processing"
     ]
    },
    {
     "cell_type": "markdown",
     "metadata": {
      "slideshow": {
       "slide_type": "-"
      }
     },
     "source": [
      "Jose Unpingco has written a series of blog posts on Signal Processing using the IPython Notebook. These blog posts were the basis of a full length book [Python for Signal Processing](http://www.springer.com/engineering/signals/book/978-3-319-01341-1) published by Springer in 2013."
     ]
    },
    {
     "cell_type": "code",
     "collapsed": false,
     "input": [
      "website('http://python-for-signal-processing.blogspot.com/')"
     ],
     "language": "python",
     "metadata": {},
     "outputs": [
      {
       "html": [
        "<iframe src=\"http://python-for-signal-processing.blogspot.com/\"  width=\"100%\" height=\"450\">\n",
        "</iframe>"
       ],
       "metadata": {},
       "output_type": "pyout",
       "prompt_number": 6,
       "text": [
        "<IPython.core.display.HTML object>"
       ]
      }
     ],
     "prompt_number": 6
    },
    {
     "cell_type": "heading",
     "level": 2,
     "metadata": {
      "slideshow": {
       "slide_type": "slide"
      }
     },
     "source": [
      "Technical blogging"
     ]
    },
    {
     "cell_type": "markdown",
     "metadata": {
      "slideshow": {
       "slide_type": "-"
      }
     },
     "source": [
      "Jake Vanderplas and others publish technical blogs that are authored as IPython Notebooks."
     ]
    },
    {
     "cell_type": "code",
     "collapsed": false,
     "input": [
      "website('http://jakevdp.github.io/blog/2013/08/28/understanding-the-fft/')"
     ],
     "language": "python",
     "metadata": {},
     "outputs": [
      {
       "html": [
        "<iframe src=\"http://jakevdp.github.io/blog/2013/08/28/understanding-the-fft/\"  width=\"100%\" height=\"450\">\n",
        "</iframe>"
       ],
       "metadata": {},
       "output_type": "pyout",
       "prompt_number": 7,
       "text": [
        "<IPython.core.display.HTML object>"
       ]
      }
     ],
     "prompt_number": 7
    },
    {
     "cell_type": "heading",
     "level": 2,
     "metadata": {
      "slideshow": {
       "slide_type": "slide"
      }
     },
     "source": [
      "Social media"
     ]
    },
    {
     "cell_type": "markdown",
     "metadata": {
      "slideshow": {
       "slide_type": "-"
      }
     },
     "source": [
      "Many individuals are now using http://nbviewer.ipython.org with [Twitter](http://twitter.com) to *speak* about a wide range of technical work."
     ]
    },
    {
     "cell_type": "code",
     "collapsed": false,
     "input": [
      "Image('images/twitter_post.png')"
     ],
     "language": "python",
     "metadata": {},
     "outputs": [
      {
       "metadata": {},
       "output_type": "pyout",
       "png": "[encoded data removed]",
       "prompt_number": 8,
       "text": [
        "<IPython.core.display.Image object>"
       ]
      }
     ],
     "prompt_number": 8
    },
    {
     "cell_type": "heading",
     "level": 2,
     "metadata": {
      "slideshow": {
       "slide_type": "slide"
      }
     },
     "source": [
      "Peter Norvig"
     ]
    },
    {
     "cell_type": "markdown",
     "metadata": {
      "slideshow": {
       "slide_type": "-"
      }
     },
     "source": [
      "Peter Norvig (Director of Research at Google) has been using the Notebook to explore interesting algorithmic problems. He began with a notebook inspired by a regular expression golf question from xkcd [#1313](http://xkcd.com/1313/):\n",
      "\n",
      "> Can I come up with an algorithm to find a short regex that matches the [presidential] winners and not the losers?"
     ]
    },
    {
     "cell_type": "code",
     "collapsed": false,
     "input": [
      "website('http://nbviewer.ipython.org/url/norvig.com/ipython/xkcd1313.ipynb')"
     ],
     "language": "python",
     "metadata": {},
     "outputs": [
      {
       "html": [
        "<iframe src=\"http://nbviewer.ipython.org/url/norvig.com/ipython/xkcd1313.ipynb\"  width=\"100%\" height=\"450\">\n",
        "</iframe>"
       ],
       "metadata": {},
       "output_type": "pyout",
       "prompt_number": 9,
       "text": [
        "<IPython.core.display.HTML object>"
       ]
      }
     ],
     "prompt_number": 9
    },
    {
     "cell_type": "markdown",
     "metadata": {},
     "source": [
      "This notebok spawned a huge amount of interest in this problem. A number of individuals started to interact with Peter over email about the algorithmic questions involved. This led to a second notebook on the topic:"
     ]
    },
    {
     "cell_type": "code",
     "collapsed": false,
     "input": [
      "website(\"http://nbviewer.ipython.org/url/norvig.com/ipython/xkcd1313-part2.ipynb\")"
     ],
     "language": "python",
     "metadata": {},
     "outputs": [
      {
       "html": [
        "<iframe src=\"http://nbviewer.ipython.org/url/norvig.com/ipython/xkcd1313-part2.ipynb\"  width=\"100%\" height=\"450\">\n",
        "</iframe>"
       ],
       "metadata": {},
       "output_type": "pyout",
       "prompt_number": 10,
       "text": [
        "<IPython.core.display.HTML object>"
       ]
      }
     ],
     "prompt_number": 10
    },
    {
     "cell_type": "markdown",
     "metadata": {},
     "source": [
      "The notebook makes its easy to have detailed technical discussions involving code and data that are  open and reproducible."
     ]
    },
    {
     "cell_type": "heading",
     "level": 2,
     "metadata": {
      "slideshow": {
       "slide_type": "slide"
      }
     },
     "source": [
      "NASA/JPL"
     ]
    },
    {
     "cell_type": "markdown",
     "metadata": {
      "slideshow": {
       "slide_type": "-"
      }
     },
     "source": [
      "NASA/JPL is using the IPython Notebook on on various teams and is running nbviewer internally to share IPython Notebooks:"
     ]
    },
    {
     "cell_type": "code",
     "collapsed": false,
     "input": [
      "Image('images/NASA-nbviewer.jpg')"
     ],
     "language": "python",
     "metadata": {},
     "outputs": []
    },
    {
     "cell_type": "heading",
     "level": 2,
     "metadata": {
      "slideshow": {
       "slide_type": "slide"
      }
     },
     "source": [
      "Data-driven journalism"
     ]
    },
    {
     "cell_type": "markdown",
     "metadata": {
      "slideshow": {
       "slide_type": "-"
      }
     },
     "source": [
      "The Notebook is being used in reproducible, data-driven journalism. Here is an example from [538](http://fivethirtyeight.com).\n",
      "\n",
      "On April 1, 2014, Walter Hickey of 538, published an article entitled [The Dollars-and-Cents Case Against Hollywood's Exclusion of Women](http://fivethirtyeight.com/features/the-dollar-and-cents-case-against-hollywoods-exclusion-of-women/) about the [Bechdel test](http://www.npr.org/templates/story/story.php?storyId=94202522), which provides a simple way to model the prominence of women in movies.\n",
      "\n",
      "On April 7, 2014, Brian Keegan, a post-doctoral research fellow in computational social science Northeastern University, published a blog post entitled [The Need for Openness in Data Journalism](http://www.brianckeegan.com/2014/04/the-need-for-openness-in-data-journalism/). Along with the blog post, he published a replication of Walter Hickey's analysis using the IPython Notebook and nbviewer."
     ]
    },
    {
     "cell_type": "code",
     "collapsed": false,
     "input": [
      "website(\"http://nbviewer.ipython.org/github/brianckeegan/Bechdel/blob/master/Bechdel_test.ipynb\")"
     ],
     "language": "python",
     "metadata": {},
     "outputs": []
    },
    {
     "cell_type": "markdown",
     "metadata": {},
     "source": [
      "This caught the attention of Walter Hickey:\n",
      "\n",
      "<img src=\"images/walt_hickey.png\">\n",
      "\n",
      "and led to a [follow up article](http://fivethirtyeight.com/datalab/the-bechdel-test-checking-our-work/) on 538 along with the posting of Walter Hickey's data and code on GitHub. We followed that up by creating an IPython Notebook version of the original data analysis posted in the 538 GitHub repository:"
     ]
    },
    {
     "cell_type": "code",
     "collapsed": false,
     "input": [
      "website(\"http://nbviewer.ipython.org/github/ellisonbg/data/blob/r-notebook/bechdel/analyze-bechdel.ipynb\")"
     ],
     "language": "python",
     "metadata": {},
     "outputs": []
    },
    {
     "cell_type": "heading",
     "level": 2,
     "metadata": {
      "slideshow": {
       "slide_type": "slide"
      }
     },
     "source": [
      "Scientific American"
     ]
    },
    {
     "cell_type": "markdown",
     "metadata": {},
     "source": [
      "Mark Fischetti and Roberto de Almeida publish an article in [Scientific American](http://www.scientificamerican.com) entitled [Warning Ocean Threatens Sea Life](http://www.scientificamerican.com/article/warming-ocean-threatens-sea-life/). The main plots in the article were created with a notebook that is linked to from the article."
     ]
    },
    {
     "cell_type": "code",
     "collapsed": false,
     "input": [
      "website(\"http://www.scientificamerican.com/article/warming-ocean-threatens-sea-life/\")"
     ],
     "language": "python",
     "metadata": {},
     "outputs": []
    },
    {
     "cell_type": "heading",
     "level": 2,
     "metadata": {
      "slideshow": {
       "slide_type": "slide"
      }
     },
     "source": [
      "Teaching"
     ]
    },
    {
     "cell_type": "markdown",
     "metadata": {},
     "source": [
      "The IPython Notebook is being used for lecture materials and student work in a number of university and high school courses on scientific computing and data science. Most of these courses are being developed publicly on GitHub. Here is a short list:"
     ]
    },
    {
     "cell_type": "code",
     "collapsed": false,
     "input": [
      "%%file courses.csv\n",
      "\"Course\",\"University\",\"Instructor\"\n",
      "\"Data Science (CS 109)\",\"Harvard University\",\"Pfister and Blitzstein\"\n",
      "\"Practical Data Science\",\"NYU\",\"Josh Attenberg\"\n",
      "\"Scientific Computing (ASTR 599)\",\"University of Washington\",\"Jake Vanderplas\"\n",
      "\"Working with Open Data\",\"UC Berkeley\",\"Raymond Yee\"\n",
      "\"Computational Physics\",\"Cal Poly\",\"Jennifer Klay\"\n",
      "\"Introduction to Programming\",\"Alaskan High School\",\"Eric Matthes\"\n",
      "\"Aerodynamics-Hydrodynamics (MAE 6226)\",\"George Washington University\",\"Lorena Barba\"\n",
      "\"HyperPython: hyperbolic conservation laws\",\"King Abdullah University of Science and Technology\",\"David Ketcheson\""
     ],
     "language": "python",
     "metadata": {},
     "outputs": []
    },
    {
     "cell_type": "code",
     "collapsed": false,
     "input": [
      "import pandas"
     ],
     "language": "python",
     "metadata": {},
     "outputs": []
    },
    {
     "cell_type": "code",
     "collapsed": false,
     "input": [
      "df = pandas.read_csv('courses.csv'); df"
     ],
     "language": "python",
     "metadata": {},
     "outputs": []
    },
    {
     "cell_type": "heading",
     "level": 2,
     "metadata": {
      "slideshow": {
       "slide_type": "slide"
      }
     },
     "source": [
      "Notebook gallery"
     ]
    },
    {
     "cell_type": "markdown",
     "metadata": {},
     "source": [
      "The examples shown here of how the IPython Notebook is being used are merely representative. We maintain a longer [gallery of interesting Notebooks](https://github.com/ipython/ipython/wiki/A-gallery-of-interesting-IPython-Notebooks) that contains a curated list of IPython Notebooks on various topics."
     ]
    },
    {
     "cell_type": "heading",
     "level": 2,
     "metadata": {
      "slideshow": {
       "slide_type": "slide"
      }
     },
     "source": [
      "Styling"
     ]
    },
    {
     "cell_type": "code",
     "collapsed": false,
     "input": [
      "from IPython.display import display, Image, HTML\n",
      "from talktools import website, nbviewer"
     ],
     "language": "python",
     "metadata": {},
     "outputs": [],
     "prompt_number": 1
    },
    {
     "cell_type": "code",
     "collapsed": false,
     "input": [
      "HTML(\"\"\"\n",
      "<style>\n",
      "div.cell.slideshow-slide {margin-top: 500px}\n",
      "</style>\n",
      "\"\"\")"
     ],
     "language": "python",
     "metadata": {},
     "outputs": [
      {
       "html": [
        "\n",
        "<style>\n",
        "div.cell.slideshow-slide {margin-top: 500px}\n",
        "</style>\n"
       ],
       "metadata": {},
       "output_type": "pyout",
       "prompt_number": 2,
       "text": [
        "<IPython.core.display.HTML object>"
       ]
      }
     ],
     "prompt_number": 2
    },
    {
     "cell_type": "code",
     "collapsed": false,
     "input": [],
     "language": "python",
     "metadata": {},
     "outputs": []
    }
   ],
   "metadata": {}
  }
 ]
}